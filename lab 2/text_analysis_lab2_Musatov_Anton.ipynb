{
 "cells": [
  {
   "cell_type": "code",
   "execution_count": 1,
   "metadata": {},
   "outputs": [],
   "source": [
    "import warnings\n",
    "warnings.filterwarnings('ignore')"
   ]
  },
  {
   "cell_type": "code",
   "execution_count": 83,
   "metadata": {},
   "outputs": [],
   "source": [
    "#!pip install pip --upgrade"
   ]
  },
  {
   "cell_type": "code",
   "execution_count": 84,
   "metadata": {},
   "outputs": [],
   "source": [
    "#!pip install nltk sklearn wordcloud pymorphy2 stop_words"
   ]
  },
  {
   "cell_type": "code",
   "execution_count": 85,
   "metadata": {},
   "outputs": [],
   "source": [
    "#!pip install pandas numpy matplotlib seaborn sklearn"
   ]
  },
  {
   "cell_type": "code",
   "execution_count": 1,
   "metadata": {},
   "outputs": [],
   "source": [
    "import pandas as pd\n",
    "import numpy as np\n",
    "import matplotlib.pyplot as plt\n",
    "import re\n",
    "import string\n",
    "import pymorphy2\n",
    "import seaborn as sns\n",
    "from scipy.sparse import *\n",
    "import stop_words\n",
    "from nltk.stem.snowball import RussianStemmer\n",
    "from nltk.tokenize import sent_tokenize, word_tokenize \n",
    "from nltk.stem import PorterStemmer, WordNetLemmatizer\n",
    "from sklearn.feature_extraction.text import CountVectorizer\n",
    "from sklearn.feature_extraction.text import TfidfTransformer\n",
    "import json\n",
    "\n",
    "%matplotlib inline"
   ]
  },
  {
   "cell_type": "code",
   "execution_count": 2,
   "metadata": {},
   "outputs": [],
   "source": [
    "def log_progress(sequence, every=None, size=None, name='Items'):\n",
    "    from ipywidgets import IntProgress, HTML, VBox\n",
    "    from IPython.display import display\n",
    "\n",
    "    is_iterator = False\n",
    "    if size is None:\n",
    "        try:\n",
    "            size = len(sequence)\n",
    "        except TypeError:\n",
    "            is_iterator = True\n",
    "    if size is not None:\n",
    "        if every is None:\n",
    "            if size <= 200:\n",
    "                every = 1\n",
    "            else:\n",
    "                every = int(size / 200)     # every 0.5%\n",
    "    else:\n",
    "        assert every is not None, 'sequence is iterator, set every'\n",
    "\n",
    "    if is_iterator:\n",
    "        progress = IntProgress(min=0, max=1, value=1)\n",
    "        progress.bar_style = 'info'\n",
    "    else:\n",
    "        progress = IntProgress(min=0, max=size, value=0)\n",
    "    label = HTML()\n",
    "    box = VBox(children=[label, progress])\n",
    "    display(box)\n",
    "\n",
    "    index = 0\n",
    "    try:\n",
    "        for index, record in enumerate(sequence, 1):\n",
    "            if index == 1 or index % every == 0:\n",
    "                if is_iterator:\n",
    "                    label.value = '{name}: {index} / ?'.format(\n",
    "                        name=name,\n",
    "                        index=index\n",
    "                    )\n",
    "                else:\n",
    "                    progress.value = index\n",
    "                    label.value = u'{name}: {index} / {size}'.format(\n",
    "                        name=name,\n",
    "                        index=index,\n",
    "                        size=size\n",
    "                    )\n",
    "            yield record\n",
    "    except:\n",
    "        progress.bar_style = 'danger'\n",
    "        raise\n",
    "    else:\n",
    "        progress.bar_style = 'success'\n",
    "        progress.value = index\n",
    "        label.value = \"{name}: {index}\".format(\n",
    "            name=name,\n",
    "            index=str(index or '?')\n",
    "        )"
   ]
  },
  {
   "cell_type": "markdown",
   "metadata": {},
   "source": [
    "**Загружаем данные**"
   ]
  },
  {
   "cell_type": "code",
   "execution_count": 3,
   "metadata": {},
   "outputs": [
    {
     "data": {
      "text/html": [
       "<div>\n",
       "<style scoped>\n",
       "    .dataframe tbody tr th:only-of-type {\n",
       "        vertical-align: middle;\n",
       "    }\n",
       "\n",
       "    .dataframe tbody tr th {\n",
       "        vertical-align: top;\n",
       "    }\n",
       "\n",
       "    .dataframe thead th {\n",
       "        text-align: right;\n",
       "    }\n",
       "</style>\n",
       "<table border=\"1\" class=\"dataframe\">\n",
       "  <thead>\n",
       "    <tr style=\"text-align: right;\">\n",
       "      <th></th>\n",
       "      <th>article_id</th>\n",
       "      <th>category</th>\n",
       "      <th>title</th>\n",
       "      <th>text</th>\n",
       "      <th>tags</th>\n",
       "    </tr>\n",
       "  </thead>\n",
       "  <tbody>\n",
       "    <tr>\n",
       "      <th>0</th>\n",
       "      <td>https://www.nn.ru/text/auto/2022/01/12/70369148/</td>\n",
       "      <td>auto</td>\n",
       "      <td>Кризис ОСАГО залатали рублем. Полисы резко под...</td>\n",
       "      <td>ОСАГО сильно прибавило для неблагополучных вод...</td>\n",
       "      <td>[ОСАГО, автозакон, страховка]</td>\n",
       "    </tr>\n",
       "    <tr>\n",
       "      <th>1</th>\n",
       "      <td>https://www.nn.ru/text/auto/2022/01/11/70366607/</td>\n",
       "      <td>auto</td>\n",
       "      <td>Я пропустил техосмотр в 2021 году. Оштрафуют л...</td>\n",
       "      <td>Обязательный техосмотр для частных машин отмен...</td>\n",
       "      <td>[автозакон, техосмотр, автоликбез]</td>\n",
       "    </tr>\n",
       "    <tr>\n",
       "      <th>2</th>\n",
       "      <td>https://www.nn.ru/text/auto/2022/01/08/70343681/</td>\n",
       "      <td>auto</td>\n",
       "      <td>Цены отмороженные: как кризис автомобильных пр...</td>\n",
       "      <td>Автомобили снова стали для большинства из нас ...</td>\n",
       "      <td>[автопром, авторынок, цены на авто]</td>\n",
       "    </tr>\n",
       "    <tr>\n",
       "      <th>3</th>\n",
       "      <td>https://www.nn.ru/text/auto/2022/01/07/70350704/</td>\n",
       "      <td>auto</td>\n",
       "      <td>Новые Vesta и Logan, пятый Sportage и много «к...</td>\n",
       "      <td>Главная премьера начала года — новый KIA Sport...</td>\n",
       "      <td>[автопром, авторынок, цены на авто]</td>\n",
       "    </tr>\n",
       "    <tr>\n",
       "      <th>4</th>\n",
       "      <td>https://www.nn.ru/text/auto/2022/01/04/70343603/</td>\n",
       "      <td>auto</td>\n",
       "      <td>Бензин по 50 рублей — это лишь начало. Что жде...</td>\n",
       "      <td>Топливо дорожало весь прошлый год и установило...</td>\n",
       "      <td>[АЗС, бензин, топливо, цены на топливо]</td>\n",
       "    </tr>\n",
       "  </tbody>\n",
       "</table>\n",
       "</div>"
      ],
      "text/plain": [
       "                                         article_id category  \\\n",
       "0  https://www.nn.ru/text/auto/2022/01/12/70369148/     auto   \n",
       "1  https://www.nn.ru/text/auto/2022/01/11/70366607/     auto   \n",
       "2  https://www.nn.ru/text/auto/2022/01/08/70343681/     auto   \n",
       "3  https://www.nn.ru/text/auto/2022/01/07/70350704/     auto   \n",
       "4  https://www.nn.ru/text/auto/2022/01/04/70343603/     auto   \n",
       "\n",
       "                                               title  \\\n",
       "0  Кризис ОСАГО залатали рублем. Полисы резко под...   \n",
       "1  Я пропустил техосмотр в 2021 году. Оштрафуют л...   \n",
       "2  Цены отмороженные: как кризис автомобильных пр...   \n",
       "3  Новые Vesta и Logan, пятый Sportage и много «к...   \n",
       "4  Бензин по 50 рублей — это лишь начало. Что жде...   \n",
       "\n",
       "                                                text  \\\n",
       "0  ОСАГО сильно прибавило для неблагополучных вод...   \n",
       "1  Обязательный техосмотр для частных машин отмен...   \n",
       "2  Автомобили снова стали для большинства из нас ...   \n",
       "3  Главная премьера начала года — новый KIA Sport...   \n",
       "4  Топливо дорожало весь прошлый год и установило...   \n",
       "\n",
       "                                      tags  \n",
       "0            [ОСАГО, автозакон, страховка]  \n",
       "1       [автозакон, техосмотр, автоликбез]  \n",
       "2      [автопром, авторынок, цены на авто]  \n",
       "3      [автопром, авторынок, цены на авто]  \n",
       "4  [АЗС, бензин, топливо, цены на топливо]  "
      ]
     },
     "execution_count": 3,
     "metadata": {},
     "output_type": "execute_result"
    }
   ],
   "source": [
    "news = []\n",
    "with open('corpus.json', 'r', encoding=\"utf-8\") as file:\n",
    "    text = file.read()\n",
    "    dct = json.loads(text)\n",
    "data = pd.DataFrame(dct['catalog'])\n",
    "data.head()"
   ]
  },
  {
   "cell_type": "markdown",
   "metadata": {},
   "source": [
    "## Предобработка собранных новостей"
   ]
  },
  {
   "cell_type": "markdown",
   "metadata": {},
   "source": [
    "**Тексты**"
   ]
  },
  {
   "cell_type": "code",
   "execution_count": 4,
   "metadata": {},
   "outputs": [
    {
     "data": {
      "text/plain": [
       "0       ОСАГО сильно прибавило для неблагополучных вод...\n",
       "1       Обязательный техосмотр для частных машин отмен...\n",
       "2       Автомобили снова стали для большинства из нас ...\n",
       "3       Главная премьера начала года — новый KIA Sport...\n",
       "4       Топливо дорожало весь прошлый год и установило...\n",
       "                              ...                        \n",
       "4094    Поделиться   Предсказать массовые сокращения с...\n",
       "4095    Поделиться   NN.RU: Трудоустройство инвалидов ...\n",
       "4096    Поделиться   Эксперты МОТ обосновали предложен...\n",
       "4097    commons.wikimedia.org   Поделиться   \\- В Росс...\n",
       "4098    Сбербанк   Поделиться   Сбербанк предлагает то...\n",
       "Name: text, Length: 4099, dtype: object"
      ]
     },
     "execution_count": 4,
     "metadata": {},
     "output_type": "execute_result"
    }
   ],
   "source": [
    "data.text"
   ]
  },
  {
   "cell_type": "markdown",
   "metadata": {},
   "source": [
    "**Категории**"
   ]
  },
  {
   "cell_type": "code",
   "execution_count": 5,
   "metadata": {},
   "outputs": [
    {
     "data": {
      "text/plain": [
       "array(['auto', 'gorod', 'health', 'job'], dtype=object)"
      ]
     },
     "execution_count": 5,
     "metadata": {},
     "output_type": "execute_result"
    }
   ],
   "source": [
    "data.category.unique()"
   ]
  },
  {
   "cell_type": "code",
   "execution_count": 6,
   "metadata": {},
   "outputs": [],
   "source": [
    "labels = {'auto':0, 'gorod':1, 'health':2, 'job':3}"
   ]
  },
  {
   "cell_type": "code",
   "execution_count": 7,
   "metadata": {},
   "outputs": [
    {
     "name": "stdout",
     "output_type": "stream",
     "text": [
      "1036 новостей в категории auto\n",
      "1024 новостей в категории gorod\n",
      "1032 новостей в категории health\n",
      "1007 новостей в категории job\n"
     ]
    }
   ],
   "source": [
    "for cat in labels.keys():\n",
    "    print(f'{data[data.category == cat].count()[0]} новостей в категории {cat}')"
   ]
  },
  {
   "cell_type": "markdown",
   "metadata": {},
   "source": [
    "Мы имеем всего 4099 новостей в 4-х категориях. Каждая категория содержит около 1000 новостей."
   ]
  },
  {
   "cell_type": "code",
   "execution_count": 8,
   "metadata": {},
   "outputs": [
    {
     "data": {
      "application/vnd.jupyter.widget-view+json": {
       "model_id": "91f26c20a43d497493f3c18f2d45706b",
       "version_major": 2,
       "version_minor": 0
      },
      "text/plain": [
       "VBox(children=(HTML(value=''), IntProgress(value=0, max=4099)))"
      ]
     },
     "metadata": {},
     "output_type": "display_data"
    }
   ],
   "source": [
    "corpus, texts = [], []\n",
    "categories = data.category.to_list()\n",
    "\n",
    "for message in log_progress(data.text):\n",
    "    corpus.append(message)\n",
    "    texts.append(message)\n",
    "#     break\n",
    "\n",
    "# print(len(corpus), len(texts))"
   ]
  },
  {
   "cell_type": "markdown",
   "metadata": {},
   "source": [
    "**Посмотрим на одну новость из корпуса**"
   ]
  },
  {
   "cell_type": "code",
   "execution_count": 9,
   "metadata": {},
   "outputs": [
    {
     "data": {
      "text/plain": [
       "'На крытой парковке магазина «О′кей» на Комсомольской площади нижегородка Оля Андрушенко запечатлела иномарку, которая перегородила половину выхода.   Поделиться   Водитель Toyota на совершенно пустой парковке у торгового центра оставил свой автомобиль на месте для инвалидов. Автор фотографии подписал снимок кратко: «Но алени...».      Поделиться   Борис Реутов сделал прекрасный утренний кадр: в лучах восхода два одинаковых автомобиля Opel перекрыли съезд с бордюра. Настоящий квест для мам с колясками. Как говорится: «¡No pasaran!»   Поделиться   Традиционный кадр из центра Сормова: автомобилист встал на пешеходном переходе и перекрыл съезд с бордюра.   Поделиться   Большой дорожный просвет позволяет беспрепятственно парковаться на газоне.   — Понтов ровно на старый Lexus... — подписал свое фото Александр Демин.   Поделиться   На каждый съезд с бордюра найдется свой автолюбитель! Очередного автохама сфотографировал Сергей Гаврилюк.   Поделиться   — Молодец. Очень хорошо и грамотно припарковался на улице Минина, — подписала снимок Анастасия. — Прямо перед входом в «Зеленый парус». Перекрыл вход, двери не открыть.   Поделиться   Притаившийся за деревом автомобиль попал в кадр нижегородца в одном из дворов Нижнего Новгорода.   — Вот так паркуются у нас во дворе, — подписал фото автор. — Место есть, но так удобней. Куда смотрит ДПС — непонятно.   Поделиться   '"
      ]
     },
     "execution_count": 9,
     "metadata": {},
     "output_type": "execute_result"
    }
   ],
   "source": [
    "corpus[1000]"
   ]
  },
  {
   "cell_type": "markdown",
   "metadata": {},
   "source": [
    "Можно заметить, что в тексте несколько раз встречается надпись *\"Поделиться\"*. Исправим это."
   ]
  },
  {
   "cell_type": "code",
   "execution_count": 10,
   "metadata": {},
   "outputs": [
    {
     "name": "stdout",
     "output_type": "stream",
     "text": [
      "4099\n"
     ]
    }
   ],
   "source": [
    "corpus = np.asarray([doc.replace('Поделиться', '') for doc in corpus])\n",
    "print(len(corpus))"
   ]
  },
  {
   "cell_type": "markdown",
   "metadata": {},
   "source": [
    "**Уберем ссылки:**"
   ]
  },
  {
   "cell_type": "code",
   "execution_count": 11,
   "metadata": {},
   "outputs": [
    {
     "name": "stdout",
     "output_type": "stream",
     "text": [
      "4099\n"
     ]
    }
   ],
   "source": [
    "corpus = [re.sub(r'\\w+:\\/{2}[\\d\\w-]+(\\.[\\d\\w-]+)*(?:(?:\\/[^\\s/]*))*', u'', doc) for doc in corpus]\n",
    "print(len(corpus))"
   ]
  },
  {
   "cell_type": "markdown",
   "metadata": {},
   "source": [
    "**Уберем лишние пробелы:**"
   ]
  },
  {
   "cell_type": "code",
   "execution_count": 12,
   "metadata": {},
   "outputs": [
    {
     "name": "stdout",
     "output_type": "stream",
     "text": [
      "4099\n"
     ]
    }
   ],
   "source": [
    "corpus = [re.sub(' +' , ' ', doc) for doc in corpus]\n",
    "corpus = np.asarray([doc.strip().strip('\\t').replace('\\n', u'')    for doc in corpus])\n",
    "print(len(corpus))"
   ]
  },
  {
   "cell_type": "markdown",
   "metadata": {},
   "source": [
    "**Уберем другие лишние символы:**"
   ]
  },
  {
   "cell_type": "code",
   "execution_count": 13,
   "metadata": {},
   "outputs": [],
   "source": [
    "EXCLUDE_SYMBOLS_STR = u''.join(['№', '«', 'ђ', '°', '±', '‚', 'ћ', '‰', '…', '»', 'ѓ', 'µ', '·', 'ґ', 'њ', 'ї', 'џ', 'є', '‹',\n",
    "                                '‡', '†', '¶', 'ќ', '€', '“', 'ў', '§', '„', '”', '\\ufeff', '’', 'љ', '›', '•', '—', '‘', \n",
    "                                '\\x7f', '\\xad', '¤', '\\xa0'])\n",
    "\n",
    "GRAMMS = ['NOUN', 'ADJF', 'ADJS', 'PRTF', 'PRTS', 'GRND', 'ADVB']"
   ]
  },
  {
   "cell_type": "code",
   "execution_count": 14,
   "metadata": {},
   "outputs": [
    {
     "data": {
      "text/plain": [
       "'!\"#$%&\\'()*+,-./:;<=>?@[\\\\]^_`{|}~'"
      ]
     },
     "execution_count": 14,
     "metadata": {},
     "output_type": "execute_result"
    }
   ],
   "source": [
    "string.punctuation"
   ]
  },
  {
   "cell_type": "code",
   "execution_count": 15,
   "metadata": {},
   "outputs": [],
   "source": [
    "regex_punct = re.compile('[%s]' % re.escape(string.punctuation))\n",
    "regex_dig = re.compile('[%s]' % re.escape(string.digits))\n",
    "regex_symb = re.compile('[%s]' % re.escape(EXCLUDE_SYMBOLS_STR))\n",
    "regex_struct = re.compile('[%s]' % string.printable + string.whitespace)\n",
    "emoji_pattern = re.compile(\"[\"\n",
    "        \"\\U0001F600-\\U0001F64F\"  # emoticons\n",
    "        \"\\U0001F300-\\U0001F5FF\"  # symbols & pictographs\n",
    "        \"\\U0001F680-\\U0001F6FF\"  # transport & map symbols\n",
    "        \"\\U0001F1E0-\\U0001F1FF\"  # flags (iOS)\n",
    "                           \"]+\")"
   ]
  },
  {
   "cell_type": "code",
   "execution_count": 16,
   "metadata": {},
   "outputs": [
    {
     "name": "stdout",
     "output_type": "stream",
     "text": [
      "4099\n"
     ]
    }
   ],
   "source": [
    "corpus = [regex_punct.sub('', doc) for doc in corpus]\n",
    "print(len(corpus))"
   ]
  },
  {
   "cell_type": "code",
   "execution_count": 17,
   "metadata": {},
   "outputs": [
    {
     "name": "stdout",
     "output_type": "stream",
     "text": [
      "4099\n"
     ]
    }
   ],
   "source": [
    "corpus = [regex_dig.sub('', doc) for doc in corpus]\n",
    "print(len(corpus))"
   ]
  },
  {
   "cell_type": "code",
   "execution_count": 18,
   "metadata": {},
   "outputs": [
    {
     "name": "stdout",
     "output_type": "stream",
     "text": [
      "4099\n"
     ]
    }
   ],
   "source": [
    "corpus = [regex_symb.sub(' ', doc) for doc in corpus]\n",
    "print(len(corpus))"
   ]
  },
  {
   "cell_type": "code",
   "execution_count": 19,
   "metadata": {},
   "outputs": [
    {
     "name": "stdout",
     "output_type": "stream",
     "text": [
      "4099\n"
     ]
    }
   ],
   "source": [
    "corpus = [regex_struct.sub('', doc) for doc in corpus]\n",
    "print(len(corpus))"
   ]
  },
  {
   "cell_type": "code",
   "execution_count": 20,
   "metadata": {},
   "outputs": [
    {
     "name": "stdout",
     "output_type": "stream",
     "text": [
      "4099\n"
     ]
    }
   ],
   "source": [
    "corpus = [re.sub(' +' , ' ', doc.strip()) for doc in corpus]\n",
    "print(len(corpus))"
   ]
  },
  {
   "cell_type": "code",
   "execution_count": 21,
   "metadata": {},
   "outputs": [
    {
     "name": "stdout",
     "output_type": "stream",
     "text": [
      "4099\n"
     ]
    }
   ],
   "source": [
    "corpus = [doc.lower() for doc in corpus]\n",
    "print(len(corpus))"
   ]
  },
  {
   "cell_type": "code",
   "execution_count": 22,
   "metadata": {},
   "outputs": [
    {
     "name": "stdout",
     "output_type": "stream",
     "text": [
      "4099\n"
     ]
    }
   ],
   "source": [
    "corpus = [emoji_pattern.sub('', doc) for doc in corpus]\n",
    "print(len(corpus))"
   ]
  },
  {
   "cell_type": "code",
   "execution_count": 23,
   "metadata": {},
   "outputs": [],
   "source": [
    "new_texts = []\n",
    "new_corpus = []\n",
    "new_categories = []\n",
    "\n",
    "for corpus_doc, text, cat in zip(corpus, texts, categories):\n",
    "    if (len(corpus_doc) == 0):\n",
    "        continue\n",
    "    new_corpus.append(corpus_doc)\n",
    "    new_texts.append(text)\n",
    "    new_categories.append(cat)"
   ]
  },
  {
   "cell_type": "code",
   "execution_count": 24,
   "metadata": {},
   "outputs": [],
   "source": [
    "corpus = new_corpus\n",
    "texts = new_texts\n",
    "categories = new_categories"
   ]
  },
  {
   "cell_type": "markdown",
   "metadata": {},
   "source": [
    "После предобработки и приведения к нижнему регистру наша новость выглядит вот так."
   ]
  },
  {
   "cell_type": "code",
   "execution_count": 25,
   "metadata": {},
   "outputs": [
    {
     "data": {
      "text/plain": [
       "'на крытой парковке магазина о′кей на комсомольской площади нижегородка оля андрушенко запечатлела иномарку которая перегородила половину выхода водитель toyota на совершенно пустой парковке у торгового центра оставил свой автомобиль на месте для инвалидов автор фотографии подписал снимок кратко но алени борис реутов сделал прекрасный утренний кадр в лучах восхода два одинаковых автомобиля opel перекрыли съезд с бордюра настоящий квест для мам с колясками как говорится ¡no pasaran традиционный кадр из центра сормова автомобилист встал на пешеходном переходе и перекрыл съезд с бордюра большой дорожный просвет позволяет беспрепятственно парковаться на газоне понтов ровно на старый lexus подписал свое фото александр демин на каждый съезд с бордюра найдется свой автолюбитель очередного автохама сфотографировал сергей гаврилюк молодец очень хорошо и грамотно припарковался на улице минина подписала снимок анастасия прямо перед входом в зеленый парус перекрыл вход двери не открыть притаившийся за деревом автомобиль попал в кадр нижегородца в одном из дворов нижнего новгорода вот так паркуются у нас во дворе подписал фото автор место есть но так удобней куда смотрит дпс непонятно'"
      ]
     },
     "execution_count": 25,
     "metadata": {},
     "output_type": "execute_result"
    }
   ],
   "source": [
    "corpus[1000]"
   ]
  },
  {
   "cell_type": "markdown",
   "metadata": {},
   "source": [
    "Удалим из текстов стоп-слова."
   ]
  },
  {
   "cell_type": "code",
   "execution_count": 26,
   "metadata": {},
   "outputs": [],
   "source": [
    "morph = pymorphy2.MorphAnalyzer()"
   ]
  },
  {
   "cell_type": "code",
   "execution_count": 27,
   "metadata": {},
   "outputs": [
    {
     "data": {
      "application/vnd.jupyter.widget-view+json": {
       "model_id": "80e8f4248fe04d57bc084d8472b8eb3d",
       "version_major": 2,
       "version_minor": 0
      },
      "text/plain": [
       "VBox(children=(HTML(value=''), IntProgress(value=0, max=4095)))"
      ]
     },
     "metadata": {},
     "output_type": "display_data"
    },
    {
     "name": "stdout",
     "output_type": "stream",
     "text": [
      "4095 4095\n"
     ]
    }
   ],
   "source": [
    "corpus_tokens = []\n",
    "inds_to_drop = []\n",
    "\n",
    "for i, sentence in enumerate(log_progress(corpus[:])):\n",
    "    tmp_tokens = []\n",
    "    sp = sentence.split()\n",
    "    for word in sp:\n",
    "        if word not in stop_words.get_stop_words('ru'):\n",
    "            if morph.word_is_known(word):\n",
    "                tmp_tokens.append(word)\n",
    "    if len(tmp_tokens) > 0:\n",
    "        corpus_tokens.append(tmp_tokens)\n",
    "    else:\n",
    "        inds_to_drop.append(i)\n",
    "#     break\n",
    "        \n",
    "print(len(corpus_tokens), len(texts))"
   ]
  },
  {
   "cell_type": "code",
   "execution_count": 28,
   "metadata": {},
   "outputs": [
    {
     "data": {
      "text/plain": [
       "[]"
      ]
     },
     "execution_count": 28,
     "metadata": {},
     "output_type": "execute_result"
    }
   ],
   "source": [
    "inds_to_drop"
   ]
  },
  {
   "cell_type": "markdown",
   "metadata": {},
   "source": [
    "Текстов, состоящих полностью из стоп-слов, нет."
   ]
  },
  {
   "cell_type": "markdown",
   "metadata": {},
   "source": [
    "**Стемминг**"
   ]
  },
  {
   "cell_type": "markdown",
   "metadata": {},
   "source": [
    "Приведем слова во всех текстах к нормальной форме с помощью стемминга."
   ]
  },
  {
   "cell_type": "code",
   "execution_count": 28,
   "metadata": {},
   "outputs": [],
   "source": [
    "stemmer = RussianStemmer()"
   ]
  },
  {
   "cell_type": "code",
   "execution_count": 29,
   "metadata": {},
   "outputs": [
    {
     "data": {
      "application/vnd.jupyter.widget-view+json": {
       "model_id": "ea974cb1757a4078b396055db6fd2c90",
       "version_major": 2,
       "version_minor": 0
      },
      "text/plain": [
       "VBox(children=(HTML(value=''), IntProgress(value=0, max=4095)))"
      ]
     },
     "metadata": {},
     "output_type": "display_data"
    },
    {
     "name": "stdout",
     "output_type": "stream",
     "text": [
      "4095\n"
     ]
    }
   ],
   "source": [
    "corpus_tokens_stem = []\n",
    "\n",
    "for i, tokens in enumerate(log_progress(corpus_tokens[:])):\n",
    "    tmp = [stemmer.stem(word) for word in tokens]\n",
    "    corpus_tokens_stem.append(tmp)\n",
    "#     break\n",
    "    \n",
    "print(len(corpus_tokens_stem))"
   ]
  },
  {
   "cell_type": "markdown",
   "metadata": {},
   "source": [
    "До"
   ]
  },
  {
   "cell_type": "code",
   "execution_count": 142,
   "metadata": {},
   "outputs": [
    {
     "data": {
      "text/plain": [
       "['дтп', 'произошло', 'челябинске', 'надежда', 'погибла']"
      ]
     },
     "execution_count": 142,
     "metadata": {},
     "output_type": "execute_result"
    }
   ],
   "source": [
    "corpus_tokens[100][:5]"
   ]
  },
  {
   "cell_type": "markdown",
   "metadata": {},
   "source": [
    "После"
   ]
  },
  {
   "cell_type": "code",
   "execution_count": 143,
   "metadata": {},
   "outputs": [
    {
     "data": {
      "text/plain": [
       "['дтп', 'произошл', 'челябинск', 'надежд', 'погибл']"
      ]
     },
     "execution_count": 143,
     "metadata": {},
     "output_type": "execute_result"
    }
   ],
   "source": [
    "corpus_tokens_stem[100][:5]"
   ]
  },
  {
   "cell_type": "code",
   "execution_count": 32,
   "metadata": {},
   "outputs": [
    {
     "name": "stdout",
     "output_type": "stream",
     "text": [
      "4095 4095\n"
     ]
    },
    {
     "name": "stderr",
     "output_type": "stream",
     "text": [
      "C:\\Users\\antid\\AppData\\Local\\Temp\\ipykernel_14236\\3369661828.py:1: VisibleDeprecationWarning: Creating an ndarray from ragged nested sequences (which is a list-or-tuple of lists-or-tuples-or ndarrays with different lengths or shapes) is deprecated. If you meant to do this, you must specify 'dtype=object' when creating the ndarray.\n",
      "  corpus_tokens_stem = np.asarray(corpus_tokens_stem)\n"
     ]
    }
   ],
   "source": [
    "corpus_tokens_stem = np.asarray(corpus_tokens_stem)\n",
    "texts = np.asarray(texts)\n",
    "\n",
    "print(len(corpus_tokens_stem), len(texts))"
   ]
  },
  {
   "cell_type": "code",
   "execution_count": 33,
   "metadata": {},
   "outputs": [
    {
     "name": "stdout",
     "output_type": "stream",
     "text": [
      "4095\n"
     ]
    }
   ],
   "source": [
    "diffs = np.asarray([len(tokens) for tokens in corpus_tokens_stem])\n",
    "print(len(diffs))"
   ]
  },
  {
   "cell_type": "code",
   "execution_count": 34,
   "metadata": {},
   "outputs": [
    {
     "data": {
      "text/plain": [
       "array([551, 541, 873, 622, 524])"
      ]
     },
     "execution_count": 34,
     "metadata": {},
     "output_type": "execute_result"
    }
   ],
   "source": [
    "diffs[:5]"
   ]
  },
  {
   "cell_type": "code",
   "execution_count": 35,
   "metadata": {},
   "outputs": [],
   "source": [
    "sns.set(style=\"darkgrid\")"
   ]
  },
  {
   "cell_type": "markdown",
   "metadata": {},
   "source": [
    "**Распределение длин текстов**"
   ]
  },
  {
   "cell_type": "code",
   "execution_count": 36,
   "metadata": {},
   "outputs": [
    {
     "data": {
      "text/plain": [
       "<AxesSubplot:ylabel='Count'>"
      ]
     },
     "execution_count": 36,
     "metadata": {},
     "output_type": "execute_result"
    },
    {
     "data": {
      "image/png": "[encoded data removed]",
      "text/plain": [
       "<Figure size 1080x576 with 1 Axes>"
      ]
     },
     "metadata": {},
     "output_type": "display_data"
    }
   ],
   "source": [
    "plt.figure(figsize=(15, 8))\n",
    "sns.histplot(diffs, bins=100)"
   ]
  },
  {
   "cell_type": "markdown",
   "metadata": {},
   "source": [
    "Как видно из графика основная доля текстов имеет длину в пределах от 0 до 700 токенов."
   ]
  },
  {
   "cell_type": "code",
   "execution_count": 39,
   "metadata": {},
   "outputs": [
    {
     "data": {
      "application/vnd.jupyter.widget-view+json": {
       "model_id": "6fda28528719438cb17db78a98294fe8",
       "version_major": 2,
       "version_minor": 0
      },
      "text/plain": [
       "VBox(children=(HTML(value=''), IntProgress(value=0, max=4095)))"
      ]
     },
     "metadata": {},
     "output_type": "display_data"
    },
    {
     "name": "stdout",
     "output_type": "stream",
     "text": [
      "4058 4058 4058\n"
     ]
    }
   ],
   "source": [
    "stat = {}\n",
    "tmp_corp, tmp_texts, tmp_categories = [], [], []\n",
    "\n",
    "for i, tokens in enumerate(log_progress(corpus_tokens_stem)):\n",
    "    s = ' '.join(tokens)\n",
    "    if stat.get(s, None) is None:\n",
    "        stat[s] = True\n",
    "        tmp_corp.append(tokens)\n",
    "        tmp_texts.append(texts[i])\n",
    "        tmp_categories.append(categories[i])\n",
    "        \n",
    "corpus_tokens_stem = tmp_corp\n",
    "texts = tmp_texts\n",
    "categories = tmp_categories\n",
    "print(len(corpus_tokens_stem), len(texts), len(categories))"
   ]
  },
  {
   "cell_type": "code",
   "execution_count": 40,
   "metadata": {},
   "outputs": [
    {
     "name": "stdout",
     "output_type": "stream",
     "text": [
      "4058 4058 4058\n"
     ]
    },
    {
     "name": "stderr",
     "output_type": "stream",
     "text": [
      "C:\\Users\\antid\\AppData\\Local\\Temp\\ipykernel_14236\\3516711116.py:1: VisibleDeprecationWarning: Creating an ndarray from ragged nested sequences (which is a list-or-tuple of lists-or-tuples-or ndarrays with different lengths or shapes) is deprecated. If you meant to do this, you must specify 'dtype=object' when creating the ndarray.\n",
      "  corpus_tokens_stem = np.asarray(corpus_tokens_stem)\n"
     ]
    }
   ],
   "source": [
    "corpus_tokens_stem = np.asarray(corpus_tokens_stem)\n",
    "texts = np.asarray(texts)\n",
    "categories = np.asarray(categories)\n",
    "\n",
    "print(len(corpus_tokens_stem), len(texts), len(categories))"
   ]
  },
  {
   "cell_type": "code",
   "execution_count": 42,
   "metadata": {},
   "outputs": [
    {
     "name": "stdout",
     "output_type": "stream",
     "text": [
      "4058\n"
     ]
    }
   ],
   "source": [
    "diffs = np.asarray([len(tokens) for tokens in corpus_tokens_stem])\n",
    "print(len(diffs))"
   ]
  },
  {
   "cell_type": "markdown",
   "metadata": {},
   "source": [
    "**Распределение длин текстов после исключения одинаковых наборов токенов**"
   ]
  },
  {
   "cell_type": "code",
   "execution_count": 43,
   "metadata": {},
   "outputs": [
    {
     "data": {
      "text/plain": [
       "<AxesSubplot:ylabel='Count'>"
      ]
     },
     "execution_count": 43,
     "metadata": {},
     "output_type": "execute_result"
    },
    {
     "data": {
      "image/png": "[encoded data removed]",
      "text/plain": [
       "<Figure size 1080x576 with 1 Axes>"
      ]
     },
     "metadata": {},
     "output_type": "display_data"
    }
   ],
   "source": [
    "plt.figure(figsize=(15, 8))\n",
    "sns.histplot(diffs, bins=100)"
   ]
  },
  {
   "cell_type": "markdown",
   "metadata": {},
   "source": [
    "Отберем тексты длиной не менее 10 токенов."
   ]
  },
  {
   "cell_type": "code",
   "execution_count": 45,
   "metadata": {},
   "outputs": [],
   "source": [
    "corp4learning = corpus_tokens_stem[diffs >= 10]\n",
    "texts4learning = texts[diffs >= 10]\n",
    "categories4learning = categories[diffs >= 10]"
   ]
  },
  {
   "cell_type": "code",
   "execution_count": 49,
   "metadata": {},
   "outputs": [],
   "source": [
    "tmp_corp = []\n",
    "\n",
    "for tokens in corp4learning:\n",
    "    tmp_corp.append([t for t in tokens if len(t) > 2])\n",
    "corp4learning = tmp_corp"
   ]
  },
  {
   "cell_type": "markdown",
   "metadata": {},
   "source": [
    "**Словарь**"
   ]
  },
  {
   "cell_type": "code",
   "execution_count": 144,
   "metadata": {},
   "outputs": [
    {
     "name": "stdout",
     "output_type": "stream",
     "text": [
      "Количество токенов в словаре: 33729\n"
     ]
    }
   ],
   "source": [
    "vocab = np.unique(np.concatenate(corp4learning).flatten()).tolist()\n",
    "print(f'Количество токенов в словаре: {len(vocab)}')"
   ]
  },
  {
   "cell_type": "code",
   "execution_count": 145,
   "metadata": {},
   "outputs": [
    {
     "name": "stdout",
     "output_type": "stream",
     "text": [
      "Первые 10 слов в словаре:\n"
     ]
    },
    {
     "data": {
      "text/plain": [
       "['абака',\n",
       " 'абакан',\n",
       " 'абакум',\n",
       " 'абакумов',\n",
       " 'аббревиатур',\n",
       " 'абвер',\n",
       " 'абдоминальн',\n",
       " 'абдулкерим',\n",
       " 'аберрац',\n",
       " 'абзац']"
      ]
     },
     "execution_count": 145,
     "metadata": {},
     "output_type": "execute_result"
    }
   ],
   "source": [
    "print('Первые 10 слов в словаре:')\n",
    "vocab[:10]"
   ]
  },
  {
   "cell_type": "markdown",
   "metadata": {},
   "source": [
    "Таким образом, мы получили датасет из предобработанных текстов, каждый из которых соответсвует классу (категории)."
   ]
  },
  {
   "cell_type": "code",
   "execution_count": 95,
   "metadata": {},
   "outputs": [],
   "source": [
    "X = np.asarray([' '.join(words) for words in corp4learning])\n",
    "y = np.asarray([labels[cat] for cat in categories4learning])"
   ]
  },
  {
   "cell_type": "markdown",
   "metadata": {},
   "source": [
    "Воспользуемся такой техникой извлечения признаков, как мешок слов. У этого метода есть проблема: слова с наибольшей частотой имеют, соответственно, наибольшую оценку. Она решается с помощью TF-IDF."
   ]
  },
  {
   "cell_type": "code",
   "execution_count": 97,
   "metadata": {},
   "outputs": [],
   "source": [
    "vectorizer = CountVectorizer(max_features=5000, min_df=5, max_df=0.7)\n",
    "tfidfconverter = TfidfTransformer()"
   ]
  },
  {
   "cell_type": "code",
   "execution_count": 98,
   "metadata": {},
   "outputs": [],
   "source": [
    "X_trans = vectorizer.fit_transform(X).toarray()\n",
    "X_trans = tfidfconverter.fit_transform(X_trans).toarray()"
   ]
  },
  {
   "cell_type": "code",
   "execution_count": 99,
   "metadata": {},
   "outputs": [],
   "source": [
    "X = X_trans"
   ]
  },
  {
   "cell_type": "markdown",
   "metadata": {},
   "source": [
    "Разобьем датасет на тренировочную и тестовую выборки."
   ]
  },
  {
   "cell_type": "code",
   "execution_count": 100,
   "metadata": {},
   "outputs": [],
   "source": [
    "X_train, X_test, y_train, y_test = train_test_split(X, y, test_size=0.2)"
   ]
  },
  {
   "cell_type": "markdown",
   "metadata": {},
   "source": [
    "# Модели классификации"
   ]
  },
  {
   "cell_type": "markdown",
   "metadata": {},
   "source": [
    "Рассмотрим 6 моделей классификации из библиотеки *sklearn*\n",
    " - KNN\n",
    " - Logistic Regression\n",
    " - Decision Tree Classifier\n",
    " - Random Forest Classifier\n",
    " - AdaBoost Classifier\n",
    " - HistGradientBoosting Classifier"
   ]
  },
  {
   "cell_type": "code",
   "execution_count": 89,
   "metadata": {},
   "outputs": [],
   "source": [
    "from sklearn.neighbors import KNeighborsClassifier\n",
    "from sklearn.linear_model import LogisticRegression\n",
    "from sklearn.tree import DecisionTreeClassifier\n",
    "from sklearn.ensemble import RandomForestClassifier, AdaBoostClassifier, HistGradientBoostingClassifier\n",
    "\n",
    "from sklearn.model_selection import train_test_split, GridSearchCV\n",
    "from sklearn.metrics import classification_report, confusion_matrix, accuracy_score, recall_score, roc_auc_score,precision_score, f1_score"
   ]
  },
  {
   "cell_type": "code",
   "execution_count": 95,
   "metadata": {},
   "outputs": [],
   "source": [
    "def print_report(y_test, y_pred):\n",
    "    print(\"Accuracy:\", accuracy_score(y_test, y_pred))\n",
    "    print(\"Recall:\", recall_score(y_test, y_pred, average='macro'))\n",
    "    print(\"Precision:\", precision_score(y_test, y_pred,average='macro'))\n",
    "    print(\"F1:\", f1_score(y_test, y_pred, average='macro'))\n",
    "    plt.title('Confusion matrix')\n",
    "    sns.heatmap(confusion_matrix(y_test, y_pred), annot=True)\n",
    "    print(classification_report(y_test, y_pred, target_names=list(labels.keys())))"
   ]
  },
  {
   "cell_type": "code",
   "execution_count": 96,
   "metadata": {},
   "outputs": [],
   "source": [
    "def compute_metrics(model_name, y_test, y_pred):\n",
    "    metrics = {}\n",
    "    metrics['model'] = model_name\n",
    "    metrics['accuracy_score'] = accuracy_score(y_test, y_pred)\n",
    "    metrics['recall_score'] = recall_score(y_test, y_pred, average='macro')\n",
    "    metrics['precision_score'] = precision_score(y_test, y_pred,average='macro')\n",
    "    metrics['f1_score'] = f1_score(y_test, y_pred,average='macro')\n",
    "    return metrics.copy()"
   ]
  },
  {
   "cell_type": "markdown",
   "metadata": {},
   "source": [
    "Для подбора оптимальных параметров классификаторов будем использовать Grid Search. Будем искать такие оптимальные параметры, при которых F1-score будет максимальным."
   ]
  },
  {
   "cell_type": "markdown",
   "metadata": {},
   "source": [
    "**KNN**"
   ]
  },
  {
   "cell_type": "code",
   "execution_count": 107,
   "metadata": {},
   "outputs": [
    {
     "name": "stdout",
     "output_type": "stream",
     "text": [
      "Fitting 5 folds for each of 20 candidates, totalling 100 fits\n"
     ]
    }
   ],
   "source": [
    "decision_param = {\n",
    "    \"n_neighbors\": range(5,15),\n",
    "    'weights': ['distance', 'uniform']\n",
    "}\n",
    "\n",
    "grid = GridSearchCV(estimator=KNeighborsClassifier(), param_grid=decision_param, \n",
    "                    cv=5, verbose=1, scoring='f1_macro')\n",
    "\n",
    "grid.fit(X_train, y_train)\n",
    "y_pred = grid.predict(X_test)"
   ]
  },
  {
   "cell_type": "code",
   "execution_count": 108,
   "metadata": {},
   "outputs": [
    {
     "data": {
      "text/plain": [
       "{'n_neighbors': 10, 'weights': 'distance'}"
      ]
     },
     "execution_count": 108,
     "metadata": {},
     "output_type": "execute_result"
    }
   ],
   "source": [
    "knn_params = grid.best_params_\n",
    "knn_params"
   ]
  },
  {
   "cell_type": "code",
   "execution_count": 109,
   "metadata": {},
   "outputs": [
    {
     "name": "stdout",
     "output_type": "stream",
     "text": [
      "Accuracy: 0.9235511713933415\n",
      "Recall: 0.9246309436044711\n",
      "Precision: 0.9236813610206343\n",
      "F1: 0.9237846122990394\n",
      "              precision    recall  f1-score   support\n",
      "\n",
      "        auto       0.94      0.97      0.95       186\n",
      "       gorod       0.89      0.85      0.87       207\n",
      "      health       0.91      0.96      0.93       208\n",
      "         job       0.95      0.92      0.94       210\n",
      "\n",
      "    accuracy                           0.92       811\n",
      "   macro avg       0.92      0.92      0.92       811\n",
      "weighted avg       0.92      0.92      0.92       811\n",
      "\n"
     ]
    },
    {
     "data": {
      "image/png": "[encoded data removed]",
      "text/plain": [
       "<Figure size 432x288 with 2 Axes>"
      ]
     },
     "metadata": {},
     "output_type": "display_data"
    }
   ],
   "source": [
    "print_report(y_test, y_pred)"
   ]
  },
  {
   "cell_type": "markdown",
   "metadata": {},
   "source": [
    "- Данная модель довольно хорошо предсказывает классы auto, health и job.\n",
    "- KNN лучше всего предсказывает класс auto.\n",
    "- Метрики для категории gorod самые низкие."
   ]
  },
  {
   "cell_type": "code",
   "execution_count": 110,
   "metadata": {},
   "outputs": [
    {
     "data": {
      "text/plain": [
       "{'model': 'KNeighborsClassifier',\n",
       " 'accuracy_score': 0.9235511713933415,\n",
       " 'recall_score': 0.9246309436044711,\n",
       " 'precision_score': 0.9236813610206343,\n",
       " 'f1_score': 0.9237846122990394}"
      ]
     },
     "execution_count": 110,
     "metadata": {},
     "output_type": "execute_result"
    }
   ],
   "source": [
    "KNN_metrics = compute_metrics('KNeighborsClassifier', y_test, y_pred)\n",
    "KNN_metrics"
   ]
  },
  {
   "cell_type": "markdown",
   "metadata": {},
   "source": [
    "**Logistic Regression**"
   ]
  },
  {
   "cell_type": "code",
   "execution_count": 111,
   "metadata": {},
   "outputs": [
    {
     "name": "stdout",
     "output_type": "stream",
     "text": [
      "Fitting 5 folds for each of 4 candidates, totalling 20 fits\n",
      "[CV 1/5] END ......................solver=lbfgs;, score=0.938 total time=   3.1s\n",
      "[CV 2/5] END ......................solver=lbfgs;, score=0.909 total time=   3.0s\n",
      "[CV 3/5] END ......................solver=lbfgs;, score=0.923 total time=   3.1s\n",
      "[CV 4/5] END ......................solver=lbfgs;, score=0.922 total time=   3.1s\n",
      "[CV 5/5] END ......................solver=lbfgs;, score=0.915 total time=   2.9s\n",
      "[CV 1/5] END ........................solver=sag;, score=0.938 total time=   6.0s\n",
      "[CV 2/5] END ........................solver=sag;, score=0.909 total time=   6.1s\n",
      "[CV 3/5] END ........................solver=sag;, score=0.923 total time=   6.4s\n",
      "[CV 4/5] END ........................solver=sag;, score=0.921 total time=   5.5s\n",
      "[CV 5/5] END ........................solver=sag;, score=0.915 total time=   5.6s\n",
      "[CV 1/5] END .......................solver=saga;, score=0.938 total time=   4.5s\n",
      "[CV 2/5] END .......................solver=saga;, score=0.909 total time=   4.9s\n",
      "[CV 3/5] END .......................solver=saga;, score=0.923 total time=   4.5s\n",
      "[CV 4/5] END .......................solver=saga;, score=0.922 total time=   4.8s\n",
      "[CV 5/5] END .......................solver=saga;, score=0.915 total time=   4.6s\n",
      "[CV 1/5] END ..................solver=liblinear;, score=0.933 total time=   0.1s\n",
      "[CV 2/5] END ..................solver=liblinear;, score=0.912 total time=   0.1s\n",
      "[CV 3/5] END ..................solver=liblinear;, score=0.927 total time=   0.1s\n",
      "[CV 4/5] END ..................solver=liblinear;, score=0.921 total time=   0.1s\n",
      "[CV 5/5] END ..................solver=liblinear;, score=0.910 total time=   0.1s\n"
     ]
    }
   ],
   "source": [
    "decision_param = {\n",
    "    \"solver\": ['lbfgs','sag', 'saga', 'liblinear'],\n",
    "}\n",
    "\n",
    "grid = GridSearchCV(estimator=LogisticRegression(), param_grid=decision_param, \n",
    "                    cv=5, verbose=3, scoring='f1_macro')\n",
    "\n",
    "grid.fit(X_train, y_train)\n",
    "y_pred = grid.predict(X_test)"
   ]
  },
  {
   "cell_type": "code",
   "execution_count": 112,
   "metadata": {},
   "outputs": [
    {
     "data": {
      "text/plain": [
       "{'solver': 'lbfgs'}"
      ]
     },
     "execution_count": 112,
     "metadata": {},
     "output_type": "execute_result"
    }
   ],
   "source": [
    "logreg_params = grid.best_params_\n",
    "logreg_params"
   ]
  },
  {
   "cell_type": "code",
   "execution_count": 113,
   "metadata": {},
   "outputs": [
    {
     "name": "stdout",
     "output_type": "stream",
     "text": [
      "Accuracy: 0.9408138101109741\n",
      "Recall: 0.9412934735515381\n",
      "Precision: 0.9412723474607846\n",
      "F1: 0.9412106582096732\n",
      "              precision    recall  f1-score   support\n",
      "\n",
      "        auto       0.96      0.96      0.96       186\n",
      "       gorod       0.90      0.89      0.90       207\n",
      "      health       0.93      0.96      0.95       208\n",
      "         job       0.97      0.95      0.96       210\n",
      "\n",
      "    accuracy                           0.94       811\n",
      "   macro avg       0.94      0.94      0.94       811\n",
      "weighted avg       0.94      0.94      0.94       811\n",
      "\n"
     ]
    },
    {
     "data": {
      "image/png": "[encoded data removed]",
      "text/plain": [
       "<Figure size 432x288 with 2 Axes>"
      ]
     },
     "metadata": {},
     "output_type": "display_data"
    }
   ],
   "source": [
    "print_report(y_test, y_pred)"
   ]
  },
  {
   "cell_type": "markdown",
   "metadata": {},
   "source": [
    "- Результаты логистической регрессии заметно лучше по сравнению с предыдущей моделью.\n",
    "- Класс gorod также плохо предсказывается."
   ]
  },
  {
   "cell_type": "code",
   "execution_count": 114,
   "metadata": {},
   "outputs": [
    {
     "data": {
      "text/plain": [
       "{'model': 'LogisticRegression',\n",
       " 'accuracy_score': 0.9408138101109741,\n",
       " 'recall_score': 0.9412934735515381,\n",
       " 'precision_score': 0.9412723474607846,\n",
       " 'f1_score': 0.9412106582096732}"
      ]
     },
     "execution_count": 114,
     "metadata": {},
     "output_type": "execute_result"
    }
   ],
   "source": [
    "LogReg_metrics = compute_metrics('LogisticRegression',y_test, y_pred)\n",
    "LogReg_metrics"
   ]
  },
  {
   "cell_type": "markdown",
   "metadata": {},
   "source": [
    "**Decision Tree**"
   ]
  },
  {
   "cell_type": "code",
   "execution_count": 115,
   "metadata": {},
   "outputs": [
    {
     "name": "stdout",
     "output_type": "stream",
     "text": [
      "Fitting 5 folds for each of 90 candidates, totalling 450 fits\n"
     ]
    }
   ],
   "source": [
    "decision_param = {\n",
    "    \"criterion\": ['gini', 'entropy'],\n",
    "    \"min_samples_leaf\": range(8, 13, 2),\n",
    "    \"max_depth\": range(5, 10),\n",
    "    \"min_samples_split\": range(2, 8, 2),\n",
    "}\n",
    "\n",
    "grid = GridSearchCV(estimator=DecisionTreeClassifier(), param_grid=decision_param, \n",
    "                    cv=5, verbose=1, scoring='f1_macro')\n",
    "\n",
    "grid.fit(X_train, y_train)\n",
    "y_pred = grid.predict(X_test)"
   ]
  },
  {
   "cell_type": "code",
   "execution_count": 116,
   "metadata": {},
   "outputs": [
    {
     "data": {
      "text/plain": [
       "{'criterion': 'gini',\n",
       " 'max_depth': 9,\n",
       " 'min_samples_leaf': 8,\n",
       " 'min_samples_split': 6}"
      ]
     },
     "execution_count": 116,
     "metadata": {},
     "output_type": "execute_result"
    }
   ],
   "source": [
    "tree_params = grid.best_params_\n",
    "tree_params"
   ]
  },
  {
   "cell_type": "code",
   "execution_count": 117,
   "metadata": {},
   "outputs": [
    {
     "name": "stdout",
     "output_type": "stream",
     "text": [
      "Accuracy: 0.8471023427866831\n",
      "Recall: 0.8472464003582517\n",
      "Precision: 0.8523355924706693\n",
      "F1: 0.8485361577218469\n",
      "              precision    recall  f1-score   support\n",
      "\n",
      "        auto       0.86      0.85      0.86       186\n",
      "       gorod       0.74      0.85      0.79       207\n",
      "      health       0.88      0.82      0.85       208\n",
      "         job       0.92      0.87      0.90       210\n",
      "\n",
      "    accuracy                           0.85       811\n",
      "   macro avg       0.85      0.85      0.85       811\n",
      "weighted avg       0.85      0.85      0.85       811\n",
      "\n"
     ]
    },
    {
     "data": {
      "image/png": "[encoded data removed]",
      "text/plain": [
       "<Figure size 432x288 with 2 Axes>"
      ]
     },
     "metadata": {},
     "output_type": "display_data"
    }
   ],
   "source": [
    "print_report(y_test, y_pred)"
   ]
  },
  {
   "cell_type": "markdown",
   "metadata": {},
   "source": [
    "- Дерево решений в целом показало худшие результаты.\n",
    "- Модель выдает много ложных предсказаний для категории gorod, у нее низкий precision. Она присваивает статьям из других категорий класс gorod."
   ]
  },
  {
   "cell_type": "code",
   "execution_count": 118,
   "metadata": {},
   "outputs": [
    {
     "data": {
      "text/plain": [
       "{'model': 'DecisionTree',\n",
       " 'accuracy_score': 0.8471023427866831,\n",
       " 'recall_score': 0.8472464003582517,\n",
       " 'precision_score': 0.8523355924706693,\n",
       " 'f1_score': 0.8485361577218469}"
      ]
     },
     "execution_count": 118,
     "metadata": {},
     "output_type": "execute_result"
    }
   ],
   "source": [
    "DesicionTree_metrics = compute_metrics('DecisionTree', y_test, y_pred)\n",
    "DesicionTree_metrics"
   ]
  },
  {
   "cell_type": "markdown",
   "metadata": {},
   "source": [
    "**Random forest**"
   ]
  },
  {
   "cell_type": "code",
   "execution_count": 119,
   "metadata": {},
   "outputs": [
    {
     "name": "stdout",
     "output_type": "stream",
     "text": [
      "Fitting 5 folds for each of 4 candidates, totalling 20 fits\n",
      "[CV 1/5] END ...criterion=gini, n_estimators=50;, score=0.930 total time=   1.0s\n",
      "[CV 2/5] END ...criterion=gini, n_estimators=50;, score=0.919 total time=   1.0s\n",
      "[CV 3/5] END ...criterion=gini, n_estimators=50;, score=0.919 total time=   1.0s\n",
      "[CV 4/5] END ...criterion=gini, n_estimators=50;, score=0.910 total time=   1.0s\n",
      "[CV 5/5] END ...criterion=gini, n_estimators=50;, score=0.902 total time=   1.0s\n",
      "[CV 1/5] END ..criterion=gini, n_estimators=100;, score=0.935 total time=   2.2s\n",
      "[CV 2/5] END ..criterion=gini, n_estimators=100;, score=0.917 total time=   2.3s\n",
      "[CV 3/5] END ..criterion=gini, n_estimators=100;, score=0.919 total time=   2.2s\n",
      "[CV 4/5] END ..criterion=gini, n_estimators=100;, score=0.907 total time=   2.1s\n",
      "[CV 5/5] END ..criterion=gini, n_estimators=100;, score=0.912 total time=   2.2s\n",
      "[CV 1/5] END criterion=entropy, n_estimators=50;, score=0.930 total time=   1.1s\n",
      "[CV 2/5] END criterion=entropy, n_estimators=50;, score=0.925 total time=   1.1s\n",
      "[CV 3/5] END criterion=entropy, n_estimators=50;, score=0.916 total time=   1.2s\n",
      "[CV 4/5] END criterion=entropy, n_estimators=50;, score=0.897 total time=   1.3s\n",
      "[CV 5/5] END criterion=entropy, n_estimators=50;, score=0.904 total time=   1.2s\n",
      "[CV 1/5] END criterion=entropy, n_estimators=100;, score=0.930 total time=   2.4s\n",
      "[CV 2/5] END criterion=entropy, n_estimators=100;, score=0.914 total time=   2.3s\n",
      "[CV 3/5] END criterion=entropy, n_estimators=100;, score=0.930 total time=   2.2s\n",
      "[CV 4/5] END criterion=entropy, n_estimators=100;, score=0.908 total time=   2.3s\n",
      "[CV 5/5] END criterion=entropy, n_estimators=100;, score=0.910 total time=   2.2s\n"
     ]
    }
   ],
   "source": [
    "decision_param = {\n",
    "    \"criterion\": ['gini', 'entropy'],\n",
    "    \"n_estimators\": [50, 100]\n",
    "}\n",
    "\n",
    "grid = GridSearchCV(estimator=RandomForestClassifier(), param_grid=decision_param, \n",
    "                    cv=5, verbose=3, scoring='f1_macro')\n",
    "\n",
    "grid.fit(X_train, y_train)\n",
    "y_pred = grid.predict(X_test)"
   ]
  },
  {
   "cell_type": "code",
   "execution_count": 120,
   "metadata": {},
   "outputs": [
    {
     "data": {
      "text/plain": [
       "{'criterion': 'entropy', 'n_estimators': 100}"
      ]
     },
     "execution_count": 120,
     "metadata": {},
     "output_type": "execute_result"
    }
   ],
   "source": [
    "forest_params = grid.best_params_\n",
    "forest_params"
   ]
  },
  {
   "cell_type": "code",
   "execution_count": 121,
   "metadata": {},
   "outputs": [
    {
     "name": "stdout",
     "output_type": "stream",
     "text": [
      "Accuracy: 0.9395807644882861\n",
      "Recall: 0.9402894440762604\n",
      "Precision: 0.93948992137523\n",
      "F1: 0.9393237121524952\n",
      "              precision    recall  f1-score   support\n",
      "\n",
      "        auto       0.94      0.97      0.96       186\n",
      "       gorod       0.93      0.86      0.89       207\n",
      "      health       0.93      0.96      0.94       208\n",
      "         job       0.96      0.97      0.96       210\n",
      "\n",
      "    accuracy                           0.94       811\n",
      "   macro avg       0.94      0.94      0.94       811\n",
      "weighted avg       0.94      0.94      0.94       811\n",
      "\n"
     ]
    },
    {
     "data": {
      "image/png": "[encoded data removed]",
      "text/plain": [
       "<Figure size 432x288 with 2 Axes>"
      ]
     },
     "metadata": {},
     "output_type": "display_data"
    }
   ],
   "source": [
    "print_report(y_test, y_pred)"
   ]
  },
  {
   "cell_type": "markdown",
   "metadata": {},
   "source": [
    "- Модель наиболее точно предсказывает auto и job.\n",
    "- Random forest в отличии от дерева решений показывает низкий recall в категории gorod. То есть статьям, которые относятся к категории gorod, модель предсказывает другие классы."
   ]
  },
  {
   "cell_type": "code",
   "execution_count": 122,
   "metadata": {},
   "outputs": [
    {
     "data": {
      "text/plain": [
       "{'model': 'RandomForest',\n",
       " 'accuracy_score': 0.9395807644882861,\n",
       " 'recall_score': 0.9402894440762604,\n",
       " 'precision_score': 0.93948992137523,\n",
       " 'f1_score': 0.9393237121524952}"
      ]
     },
     "execution_count": 122,
     "metadata": {},
     "output_type": "execute_result"
    }
   ],
   "source": [
    "RandomForest_metrics = compute_metrics('RandomForest', y_test, y_pred)\n",
    "RandomForest_metrics"
   ]
  },
  {
   "cell_type": "markdown",
   "metadata": {},
   "source": [
    "**Ada Boost**"
   ]
  },
  {
   "cell_type": "code",
   "execution_count": 123,
   "metadata": {},
   "outputs": [
    {
     "name": "stdout",
     "output_type": "stream",
     "text": [
      "Fitting 5 folds for each of 4 candidates, totalling 20 fits\n",
      "[CV 1/5] END learning_rate=0.7, n_estimators=25;, score=0.866 total time=   5.8s\n",
      "[CV 2/5] END learning_rate=0.7, n_estimators=25;, score=0.856 total time=   6.0s\n",
      "[CV 3/5] END learning_rate=0.7, n_estimators=25;, score=0.848 total time=   6.1s\n",
      "[CV 4/5] END learning_rate=0.7, n_estimators=25;, score=0.858 total time=   5.9s\n",
      "[CV 5/5] END learning_rate=0.7, n_estimators=25;, score=0.817 total time=   6.1s\n",
      "[CV 1/5] END learning_rate=0.7, n_estimators=50;, score=0.871 total time=  11.8s\n",
      "[CV 2/5] END learning_rate=0.7, n_estimators=50;, score=0.844 total time=  12.0s\n",
      "[CV 3/5] END learning_rate=0.7, n_estimators=50;, score=0.832 total time=  12.2s\n",
      "[CV 4/5] END learning_rate=0.7, n_estimators=50;, score=0.860 total time=  12.2s\n",
      "[CV 5/5] END learning_rate=0.7, n_estimators=50;, score=0.846 total time=  12.0s\n",
      "[CV 1/5] END ..learning_rate=1, n_estimators=25;, score=0.834 total time=   6.4s\n",
      "[CV 2/5] END ..learning_rate=1, n_estimators=25;, score=0.852 total time=   5.9s\n",
      "[CV 3/5] END ..learning_rate=1, n_estimators=25;, score=0.859 total time=   5.9s\n",
      "[CV 4/5] END ..learning_rate=1, n_estimators=25;, score=0.824 total time=   5.7s\n",
      "[CV 5/5] END ..learning_rate=1, n_estimators=25;, score=0.819 total time=   5.8s\n",
      "[CV 1/5] END ..learning_rate=1, n_estimators=50;, score=0.852 total time=  12.6s\n",
      "[CV 2/5] END ..learning_rate=1, n_estimators=50;, score=0.855 total time=  12.4s\n",
      "[CV 3/5] END ..learning_rate=1, n_estimators=50;, score=0.865 total time=  12.5s\n",
      "[CV 4/5] END ..learning_rate=1, n_estimators=50;, score=0.844 total time=  12.0s\n",
      "[CV 5/5] END ..learning_rate=1, n_estimators=50;, score=0.842 total time=  11.8s\n"
     ]
    }
   ],
   "source": [
    "decision_param = {\n",
    "    \"learning_rate\": [0.7, 1],\n",
    "    \"n_estimators\": [25, 50]\n",
    "}\n",
    "\n",
    "grid = GridSearchCV(estimator=AdaBoostClassifier(), param_grid=decision_param, \n",
    "                    cv=5, verbose=3, scoring='f1_macro')\n",
    "\n",
    "grid.fit(X_train, y_train)\n",
    "y_pred = grid.predict(X_test)"
   ]
  },
  {
   "cell_type": "code",
   "execution_count": 124,
   "metadata": {},
   "outputs": [
    {
     "data": {
      "text/plain": [
       "{'learning_rate': 1, 'n_estimators': 50}"
      ]
     },
     "execution_count": 124,
     "metadata": {},
     "output_type": "execute_result"
    }
   ],
   "source": [
    "ada_params = grid.best_params_\n",
    "ada_params"
   ]
  },
  {
   "cell_type": "code",
   "execution_count": 125,
   "metadata": {},
   "outputs": [
    {
     "name": "stdout",
     "output_type": "stream",
     "text": [
      "Accuracy: 0.8766954377311961\n",
      "Recall: 0.8773550992213334\n",
      "Precision: 0.8813309900112263\n",
      "F1: 0.8784479389724161\n",
      "              precision    recall  f1-score   support\n",
      "\n",
      "        auto       0.91      0.90      0.91       186\n",
      "       gorod       0.77      0.86      0.81       207\n",
      "      health       0.91      0.86      0.88       208\n",
      "         job       0.93      0.89      0.91       210\n",
      "\n",
      "    accuracy                           0.88       811\n",
      "   macro avg       0.88      0.88      0.88       811\n",
      "weighted avg       0.88      0.88      0.88       811\n",
      "\n"
     ]
    },
    {
     "data": {
      "image/png": "[encoded data removed]",
      "text/plain": [
       "<Figure size 432x288 with 2 Axes>"
      ]
     },
     "metadata": {},
     "output_type": "display_data"
    }
   ],
   "source": [
    "print_report(y_test, y_pred)"
   ]
  },
  {
   "cell_type": "markdown",
   "metadata": {},
   "source": [
    "- Модель в целом показала средние результаты.\n",
    "- Низкий precision у категории gorod."
   ]
  },
  {
   "cell_type": "code",
   "execution_count": 126,
   "metadata": {},
   "outputs": [
    {
     "data": {
      "text/plain": [
       "{'model': 'AdaBoost',\n",
       " 'accuracy_score': 0.8766954377311961,\n",
       " 'recall_score': 0.8773550992213334,\n",
       " 'precision_score': 0.8813309900112263,\n",
       " 'f1_score': 0.8784479389724161}"
      ]
     },
     "execution_count": 126,
     "metadata": {},
     "output_type": "execute_result"
    }
   ],
   "source": [
    "AdaBoost_metrics = compute_metrics('AdaBoost', y_test, y_pred)\n",
    "AdaBoost_metrics"
   ]
  },
  {
   "cell_type": "markdown",
   "metadata": {},
   "source": [
    "**Histogram Gradient Boosting**"
   ]
  },
  {
   "cell_type": "code",
   "execution_count": 127,
   "metadata": {},
   "outputs": [],
   "source": [
    "classifier = HistGradientBoostingClassifier(learning_rate=0.1)\n",
    "classifier.fit(X_train, y_train)\n",
    "y_pred = classifier.predict(X_test)"
   ]
  },
  {
   "cell_type": "code",
   "execution_count": 128,
   "metadata": {},
   "outputs": [
    {
     "name": "stdout",
     "output_type": "stream",
     "text": [
      "Accuracy: 0.9420468557336621\n",
      "Recall: 0.942921719565303\n",
      "Precision: 0.9421936984549535\n",
      "F1: 0.941943351269541\n",
      "              precision    recall  f1-score   support\n",
      "\n",
      "        auto       0.93      0.98      0.95       186\n",
      "       gorod       0.95      0.88      0.91       207\n",
      "      health       0.93      0.97      0.95       208\n",
      "         job       0.97      0.95      0.96       210\n",
      "\n",
      "    accuracy                           0.94       811\n",
      "   macro avg       0.94      0.94      0.94       811\n",
      "weighted avg       0.94      0.94      0.94       811\n",
      "\n"
     ]
    },
    {
     "data": {
      "image/png": "[encoded data removed]",
      "text/plain": [
       "<Figure size 432x288 with 2 Axes>"
      ]
     },
     "metadata": {},
     "output_type": "display_data"
    }
   ],
   "source": [
    "print_report(y_test, y_pred)"
   ]
  },
  {
   "cell_type": "markdown",
   "metadata": {},
   "source": [
    "- Модель имеет хорошее качество предсказаний.\n",
    "- Низкий recall для класса gorod по сравнению с другими категориями."
   ]
  },
  {
   "cell_type": "code",
   "execution_count": 129,
   "metadata": {},
   "outputs": [
    {
     "data": {
      "text/plain": [
       "{'model': 'HistGradientBoosting',\n",
       " 'accuracy_score': 0.9420468557336621,\n",
       " 'recall_score': 0.942921719565303,\n",
       " 'precision_score': 0.9421936984549535,\n",
       " 'f1_score': 0.941943351269541}"
      ]
     },
     "execution_count": 129,
     "metadata": {},
     "output_type": "execute_result"
    }
   ],
   "source": [
    "HistGradientBoosting_metrics = compute_metrics('HistGradientBoosting', y_test, y_pred)\n",
    "HistGradientBoosting_metrics"
   ]
  },
  {
   "cell_type": "markdown",
   "metadata": {},
   "source": [
    "## Результаты"
   ]
  },
  {
   "cell_type": "code",
   "execution_count": 130,
   "metadata": {},
   "outputs": [],
   "source": [
    "all_metrics = [\n",
    "    KNN_metrics,\n",
    "    LogReg_metrics,\n",
    "    DesicionTree_metrics,\n",
    "    RandomForest_metrics,\n",
    "    AdaBoost_metrics,\n",
    "    HistGradientBoosting_metrics\n",
    "]"
   ]
  },
  {
   "cell_type": "code",
   "execution_count": 131,
   "metadata": {},
   "outputs": [
    {
     "data": {
      "text/html": [
       "<div>\n",
       "<style scoped>\n",
       "    .dataframe tbody tr th:only-of-type {\n",
       "        vertical-align: middle;\n",
       "    }\n",
       "\n",
       "    .dataframe tbody tr th {\n",
       "        vertical-align: top;\n",
       "    }\n",
       "\n",
       "    .dataframe thead th {\n",
       "        text-align: right;\n",
       "    }\n",
       "</style>\n",
       "<table border=\"1\" class=\"dataframe\">\n",
       "  <thead>\n",
       "    <tr style=\"text-align: right;\">\n",
       "      <th></th>\n",
       "      <th>accuracy_score</th>\n",
       "      <th>recall_score</th>\n",
       "      <th>precision_score</th>\n",
       "      <th>f1_score</th>\n",
       "    </tr>\n",
       "    <tr>\n",
       "      <th>model</th>\n",
       "      <th></th>\n",
       "      <th></th>\n",
       "      <th></th>\n",
       "      <th></th>\n",
       "    </tr>\n",
       "  </thead>\n",
       "  <tbody>\n",
       "    <tr>\n",
       "      <th>KNeighborsClassifier</th>\n",
       "      <td>0.923551</td>\n",
       "      <td>0.924631</td>\n",
       "      <td>0.923681</td>\n",
       "      <td>0.923785</td>\n",
       "    </tr>\n",
       "    <tr>\n",
       "      <th>LogisticRegression</th>\n",
       "      <td>0.940814</td>\n",
       "      <td>0.941293</td>\n",
       "      <td>0.941272</td>\n",
       "      <td>0.941211</td>\n",
       "    </tr>\n",
       "    <tr>\n",
       "      <th>DecisionTree</th>\n",
       "      <td>0.847102</td>\n",
       "      <td>0.847246</td>\n",
       "      <td>0.852336</td>\n",
       "      <td>0.848536</td>\n",
       "    </tr>\n",
       "    <tr>\n",
       "      <th>RandomForest</th>\n",
       "      <td>0.939581</td>\n",
       "      <td>0.940289</td>\n",
       "      <td>0.939490</td>\n",
       "      <td>0.939324</td>\n",
       "    </tr>\n",
       "    <tr>\n",
       "      <th>AdaBoost</th>\n",
       "      <td>0.876695</td>\n",
       "      <td>0.877355</td>\n",
       "      <td>0.881331</td>\n",
       "      <td>0.878448</td>\n",
       "    </tr>\n",
       "    <tr>\n",
       "      <th>HistGradientBoosting</th>\n",
       "      <td>0.942047</td>\n",
       "      <td>0.942922</td>\n",
       "      <td>0.942194</td>\n",
       "      <td>0.941943</td>\n",
       "    </tr>\n",
       "  </tbody>\n",
       "</table>\n",
       "</div>"
      ],
      "text/plain": [
       "                      accuracy_score  recall_score  precision_score  f1_score\n",
       "model                                                                        \n",
       "KNeighborsClassifier        0.923551      0.924631         0.923681  0.923785\n",
       "LogisticRegression          0.940814      0.941293         0.941272  0.941211\n",
       "DecisionTree                0.847102      0.847246         0.852336  0.848536\n",
       "RandomForest                0.939581      0.940289         0.939490  0.939324\n",
       "AdaBoost                    0.876695      0.877355         0.881331  0.878448\n",
       "HistGradientBoosting        0.942047      0.942922         0.942194  0.941943"
      ]
     },
     "execution_count": 131,
     "metadata": {},
     "output_type": "execute_result"
    }
   ],
   "source": [
    "TestModels = pd.DataFrame()\n",
    "tmp = {}\n",
    "for model in all_metrics:\n",
    "    tmp['model'] = model['model']\n",
    "    tmp['accuracy_score'] = model['accuracy_score']\n",
    "    tmp['recall_score'] = model['recall_score']\n",
    "    tmp['precision_score'] = model['precision_score']\n",
    "    tmp['f1_score'] = model['f1_score']\n",
    "    TestModels = TestModels.append([tmp])\n",
    "TestModels.set_index('model', inplace=True)\n",
    "TestModels"
   ]
  },
  {
   "cell_type": "code",
   "execution_count": 132,
   "metadata": {},
   "outputs": [
    {
     "data": {
      "text/plain": [
       "<AxesSubplot:ylabel='model'>"
      ]
     },
     "execution_count": 132,
     "metadata": {},
     "output_type": "execute_result"
    },
    {
     "data": {
      "image/png": "[encoded data removed]",
      "text/plain": [
       "<Figure size 432x288 with 1 Axes>"
      ]
     },
     "metadata": {},
     "output_type": "display_data"
    }
   ],
   "source": [
    "TestModels.plot.barh()"
   ]
  },
  {
   "cell_type": "markdown",
   "metadata": {},
   "source": [
    "- Самый лучший результат показала модель Hisotgram Gradient Boosting, практически такие же результаты у модели логистической регрессии.\n",
    "- Самое плохое качество по всем метрикам у модели Decision Tree."
   ]
  },
  {
   "cell_type": "markdown",
   "metadata": {},
   "source": [
    "**Вместо стемминга используем лемматизацию из библиотеки Yandex Mystem**"
   ]
  },
  {
   "cell_type": "code",
   "execution_count": 32,
   "metadata": {},
   "outputs": [],
   "source": [
    "#!pip install pymystem3"
   ]
  },
  {
   "cell_type": "code",
   "execution_count": 61,
   "metadata": {},
   "outputs": [],
   "source": [
    "from pymystem3 import Mystem\n",
    "m = Mystem()"
   ]
  },
  {
   "cell_type": "code",
   "execution_count": 62,
   "metadata": {},
   "outputs": [],
   "source": [
    "prepared_texts = [' '.join(doc) for doc in corpus_tokens]"
   ]
  },
  {
   "cell_type": "code",
   "execution_count": 63,
   "metadata": {},
   "outputs": [
    {
     "data": {
      "application/vnd.jupyter.widget-view+json": {
       "model_id": "c331285073374530899c9f5c375adee8",
       "version_major": 2,
       "version_minor": 0
      },
      "text/plain": [
       "VBox(children=(HTML(value=''), IntProgress(value=0, max=4095)))"
      ]
     },
     "metadata": {},
     "output_type": "display_data"
    }
   ],
   "source": [
    "corpus_tokens_lemmatized = []\n",
    "for text in log_progress(prepared_texts):\n",
    "    lemmas = m.lemmatize(text)\n",
    "    tmp_tokens = ''.join(lemmas)[:-1].split(' ')\n",
    "    corpus_tokens_lemmatized.append(tmp_tokens)"
   ]
  },
  {
   "cell_type": "code",
   "execution_count": 64,
   "metadata": {},
   "outputs": [
    {
     "name": "stdout",
     "output_type": "stream",
     "text": [
      "4095\n"
     ]
    }
   ],
   "source": [
    "diffs = np.asarray([len(tokens) for tokens in corpus_tokens_lemmatized])\n",
    "print(len(diffs))"
   ]
  },
  {
   "cell_type": "markdown",
   "metadata": {},
   "source": [
    "**Распределение длин текстов**"
   ]
  },
  {
   "cell_type": "code",
   "execution_count": 65,
   "metadata": {},
   "outputs": [
    {
     "data": {
      "text/plain": [
       "<AxesSubplot:ylabel='Count'>"
      ]
     },
     "execution_count": 65,
     "metadata": {},
     "output_type": "execute_result"
    },
    {
     "data": {
      "image/png": "[encoded data removed]",
      "text/plain": [
       "<Figure size 1080x576 with 1 Axes>"
      ]
     },
     "metadata": {
      "needs_background": "light"
     },
     "output_type": "display_data"
    }
   ],
   "source": [
    "plt.figure(figsize=(15, 8))\n",
    "sns.histplot(diffs, bins=100)"
   ]
  },
  {
   "cell_type": "code",
   "execution_count": 68,
   "metadata": {},
   "outputs": [
    {
     "name": "stderr",
     "output_type": "stream",
     "text": [
      "C:\\Users\\antid\\AppData\\Local\\Temp\\ipykernel_11372\\4281237070.py:1: VisibleDeprecationWarning: Creating an ndarray from ragged nested sequences (which is a list-or-tuple of lists-or-tuples-or ndarrays with different lengths or shapes) is deprecated. If you meant to do this, you must specify 'dtype=object' when creating the ndarray.\n",
      "  corpus_tokens_lemmatized1 = np.asarray(corpus_tokens_lemmatized)\n"
     ]
    }
   ],
   "source": [
    "corpus_tokens_lemmatized1 = np.asarray(corpus_tokens_lemmatized)\n"
   ]
  },
  {
   "cell_type": "code",
   "execution_count": 79,
   "metadata": {},
   "outputs": [],
   "source": [
    "categories1 = np.asarray(categories)"
   ]
  },
  {
   "cell_type": "code",
   "execution_count": 133,
   "metadata": {},
   "outputs": [],
   "source": [
    "corp4learning = corpus_tokens_lemmatized1[diffs >= 10]\n",
    "categories4learning = categories1[diffs >= 10]"
   ]
  },
  {
   "cell_type": "code",
   "execution_count": 134,
   "metadata": {},
   "outputs": [],
   "source": [
    "tmp_corp = []\n",
    "\n",
    "for tokens in corp4learning:\n",
    "    tmp_corp.append([t for t in tokens if len(t) > 2])\n",
    "corp4learning = tmp_corp"
   ]
  },
  {
   "cell_type": "code",
   "execution_count": 135,
   "metadata": {},
   "outputs": [],
   "source": [
    "X = np.asarray([' '.join(words) for words in corp4learning])\n",
    "y = np.asarray([labels[cat] for cat in categories4learning])"
   ]
  },
  {
   "cell_type": "code",
   "execution_count": 136,
   "metadata": {},
   "outputs": [],
   "source": [
    "vectorizer = CountVectorizer(max_features=5000, min_df=2, max_df=0.7)\n",
    "tfidfconverter = TfidfTransformer()"
   ]
  },
  {
   "cell_type": "code",
   "execution_count": 137,
   "metadata": {},
   "outputs": [],
   "source": [
    "X_trans = vectorizer.fit_transform(X).toarray()\n",
    "X_trans = tfidfconverter.fit_transform(X_trans).toarray()"
   ]
  },
  {
   "cell_type": "code",
   "execution_count": 138,
   "metadata": {},
   "outputs": [],
   "source": [
    "X = X_trans"
   ]
  },
  {
   "cell_type": "code",
   "execution_count": 139,
   "metadata": {},
   "outputs": [],
   "source": [
    "X_train, X_test, y_train, y_test = train_test_split(X, y, test_size=0.2)"
   ]
  },
  {
   "cell_type": "markdown",
   "metadata": {},
   "source": [
    "Воспользуемся двумя лучшими моделями."
   ]
  },
  {
   "cell_type": "markdown",
   "metadata": {},
   "source": [
    "**Логистическая регрессия**"
   ]
  },
  {
   "cell_type": "code",
   "execution_count": 140,
   "metadata": {},
   "outputs": [],
   "source": [
    "classifier = LogisticRegression(solver='lbfgs')\n",
    "\n",
    "classifier.fit(X_train, y_train)\n",
    "y_pred = classifier.predict(X_test)"
   ]
  },
  {
   "cell_type": "code",
   "execution_count": 141,
   "metadata": {},
   "outputs": [
    {
     "name": "stdout",
     "output_type": "stream",
     "text": [
      "Accuracy: 0.9157509157509157\n",
      "Recall: 0.9159695654118991\n",
      "Precision: 0.9164737095608704\n",
      "F1: 0.915697139102583\n",
      "              precision    recall  f1-score   support\n",
      "\n",
      "        auto       0.98      0.95      0.96       219\n",
      "       gorod       0.82      0.89      0.85       190\n",
      "      health       0.92      0.90      0.91       233\n",
      "         job       0.95      0.93      0.94       177\n",
      "\n",
      "    accuracy                           0.92       819\n",
      "   macro avg       0.92      0.92      0.92       819\n",
      "weighted avg       0.92      0.92      0.92       819\n",
      "\n"
     ]
    },
    {
     "data": {
      "image/png": "[encoded data removed]",
      "text/plain": [
       "<Figure size 432x288 with 2 Axes>"
      ]
     },
     "metadata": {
      "needs_background": "light"
     },
     "output_type": "display_data"
    }
   ],
   "source": [
    "print_report(y_test, y_pred)"
   ]
  },
  {
   "cell_type": "markdown",
   "metadata": {},
   "source": [
    "**Histogram Gradient Boosting**"
   ]
  },
  {
   "cell_type": "code",
   "execution_count": 142,
   "metadata": {},
   "outputs": [],
   "source": [
    "classifier = HistGradientBoostingClassifier(learning_rate=0.1)\n",
    "classifier.fit(X_train, y_train)\n",
    "y_pred = classifier.predict(X_test)"
   ]
  },
  {
   "cell_type": "code",
   "execution_count": 143,
   "metadata": {},
   "outputs": [
    {
     "name": "stdout",
     "output_type": "stream",
     "text": [
      "Accuracy: 0.9157509157509157\n",
      "Recall: 0.9137560637424342\n",
      "Precision: 0.9161433918979998\n",
      "F1: 0.9148316645905775\n",
      "              precision    recall  f1-score   support\n",
      "\n",
      "        auto       0.94      0.95      0.95       219\n",
      "       gorod       0.86      0.85      0.85       190\n",
      "      health       0.91      0.93      0.92       233\n",
      "         job       0.96      0.93      0.94       177\n",
      "\n",
      "    accuracy                           0.92       819\n",
      "   macro avg       0.92      0.91      0.91       819\n",
      "weighted avg       0.92      0.92      0.92       819\n",
      "\n"
     ]
    },
    {
     "data": {
      "image/png": "[encoded data removed]",
      "text/plain": [
       "<Figure size 432x288 with 2 Axes>"
      ]
     },
     "metadata": {
      "needs_background": "light"
     },
     "output_type": "display_data"
    }
   ],
   "source": [
    "print_report(y_test, y_pred)"
   ]
  },
  {
   "cell_type": "markdown",
   "metadata": {},
   "source": [
    "Метрики в обеих моделях классификации стали хуже."
   ]
  }
 ],
 "metadata": {
  "kernelspec": {
   "display_name": "Python 3",
   "language": "python",
   "name": "python3"
  },
  "language_info": {
   "codemirror_mode": {
    "name": "ipython",
    "version": 3
   },
   "file_extension": ".py",
   "mimetype": "text/x-python",
   "name": "python",
   "nbconvert_exporter": "python",
   "pygments_lexer": "ipython3",
   "version": "3.6.7"
  }
 },
 "nbformat": 4,
 "nbformat_minor": 2
}
