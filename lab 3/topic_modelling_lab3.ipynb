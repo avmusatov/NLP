{
 "cells": [
  {
   "cell_type": "code",
   "execution_count": 158,
   "metadata": {},
   "outputs": [],
   "source": [
    "#!pip install gensim pyLDAvis"
   ]
  },
  {
   "cell_type": "code",
   "execution_count": 154,
   "metadata": {},
   "outputs": [],
   "source": [
    "import os\n",
    "from sklearn.datasets import fetch_20newsgroups\n",
    "import numpy as np\n",
    "import pandas as pd\n",
    "import matplotlib.pyplot as plt\n",
    "import re\n",
    "import pymorphy2\n",
    "import gensim\n",
    "import stop_words\n",
    "from nltk.stem.snowball import RussianStemmer\n",
    "from sklearn.feature_extraction.text import CountVectorizer\n",
    "from sklearn.feature_extraction.text import TfidfTransformer\n",
    "import json\n",
    "import string\n",
    "import copy\n",
    "import gensim\n",
    "from gensim.models import Phrases\n",
    "from gensim.corpora.dictionary import Dictionary\n",
    "from gensim.models import LdaModel, CoherenceModel\n",
    "import pyLDAvis.gensim_models\n",
    "\n",
    "%matplotlib inline"
   ]
  },
  {
   "cell_type": "code",
   "execution_count": 35,
   "metadata": {},
   "outputs": [],
   "source": [
    "def log_progress(sequence, every=None, size=None, name='Items'):\n",
    "    from ipywidgets import IntProgress, HTML, VBox\n",
    "    from IPython.display import display\n",
    "\n",
    "    is_iterator = False\n",
    "    if size is None:\n",
    "        try:\n",
    "            size = len(sequence)\n",
    "        except TypeError:\n",
    "            is_iterator = True\n",
    "    if size is not None:\n",
    "        if every is None:\n",
    "            if size <= 200:\n",
    "                every = 1\n",
    "            else:\n",
    "                every = int(size / 200)     # every 0.5%\n",
    "    else:\n",
    "        assert every is not None, 'sequence is iterator, set every'\n",
    "\n",
    "    if is_iterator:\n",
    "        progress = IntProgress(min=0, max=1, value=1)\n",
    "        progress.bar_style = 'info'\n",
    "    else:\n",
    "        progress = IntProgress(min=0, max=size, value=0)\n",
    "    label = HTML()\n",
    "    box = VBox(children=[label, progress])\n",
    "    display(box)\n",
    "\n",
    "    index = 0\n",
    "    try:\n",
    "        for index, record in enumerate(sequence, 1):\n",
    "            if index == 1 or index % every == 0:\n",
    "                if is_iterator:\n",
    "                    label.value = '{name}: {index} / ?'.format(\n",
    "                        name=name,\n",
    "                        index=index\n",
    "                    )\n",
    "                else:\n",
    "                    progress.value = index\n",
    "                    label.value = u'{name}: {index} / {size}'.format(\n",
    "                        name=name,\n",
    "                        index=index,\n",
    "                        size=size\n",
    "                    )\n",
    "            yield record\n",
    "    except:\n",
    "        progress.bar_style = 'danger'\n",
    "        raise\n",
    "    else:\n",
    "        progress.bar_style = 'success'\n",
    "        progress.value = index\n",
    "        label.value = \"{name}: {index}\".format(\n",
    "            name=name,\n",
    "            index=str(index or '?')\n",
    "        )"
   ]
  },
  {
   "cell_type": "code",
   "execution_count": 14,
   "metadata": {},
   "outputs": [
    {
     "data": {
      "text/html": [
       "<div>\n",
       "<style scoped>\n",
       "    .dataframe tbody tr th:only-of-type {\n",
       "        vertical-align: middle;\n",
       "    }\n",
       "\n",
       "    .dataframe tbody tr th {\n",
       "        vertical-align: top;\n",
       "    }\n",
       "\n",
       "    .dataframe thead th {\n",
       "        text-align: right;\n",
       "    }\n",
       "</style>\n",
       "<table border=\"1\" class=\"dataframe\">\n",
       "  <thead>\n",
       "    <tr style=\"text-align: right;\">\n",
       "      <th></th>\n",
       "      <th>article_id</th>\n",
       "      <th>category</th>\n",
       "      <th>title</th>\n",
       "      <th>text</th>\n",
       "      <th>tags</th>\n",
       "    </tr>\n",
       "  </thead>\n",
       "  <tbody>\n",
       "    <tr>\n",
       "      <th>0</th>\n",
       "      <td>https://www.nn.ru/text/auto/2022/01/12/70369148/</td>\n",
       "      <td>auto</td>\n",
       "      <td>Кризис ОСАГО залатали рублем. Полисы резко под...</td>\n",
       "      <td>ОСАГО сильно прибавило для неблагополучных вод...</td>\n",
       "      <td>[ОСАГО, автозакон, страховка]</td>\n",
       "    </tr>\n",
       "    <tr>\n",
       "      <th>1</th>\n",
       "      <td>https://www.nn.ru/text/auto/2022/01/11/70366607/</td>\n",
       "      <td>auto</td>\n",
       "      <td>Я пропустил техосмотр в 2021 году. Оштрафуют л...</td>\n",
       "      <td>Обязательный техосмотр для частных машин отмен...</td>\n",
       "      <td>[автозакон, техосмотр, автоликбез]</td>\n",
       "    </tr>\n",
       "    <tr>\n",
       "      <th>2</th>\n",
       "      <td>https://www.nn.ru/text/auto/2022/01/08/70343681/</td>\n",
       "      <td>auto</td>\n",
       "      <td>Цены отмороженные: как кризис автомобильных пр...</td>\n",
       "      <td>Автомобили снова стали для большинства из нас ...</td>\n",
       "      <td>[автопром, авторынок, цены на авто]</td>\n",
       "    </tr>\n",
       "    <tr>\n",
       "      <th>3</th>\n",
       "      <td>https://www.nn.ru/text/auto/2022/01/07/70350704/</td>\n",
       "      <td>auto</td>\n",
       "      <td>Новые Vesta и Logan, пятый Sportage и много «к...</td>\n",
       "      <td>Главная премьера начала года — новый KIA Sport...</td>\n",
       "      <td>[автопром, авторынок, цены на авто]</td>\n",
       "    </tr>\n",
       "    <tr>\n",
       "      <th>4</th>\n",
       "      <td>https://www.nn.ru/text/auto/2022/01/04/70343603/</td>\n",
       "      <td>auto</td>\n",
       "      <td>Бензин по 50 рублей — это лишь начало. Что жде...</td>\n",
       "      <td>Топливо дорожало весь прошлый год и установило...</td>\n",
       "      <td>[АЗС, бензин, топливо, цены на топливо]</td>\n",
       "    </tr>\n",
       "  </tbody>\n",
       "</table>\n",
       "</div>"
      ],
      "text/plain": [
       "                                         article_id category  \\\n",
       "0  https://www.nn.ru/text/auto/2022/01/12/70369148/     auto   \n",
       "1  https://www.nn.ru/text/auto/2022/01/11/70366607/     auto   \n",
       "2  https://www.nn.ru/text/auto/2022/01/08/70343681/     auto   \n",
       "3  https://www.nn.ru/text/auto/2022/01/07/70350704/     auto   \n",
       "4  https://www.nn.ru/text/auto/2022/01/04/70343603/     auto   \n",
       "\n",
       "                                               title  \\\n",
       "0  Кризис ОСАГО залатали рублем. Полисы резко под...   \n",
       "1  Я пропустил техосмотр в 2021 году. Оштрафуют л...   \n",
       "2  Цены отмороженные: как кризис автомобильных пр...   \n",
       "3  Новые Vesta и Logan, пятый Sportage и много «к...   \n",
       "4  Бензин по 50 рублей — это лишь начало. Что жде...   \n",
       "\n",
       "                                                text  \\\n",
       "0  ОСАГО сильно прибавило для неблагополучных вод...   \n",
       "1  Обязательный техосмотр для частных машин отмен...   \n",
       "2  Автомобили снова стали для большинства из нас ...   \n",
       "3  Главная премьера начала года — новый KIA Sport...   \n",
       "4  Топливо дорожало весь прошлый год и установило...   \n",
       "\n",
       "                                      tags  \n",
       "0            [ОСАГО, автозакон, страховка]  \n",
       "1       [автозакон, техосмотр, автоликбез]  \n",
       "2      [автопром, авторынок, цены на авто]  \n",
       "3      [автопром, авторынок, цены на авто]  \n",
       "4  [АЗС, бензин, топливо, цены на топливо]  "
      ]
     },
     "execution_count": 14,
     "metadata": {},
     "output_type": "execute_result"
    }
   ],
   "source": [
    "news = []\n",
    "with open('corpus.json', 'r', encoding=\"utf-8\") as file:\n",
    "    text = file.read()\n",
    "    dct = json.loads(text)\n",
    "data = pd.DataFrame(dct['catalog'])\n",
    "data.head()"
   ]
  },
  {
   "cell_type": "code",
   "execution_count": 15,
   "metadata": {},
   "outputs": [
    {
     "data": {
      "text/plain": [
       "0       ОСАГО сильно прибавило для неблагополучных вод...\n",
       "1       Обязательный техосмотр для частных машин отмен...\n",
       "2       Автомобили снова стали для большинства из нас ...\n",
       "3       Главная премьера начала года — новый KIA Sport...\n",
       "4       Топливо дорожало весь прошлый год и установило...\n",
       "                              ...                        \n",
       "4094    Поделиться   Предсказать массовые сокращения с...\n",
       "4095    Поделиться   NN.RU: Трудоустройство инвалидов ...\n",
       "4096    Поделиться   Эксперты МОТ обосновали предложен...\n",
       "4097    commons.wikimedia.org   Поделиться   \\- В Росс...\n",
       "4098    Сбербанк   Поделиться   Сбербанк предлагает то...\n",
       "Name: text, Length: 4099, dtype: object"
      ]
     },
     "execution_count": 15,
     "metadata": {},
     "output_type": "execute_result"
    }
   ],
   "source": [
    "data.text"
   ]
  },
  {
   "cell_type": "code",
   "execution_count": 16,
   "metadata": {},
   "outputs": [
    {
     "data": {
      "text/plain": [
       "array(['auto', 'gorod', 'health', 'job'], dtype=object)"
      ]
     },
     "execution_count": 16,
     "metadata": {},
     "output_type": "execute_result"
    }
   ],
   "source": [
    "data.category.unique()"
   ]
  },
  {
   "cell_type": "code",
   "execution_count": 18,
   "metadata": {},
   "outputs": [],
   "source": [
    "labels = {'auto':0, 'gorod':1, 'health':2, 'job':3}"
   ]
  },
  {
   "cell_type": "code",
   "execution_count": 19,
   "metadata": {},
   "outputs": [
    {
     "name": "stdout",
     "output_type": "stream",
     "text": [
      "1036 новостей в категории auto\n",
      "1024 новостей в категории gorod\n",
      "1032 новостей в категории health\n",
      "1007 новостей в категории job\n"
     ]
    }
   ],
   "source": [
    "for cat in labels.keys():\n",
    "    print(f'{data[data.category == cat].count()[0]} новостей в категории {cat}')"
   ]
  },
  {
   "cell_type": "code",
   "execution_count": 111,
   "metadata": {},
   "outputs": [
    {
     "data": {
      "application/vnd.jupyter.widget-view+json": {
       "model_id": "a65237d09c854246b70091de0906275d",
       "version_major": 2,
       "version_minor": 0
      },
      "text/plain": [
       "VBox(children=(HTML(value=''), IntProgress(value=0, max=4099)))"
      ]
     },
     "metadata": {},
     "output_type": "display_data"
    }
   ],
   "source": [
    "corpus = []\n",
    "categories = data.category.to_list()\n",
    "\n",
    "for message in log_progress(data.text):\n",
    "    corpus.append(message)"
   ]
  },
  {
   "cell_type": "markdown",
   "metadata": {},
   "source": [
    "## Препроцессинг"
   ]
  },
  {
   "cell_type": "code",
   "execution_count": 112,
   "metadata": {},
   "outputs": [
    {
     "name": "stdout",
     "output_type": "stream",
     "text": [
      "4099\n"
     ]
    }
   ],
   "source": [
    "corpus = np.asarray([doc.replace('Поделиться', '') for doc in corpus])\n",
    "print(len(corpus))"
   ]
  },
  {
   "cell_type": "code",
   "execution_count": 113,
   "metadata": {},
   "outputs": [],
   "source": [
    "corpus = [re.sub(r'\\w+:\\/{2}[\\d\\w-]+(\\.[\\d\\w-]+)*(?:(?:\\/[^\\s/]*))*', u'', doc) for doc in corpus]\n",
    "corpus = [re.sub(' +' , ' ', doc) for doc in corpus]\n",
    "corpus = np.asarray([doc.strip().strip('\\t').replace('\\n', u'')    for doc in corpus])"
   ]
  },
  {
   "cell_type": "code",
   "execution_count": 114,
   "metadata": {},
   "outputs": [],
   "source": [
    "EXCLUDE_SYMBOLS_STR = u''.join(['№', '«', 'ђ', '°', '±', '‚', 'ћ', '‰', '…', '»', 'ѓ', 'µ', '·', 'ґ', 'њ', 'ї', 'џ', 'є', '‹',\n",
    "                                '‡', '†', '¶', 'ќ', '€', '“', 'ў', '§', '„', '”', '\\ufeff', '’', 'љ', '›', '•', '—', '‘', \n",
    "                                '\\x7f', '\\xad', '¤', '\\xa0'])\n",
    "\n",
    "GRAMMS = ['NOUN', 'ADJF', 'ADJS', 'PRTF', 'PRTS', 'GRND', 'ADVB']\n",
    "\n",
    "regex_punct = re.compile('[%s]' % re.escape(string.punctuation))\n",
    "regex_dig = re.compile('[%s]' % re.escape(string.digits))\n",
    "regex_symb = re.compile('[%s]' % re.escape(EXCLUDE_SYMBOLS_STR))\n",
    "regex_struct = re.compile('[%s]' % string.printable + string.whitespace)\n",
    "emoji_pattern = re.compile(\"[\"\n",
    "        \"\\U0001F600-\\U0001F64F\"  # emoticons\n",
    "        \"\\U0001F300-\\U0001F5FF\"  # symbols & pictographs\n",
    "        \"\\U0001F680-\\U0001F6FF\"  # transport & map symbols\n",
    "        \"\\U0001F1E0-\\U0001F1FF\"  # flags (iOS)\n",
    "                           \"]+\")"
   ]
  },
  {
   "cell_type": "code",
   "execution_count": 115,
   "metadata": {},
   "outputs": [
    {
     "name": "stdout",
     "output_type": "stream",
     "text": [
      "4099\n"
     ]
    }
   ],
   "source": [
    "corpus = [regex_punct.sub('', doc) for doc in corpus]\n",
    "corpus = [regex_dig.sub('', doc) for doc in corpus]\n",
    "corpus = [regex_symb.sub(' ', doc) for doc in corpus]\n",
    "corpus = [regex_struct.sub('', doc) for doc in corpus]\n",
    "corpus = [re.sub(' +' , ' ', doc.strip()) for doc in corpus]\n",
    "corpus = [doc.lower() for doc in corpus]\n",
    "corpus = [emoji_pattern.sub('', doc) for doc in corpus]\n",
    "print(len(corpus))"
   ]
  },
  {
   "cell_type": "code",
   "execution_count": 116,
   "metadata": {},
   "outputs": [
    {
     "data": {
      "application/vnd.jupyter.widget-view+json": {
       "model_id": "640361904a3c411980b1c9343fbcd958",
       "version_major": 2,
       "version_minor": 0
      },
      "text/plain": [
       "VBox(children=(HTML(value=''), IntProgress(value=0, max=4099)))"
      ]
     },
     "metadata": {},
     "output_type": "display_data"
    },
    {
     "name": "stdout",
     "output_type": "stream",
     "text": [
      "4095\n"
     ]
    }
   ],
   "source": [
    "morph = pymorphy2.MorphAnalyzer()\n",
    "\n",
    "corpus_tokens = []\n",
    "inds_to_drop = []\n",
    "\n",
    "for i, sentence in enumerate(log_progress(corpus[:])):\n",
    "    tmp_tokens = []\n",
    "    sp = sentence.split()\n",
    "    for word in sp:\n",
    "        if word not in stop_words.get_stop_words('ru'):\n",
    "            if morph.word_is_known(word):\n",
    "                tmp_tokens.append(word)\n",
    "    if len(tmp_tokens) > 0:\n",
    "        corpus_tokens.append(tmp_tokens)\n",
    "    else:\n",
    "        inds_to_drop.append(i)\n",
    "        \n",
    "print(len(corpus_tokens))"
   ]
  },
  {
   "cell_type": "code",
   "execution_count": 117,
   "metadata": {},
   "outputs": [
    {
     "data": {
      "text/plain": [
       "[3281, 3308, 3433, 3529]"
      ]
     },
     "execution_count": 117,
     "metadata": {},
     "output_type": "execute_result"
    }
   ],
   "source": [
    "inds_to_drop"
   ]
  },
  {
   "cell_type": "code",
   "execution_count": 118,
   "metadata": {},
   "outputs": [],
   "source": [
    "corpus = np.asarray(corpus)\n",
    "labels = np.asarray(labels)\n",
    "\n",
    "corpus = np.delete(corpus, inds_to_drop)\n",
    "categories = np.delete(categories, inds_to_drop)"
   ]
  },
  {
   "cell_type": "code",
   "execution_count": 119,
   "metadata": {},
   "outputs": [
    {
     "data": {
      "text/plain": [
       "(4095, 4095, 4095)"
      ]
     },
     "execution_count": 119,
     "metadata": {},
     "output_type": "execute_result"
    }
   ],
   "source": [
    "len(corpus), len(corpus_tokens), len(categories)"
   ]
  },
  {
   "cell_type": "code",
   "execution_count": 120,
   "metadata": {},
   "outputs": [
    {
     "data": {
      "application/vnd.jupyter.widget-view+json": {
       "model_id": "6e699fb42c8a4a3ba2311d15f91a7a81",
       "version_major": 2,
       "version_minor": 0
      },
      "text/plain": [
       "VBox(children=(HTML(value=''), IntProgress(value=0, max=4095)))"
      ]
     },
     "metadata": {},
     "output_type": "display_data"
    },
    {
     "name": "stdout",
     "output_type": "stream",
     "text": [
      "4095\n"
     ]
    }
   ],
   "source": [
    "stemmer = RussianStemmer()\n",
    "\n",
    "corpus_tokens_stem = []\n",
    "\n",
    "for i, tokens in enumerate(log_progress(corpus_tokens[:])):\n",
    "    tmp = [stemmer.stem(word) for word in tokens]\n",
    "    corpus_tokens_stem.append(tmp)\n",
    "    \n",
    "print(len(corpus_tokens_stem))"
   ]
  },
  {
   "cell_type": "code",
   "execution_count": 121,
   "metadata": {},
   "outputs": [
    {
     "data": {
      "application/vnd.jupyter.widget-view+json": {
       "model_id": "b08cb42fe8fa4fa88c0bd0f5695e2aba",
       "version_major": 2,
       "version_minor": 0
      },
      "text/plain": [
       "VBox(children=(HTML(value=''), IntProgress(value=0, max=4095)))"
      ]
     },
     "metadata": {},
     "output_type": "display_data"
    }
   ],
   "source": [
    "tmp_corp = []\n",
    "\n",
    "for i, tokens in enumerate(log_progress(corpus_tokens_stem[:])):\n",
    "    tmp_corp.append([t for t in tokens if len(t) > 2])\n",
    "\n",
    "result_corpus_tokens = tmp_corp"
   ]
  },
  {
   "cell_type": "code",
   "execution_count": 122,
   "metadata": {},
   "outputs": [
    {
     "data": {
      "text/plain": [
       "4095"
      ]
     },
     "execution_count": 122,
     "metadata": {},
     "output_type": "execute_result"
    }
   ],
   "source": [
    "len(result_corpus_tokens)"
   ]
  },
  {
   "cell_type": "code",
   "execution_count": 123,
   "metadata": {},
   "outputs": [
    {
     "name": "stdout",
     "output_type": "stream",
     "text": [
      "Количество токенов в словаре: 33729\n",
      "Первые 10 слов в словаре:\n"
     ]
    },
    {
     "data": {
      "text/plain": [
       "['абака',\n",
       " 'абакан',\n",
       " 'абакум',\n",
       " 'абакумов',\n",
       " 'аббревиатур',\n",
       " 'абвер',\n",
       " 'абдоминальн',\n",
       " 'абдулкерим',\n",
       " 'аберрац',\n",
       " 'абзац']"
      ]
     },
     "execution_count": 123,
     "metadata": {},
     "output_type": "execute_result"
    }
   ],
   "source": [
    "vocab = np.unique(np.concatenate(result_corpus_tokens).flatten()).tolist()\n",
    "print(f'Количество токенов в словаре: {len(vocab)}')\n",
    "print('Первые 10 слов в словаре:')\n",
    "vocab[:10]"
   ]
  },
  {
   "cell_type": "code",
   "execution_count": 130,
   "metadata": {},
   "outputs": [],
   "source": [
    "clean_text = copy.deepcopy(result_corpus_tokens)"
   ]
  },
  {
   "cell_type": "code",
   "execution_count": 131,
   "metadata": {},
   "outputs": [],
   "source": [
    "bigram = Phrases(clean_text)\n",
    "trigram = Phrases(bigram[clean_text])\n",
    "\n",
    "for idx in range(len(clean_text)):\n",
    "    for token in bigram[clean_text[idx]]:\n",
    "        if '_' in token:\n",
    "            clean_text[idx].append(token)\n",
    "    for token in trigram[clean_text[idx]]:\n",
    "        if '_' in token:\n",
    "            clean_text[idx].append(token)"
   ]
  },
  {
   "cell_type": "code",
   "execution_count": 136,
   "metadata": {},
   "outputs": [
    {
     "data": {
      "text/plain": [
       "['административн_правонарушен',\n",
       " 'част_стат_коап_наказыва',\n",
       " 'езд_техосмотр',\n",
       " 'уголовн_ответствен',\n",
       " 'выезд_встречн',\n",
       " 'превышен_скорост',\n",
       " 'нов_коап',\n",
       " 'штраф_езд',\n",
       " 'оформлен_полис']"
      ]
     },
     "execution_count": 136,
     "metadata": {},
     "output_type": "execute_result"
    }
   ],
   "source": [
    "clean_text[1][-10:-1]"
   ]
  },
  {
   "cell_type": "code",
   "execution_count": 137,
   "metadata": {},
   "outputs": [
    {
     "name": "stdout",
     "output_type": "stream",
     "text": [
      "Количество уникальных токенов: 12085\n",
      "Количество документов: 4095\n"
     ]
    }
   ],
   "source": [
    "dictionary = Dictionary(clean_text)\n",
    "dictionary.filter_extremes(no_below=10, no_above=0.1)\n",
    "\n",
    "corpus1 = [dictionary.doc2bow(doc) for doc in clean_text]\n",
    "print('Количество уникальных токенов: %d' % len(dictionary))\n",
    "print('Количество документов: %d' % len(corpus1))"
   ]
  },
  {
   "cell_type": "code",
   "execution_count": 143,
   "metadata": {},
   "outputs": [],
   "source": [
    "chunksize = 2000\n",
    "passes = 20\n",
    "iterations = 400\n",
    "eval_every = None\n",
    "\n",
    "ldamodel = LdaModel(corpus=corpus1, num_topics=4, id2word=dictionary,\n",
    "    chunksize=chunksize,\n",
    "    alpha='auto',\n",
    "    eta='auto',\n",
    "    iterations=iterations,\n",
    "    passes=passes,\n",
    "    eval_every=eval_every)"
   ]
  },
  {
   "cell_type": "code",
   "execution_count": 144,
   "metadata": {},
   "outputs": [
    {
     "data": {
      "text/plain": [
       "[(0,\n",
       "  '0.007*\"фот_арт\" + 0.003*\"модел\" + 0.002*\"миллион_рубл\" + 0.002*\"арт\" + 0.002*\"миллион\" + 0.002*\"верс\" + 0.002*\"дтп\" + 0.002*\"скорост\" + 0.002*\"транспортн_средств\" + 0.002*\"знак\"'),\n",
       " (1,\n",
       "  '0.010*\"трудов\" + 0.006*\"договор\" + 0.005*\"трудов_договор\" + 0.005*\"трудов_кодекс\" + 0.004*\"размер\" + 0.004*\"выплат\" + 0.004*\"рабоч_мест\" + 0.004*\"российск_федерац\" + 0.004*\"штраф\" + 0.003*\"оплат_труд\"'),\n",
       " (2,\n",
       "  '0.005*\"вакцин\" + 0.003*\"прививк\" + 0.003*\"вирус\" + 0.003*\"препарат\" + 0.002*\"лечен\" + 0.002*\"фот_александр\" + 0.002*\"фот_арт\" + 0.002*\"красн_зон\" + 0.002*\"антител\" + 0.002*\"организм\"'),\n",
       " (3,\n",
       "  '0.006*\"рабоч_мест\" + 0.005*\"занят\" + 0.005*\"заработн_плат\" + 0.004*\"ваканс\" + 0.004*\"предприят\" + 0.004*\"центр_занят\" + 0.004*\"заработн\" + 0.004*\"тысяч_рубл\" + 0.003*\"служб_занят\" + 0.003*\"рынк_труд\"')]"
      ]
     },
     "execution_count": 144,
     "metadata": {},
     "output_type": "execute_result"
    }
   ],
   "source": [
    "ldamodel.show_topics()"
   ]
  },
  {
   "cell_type": "code",
   "execution_count": 152,
   "metadata": {},
   "outputs": [
    {
     "name": "stderr",
     "output_type": "stream",
     "text": [
      "C:\\Users\\antid\\AppData\\Local\\Packages\\PythonSoftwareFoundation.Python.3.9_qbz5n2kfra8p0\\LocalCache\\local-packages\\Python39\\site-packages\\pyLDAvis\\_prepare.py:246: FutureWarning: In a future version of pandas all arguments of DataFrame.drop except for the argument 'labels' will be keyword-only\n",
      "  default_term_info = default_term_info.sort_values(\n"
     ]
    }
   ],
   "source": [
    "pyLDAvis.enable_notebook()\n",
    "data = pyLDAvis.gensim_models.prepare(ldamodel, corpus1, dictionary)"
   ]
  },
  {
   "cell_type": "code",
   "execution_count": 157,
   "metadata": {},
   "outputs": [
    {
     "data": {
      "text/html": [
       "\n",
       "<link rel=\"stylesheet\" type=\"text/css\" href=\"https://cdn.jsdelivr.net/gh/bmabey/pyLDAvis@3.3.1/pyLDAvis/js/ldavis.v1.0.0.css\">\n",
       "\n",
       "\n",
       "<div id=\"ldavis_el740817073344828486004127804\"></div>\n",
       "<script type=\"text/javascript\">\n",
       "\n",
       "var ldavis_el740817073344828486004127804_data = {\"mdsDat\": {\"x\": [0.17416462191100124, 0.16520435852400026, -0.1170817701227664, -0.22228721031223495], \"y\": [-0.011390580082199193, 0.06359351995662052, -0.19130319150692185, 0.13910025163250062], \"topics\": [1, 2, 3, 4], \"cluster\": [1, 1, 1, 1], \"Freq\": [41.330596487127565, 39.02032882855398, 13.42863185845796, 6.220442825860503]}, \"tinfo\": {\"Term\": [\"\\u0442\\u0440\\u0443\\u0434\\u043e\\u0432\", \"\\u0432\\u0430\\u043a\\u0446\\u0438\\u043d\", \"\\u0440\\u0430\\u0431\\u043e\\u0447_\\u043c\\u0435\\u0441\\u0442\", \"\\u0437\\u0430\\u043d\\u044f\\u0442\", \"\\u0444\\u043e\\u0442_\\u0430\\u0440\\u0442\", \"\\u0448\\u0442\\u0440\\u0430\\u0444\", \"\\u0434\\u043e\\u0433\\u043e\\u0432\\u043e\\u0440\", \"\\u0437\\u0430\\u0440\\u0430\\u0431\\u043e\\u0442\\u043d_\\u043f\\u043b\\u0430\\u0442\", \"\\u0432\\u0430\\u043a\\u0430\\u043d\\u0441\", \"\\u0440\\u0430\\u0437\\u043c\\u0435\\u0440\", \"\\u0442\\u044b\\u0441\\u044f\\u0447_\\u0440\\u0443\\u0431\\u043b\", \"\\u0441\\u043b\\u0443\\u0436\\u0431_\\u0437\\u0430\\u043d\\u044f\\u0442\", \"\\u043f\\u0440\\u0438\\u0432\\u0438\\u0432\\u043a\", \"\\u043f\\u0440\\u0435\\u0434\\u043f\\u0440\\u0438\\u044f\\u0442\", \"\\u0437\\u0430\\u0440\\u0430\\u0431\\u043e\\u0442\\u043d\", \"\\u0442\\u0440\\u0443\\u0434\\u043e\\u0432_\\u0434\\u043e\\u0433\\u043e\\u0432\\u043e\\u0440\", \"\\u043a\\u0430\\u043d\\u0434\\u0438\\u0434\\u0430\\u0442\", \"\\u0442\\u0440\\u0443\\u0434\\u043e\\u0432_\\u043a\\u043e\\u0434\\u0435\\u043a\\u0441\", \"\\u0446\\u0435\\u043d\\u0442\\u0440_\\u0437\\u0430\\u043d\\u044f\\u0442\", \"\\u0432\\u044b\\u043f\\u043b\\u0430\\u0442\", \"\\u043c\\u043e\\u0434\\u0435\\u043b\", \"\\u043d\\u0430\\u0441\\u0435\\u043b\\u0435\\u043d\", \"\\u0432\\u0438\\u0440\\u0443\\u0441\", \"\\u043f\\u0440\\u0435\\u043f\\u0430\\u0440\\u0430\\u0442\", \"\\u043f\\u0440\\u043e\\u0444\\u0435\\u0441\\u0441\", \"\\u0440\\u044b\\u043d\\u043a_\\u0442\\u0440\\u0443\\u0434\", \"\\u043f\\u043e\\u0438\\u0441\\u043a_\\u0440\\u0430\\u0431\\u043e\\u0442\", \"\\u0432\\u044b\\u0445\\u043e\\u0434\\u043d\", \"\\u0441\\u0444\\u0435\\u0440\", \"\\u0441\\u043e\\u043a\\u0440\\u0430\\u0449\\u0435\\u043d\", \"\\u0432\\u0430\\u043a\\u0446\\u0438\\u043d\", \"\\u043f\\u0440\\u0438\\u0432\\u0438\\u0432\\u043a\", \"\\u0432\\u0438\\u0440\\u0443\\u0441\", \"\\u043f\\u0440\\u0435\\u043f\\u0430\\u0440\\u0430\\u0442\", \"\\u0430\\u043d\\u0442\\u0438\\u0442\\u0435\\u043b\", \"\\u0437\\u0430\\u0440\\u0430\\u0436\\u0435\\u043d\", \"\\u043a\\u0440\\u0430\\u0441\\u043d_\\u0437\\u043e\\u043d\", \"\\u043c\\u0435\\u0434\\u0438\\u043a\", \"\\u043c\\u0438\\u043d\\u0437\\u0434\\u0440\\u0430\\u0432\", \"\\u0437\\u0430\\u0431\\u043e\\u043b\\u0435\\u0432\\u0448\", \"\\u0437\\u0430\\u0431\\u043e\\u043b\\u0435\\u0432\\u0430\\u0435\\u043c\", \"\\u043d\\u043e\\u0432_\\u0448\\u0442\\u0430\\u043c\\u043c\", \"\\u0448\\u0442\\u0430\\u043c\\u043c\", \"\\u0441\\u0434\\u0435\\u043b\\u0430_\\u043f\\u0440\\u0438\\u0432\\u0438\\u0432\\u043a\", \"\\u043d\\u043e\\u0432_\\u0438\\u043d\\u0444\\u0435\\u043a\\u0446\", \"\\u043d\\u0430\\u0442\\u0430\\u043b_\\u0431\\u0443\\u0440\\u0443\\u0445\\u0438\\u043d\", \"\\u043a\\u043e\\u043b\\u043b\\u0435\\u043a\\u0442\\u0438\\u0432\\u043d_\\u0438\\u043c\\u043c\\u0443\\u043d\\u0438\\u0442\\u0435\\u0442\", \"\\u0434\\u0438\\u0430\\u0433\\u043d\\u043e\\u0437\", \"\\u0433\\u043b\\u0435\\u0431_\\u043d\\u0438\\u043a\\u0438\\u0442\\u0438\\u043d\", \"\\u0441\\u043b\\u0443\\u0447\\u0430_\\u0437\\u0430\\u0440\\u0430\\u0436\\u0435\\u043d\", \"\\u043f\\u043e\\u0441\\u043b\\u0435\\u0434\\u043d_\\u0441\\u0443\\u0442\\u043a\", \"\\u0433\\u0440\\u0438\\u043f\\u043f\", \"\\u043f\\u0440\\u0438\\u0432\\u0438\\u0432\\u0430\", \"\\u043f\\u0440\\u0438\\u0432\", \"\\u0434\\u0435\\u043b\\u0430_\\u043f\\u0440\\u0438\\u0432\\u0438\\u0432\\u043a\", \"\\u0442\\u043e\\u0440\\u0433\\u043e\\u0432_\\u0446\\u0435\\u043d\\u0442\\u0440\", \"\\u0445\\u0440\\u043e\\u043d\\u0438\\u0447\\u0435\\u0441\\u043a_\\u0437\\u0430\\u0431\\u043e\\u043b\\u0435\\u0432\\u0430\\u043d\", \"\\u0431\\u0443\\u0440\\u0443\\u0445\\u0438\\u043d_\\u0444\\u043e\\u0442\", \"\\u0432\\u0430\\u043a\\u0446\\u0438\\u043d\\u0438\\u0440\\u043e\\u0432\\u0430\", \"\\u043f\\u043e\\u0440\\u0430\\u0436\\u0435\\u043d_\\u043b\\u0435\\u0433\\u043a\", \"\\u0441\\u0438\\u043c\\u043f\\u0442\\u043e\\u043c\", \"\\u044d\\u043a\\u0441\\u043a\\u0443\\u0440\\u0441\", \"\\u0441\\u043f\\u0443\\u0442\\u043d\\u0438\\u043a\", \"\\u0444\\u043e\\u0442_\\u0430\\u043b\\u0435\\u043a\\u0441\", \"\\u0440\\u043e\\u0441\\u043f\\u043e\\u0442\\u0440\\u0435\\u0431\\u043d\\u0430\\u0434\\u0437\\u043e\\u0440\", \"\\u0438\\u043c\\u043c\\u0443\\u043d\\u0438\\u0442\\u0435\\u0442\", \"\\u043b\\u0435\\u0447\\u0435\\u043d\", \"\\u0431\\u043e\\u043b\\u044c\\u043d\", \"\\u043e\\u0440\\u0433\\u0430\\u043d\\u0438\\u0437\\u043c\", \"\\u043a\\u0440\\u043e\\u0432\", \"\\u0441\\u043c\\u0435\\u0440\\u0442\", \"\\u0431\\u043e\\u043b\", \"\\u0434\\u043e\\u043a\\u0442\\u043e\\u0440\", \"\\u0441\\u0443\\u0442\\u043a\", \"\\u0432\\u043e\\u043b\\u043d\", \"\\u0444\\u043e\\u0442_\\u0430\\u043b\\u0435\\u043a\\u0441\\u0430\\u043d\\u0434\\u0440\", \"\\u0442\\u0435\\u043c\\u043f\\u0435\\u0440\\u0430\\u0442\\u0443\\u0440\", \"\\u0436\\u0435\\u043d\\u0449\\u0438\\u043d\", \"\\u0444\\u043e\\u0442_\\u0430\\u0440\\u0442\", \"\\u043c\\u0430\\u043c\", \"\\u043f\\u0435\\u0440\\u0432_\\u043e\\u0447\\u0435\\u0440\\u0435\\u0434\", \"\\u0434\\u0442\\u043f\", \"\\u043f\\u043e\\u043b\\u043d_\\u043f\\u0440\\u0438\\u0432\\u043e\\u0434\", \"\\u043a\\u0440\\u043e\\u0441\\u0441\\u043e\\u0432\\u0435\\u0440\", \"\\u0434\\u0432\\u0438\\u0433\\u0430\\u0442\\u0435\\u043b\", \"\\u0437\\u0430\\u0434\\u043d\", \"\\u043c\\u043e\\u0442\\u043e\\u0440\", \"\\u0433\\u0438\\u0431\\u0434\\u0434\", \"\\u0440\\u0443\\u043b\", \"\\u0430\\u0432\\u0442\\u043e\\u043c\\u043e\\u0431\\u0438\\u043b\\u0438\\u0441\\u0442\", \"\\u0430\\u0432\\u0430\\u0440\", \"\\u043a\\u043e\\u043b\\u0435\\u0441\", \"\\u0430\\u0432\\u0442\\u043e\\u043c\\u043e\\u0431\", \"\\u043f\\u0443\\u043d\\u043a\\u0442_\\u043f\\u0434\\u0434\", \"\\u043f\\u0440\\u043e\\u0435\\u0437\\u0436_\\u0447\\u0430\\u0441\\u0442\", \"\\u043f\\u0434\\u0434\", \"\\u043f\\u0435\\u0448\\u0435\\u0445\\u043e\\u0434\", \"\\u043a\\u043e\\u043c\\u043f\\u043b\\u0435\\u043a\\u0442\\u0430\\u0446\", \"\\u0441\\u0442\\u043e_\\u043c\\u0438\\u043b\\u043b\\u0438\\u043e\\u043d\", \"\\u0430\\u0432\\u0442\\u043e\\u043c\\u0430\\u0442\", \"\\u043f\\u0435\\u0440\\u0435\\u0434\\u043d\", \"\\u0430\\u0432\\u0442\\u043e\\u0432\\u0430\\u0437\", \"\\u0430\\u0432\\u0442\", \"\\u043b\\u0435\\u0432_\\u0432\\u043e\\u0440\\u043e\\u043f\\u0430\", \"\\u0442\\u0440\\u0430\\u0441\\u0441\", \"\\u0441\\u043e\\u0442\\u0440\\u0443\\u0434\\u043d\\u0438\\u043a_\\u0433\\u0438\\u0431\\u0434\\u0434\", \"\\u043f\\u043e\\u0434\\u0432\\u0435\\u0441\\u043a\", \"\\u0434\\u0438\\u043b\\u0435\\u0440\", \"\\u0431\\u0440\\u0435\\u043d\\u0434\", \"\\u0441\\u0442\\u0440\\u0430\\u0445\\u043e\\u0432_\\u043a\\u043e\\u043c\\u043f\\u0430\\u043d\", \"\\u043f\\u0435\\u0448\\u0435\\u0445\\u043e\\u0434\\u043d_\\u043f\\u0435\\u0440\\u0435\\u0445\\u043e\\u0434\", \"\\u043c\\u043e\\u0434\\u0435\\u043b\", \"\\u0442\\u0440\\u0430\\u043d\\u0441\\u043f\\u043e\\u0440\\u0442\\u043d_\\u0441\\u0440\\u0435\\u0434\\u0441\\u0442\\u0432\", \"\\u043a\\u0430\\u043c\\u0435\\u0440\", \"\\u043c\\u0430\\u0440\\u043a\", \"\\u043c\\u043e\\u0441\\u0442\", \"\\u0438\\u043d\\u0441\\u043f\\u0435\\u043a\\u0442\\u043e\\u0440\", \"\\u043f\\u043e\\u043a\\u0443\\u043f\\u0430\\u0442\\u0435\\u043b\", \"\\u043c\\u0438\\u043b\\u043b\\u0438\\u043e\\u043d_\\u0440\\u0443\\u0431\\u043b\", \"\\u0441\\u0430\\u043b\\u043e\\u043d\", \"\\u0441\\u0438\\u0434\\u0435\\u043d\", \"\\u043f\\u0430\\u0440\\u043a\\u043e\\u0432\\u043a\", \"\\u0437\\u043d\\u0430\\u043a\", \"\\u0432\\u0435\\u0440\\u0441\", \"\\u0434\\u043e\\u0440\\u043e\\u0436\\u043d\", \"\\u0442\\u043e\\u043f\\u043b\\u0438\\u0432\", \"\\u0441\\u043a\\u043e\\u0440\\u043e\\u0441\\u0442\", \"\\u0444\\u043e\\u0442_\\u0430\\u0440\\u0442\", \"\\u043a\\u0443\\u043f\", \"\\u043c\\u0438\\u043b\\u043b\\u0438\\u043e\\u043d\", \"\\u043c\\u0435\\u0442\\u0440\", \"\\u0430\\u0440\\u0442\", \"\\u043f\\u043e\\u043b\\u043e\\u0441\", \"\\u0441\\u0442\\u043e_\\u0440\\u0443\\u0431\\u043b\", \"\\u0448\\u0442\\u0440\\u0430\\u0444\", \"\\u043b\\u044e\\u0431_\\u0441\\u043b\\u0443\\u0447\\u0430\", \"\\u043f\\u0443\\u043d\\u043a\\u0442\", \"\\u0442\\u043e\\u0447\\u043a_\\u0437\\u0440\\u0435\\u043d\", \"\\u043a\\u043b\\u0438\\u0435\\u043d\\u0442\", \"\\u043f\\u0440\\u0438\\u0432\\u043e\\u0434\", \"\\u0441\\u0440\\u0435\\u0434\\u043d_\\u0437\\u0430\\u0440\\u043f\\u043b\\u0430\\u0442\", \"\\u043a\\u0440\\u0443\\u0433\\u043b_\\u0441\\u0442\\u043e\\u043b\", \"\\u043c\\u0435\\u043d\\u0435\\u0434\\u0436\\u0435\\u0440_\\u043f\\u0440\\u043e\\u0434\\u0430\\u0436\", \"\\u0443\\u0434\\u0430\\u043b\\u0435\\u043d_\\u0440\\u0430\\u0431\\u043e\\u0442\", \"\\u0441\\u0444\\u0435\\u0440_\\u0434\\u0435\\u044f\\u0442\\u0435\\u043b\\u044c\\u043d\", \"\\u043d\\u0435\\u043f\\u043e\\u043b\\u043d_\\u0440\\u0430\\u0431\\u043e\\u0447\", \"\\u0443\\u0440\\u043e\\u0432\\u0435\\u043d_\\u0431\\u0435\\u0437\\u0440\\u0430\\u0431\\u043e\\u0442\\u0438\\u0446\", \"\\u043f\\u0440\\u043e\\u0436\\u0438\\u0442\\u043e\\u0447\\u043d_\\u043c\\u0438\\u043d\\u0438\\u043c\\u0443\\u043c\", \"\\u0432\\u044b\\u0441\\u0448_\\u043e\\u0431\\u0440\\u0430\\u0437\\u043e\\u0432\\u0430\\u043d\", \"\\u0441\\u0440\\u0435\\u0434\\u043d_\\u0437\\u0430\\u0440\\u0430\\u0431\\u043e\\u0442\\u043d\", \"\\u043f\\u043e\\u0432\\u044b\\u0448\\u0435\\u043d_\\u043f\\u0435\\u043d\\u0441\\u0438\\u043e\\u043d\", \"\\u043c\\u0438\\u043d\\u0438\\u0441\\u0442\\u0440_\\u0442\\u0440\\u0443\\u0434\", \"\\u043a\\u0440\\u0443\\u043f\\u043d_\\u043a\\u043e\\u043c\\u043f\\u0430\\u043d\", \"\\u0432\\u0437\\u043d\\u043e\\u0441\", \"\\u0441\\u043e\\u043a\\u0440\\u0430\\u0449\\u0435\\u043d_\\u0448\\u0442\\u0430\\u0442\", \"\\u0440\\u0435\\u0430\\u043b\\u044c\\u043d_\\u0437\\u0430\\u0440\\u043f\\u043b\\u0430\\u0442\", \"\\u0437\\u0430\\u0440\\u043f\\u043b\\u0430\\u0442_\\u0440\\u0443\\u0431\\u043b\", \"\\u044d\\u043a\\u043e\\u043d\\u043e\\u043c\\u0438\\u0447\\u0435\\u0441\\u043a_\\u0430\\u043a\\u0442\\u0438\\u0432\\u043d\", \"\\u0440\\u043e\\u0441\\u0442_\\u0431\\u0435\\u0437\\u0440\\u0430\\u0431\\u043e\\u0442\\u0438\\u0446\", \"\\u0441\\u0442\\u0440\\u0430\\u0445\\u043e\\u0432_\\u0432\\u0437\\u043d\\u043e\\u0441\", \"\\u0447\\u0438\\u0441\\u043b\\u0435\\u043d_\\u0440\\u0430\\u0431\\u043e\\u0442\\u043d\\u0438\\u043a\", \"\\u043c\\u0438\\u043d\\u0442\\u0440\\u0443\\u0434\", \"\\u0443\\u0441\\u0442\\u0440\\u043e_\\u0440\\u0430\\u0431\\u043e\\u0442\", \"\\u043c\\u0435\\u043d\\u0435\\u0434\\u0436\\u0435\\u0440_\\u043f\\u0435\\u0440\\u0441\\u043e\\u043d\\u0430\\u043b\", \"\\u0443\\u0432\\u043e\\u043b\\u044c\\u043d\\u0435\\u043d_\\u0440\\u0430\\u0431\\u043e\\u0442\\u043d\\u0438\\u043a\", \"\\u0438\\u0441\\u043f\\u044b\\u0442\\u0430\\u0442\\u0435\\u043b\\u044c\\u043d_\\u0441\\u0440\\u043e\\u043a\", \"\\u043f\\u0440\\u043e\\u0436\\u0438\\u0442\\u043e\\u0447\\u043d\", \"\\u0442\\u0440\\u0443\\u0434\\u043e\\u0432_\\u0434\\u0435\\u044f\\u0442\\u0435\\u043b\\u044c\\u043d\", \"\\u0437\\u0430\\u043c\\u0435\\u0441\\u0442\\u0438\\u0442\\u0435\\u043b_\\u043c\\u0438\\u043d\\u0438\\u0441\\u0442\\u0440\", \"\\u043a\\u043b\\u0438\\u0435\\u043d\\u0442\\u0441\\u043a_\\u0431\\u0430\\u0437\", \"\\u043f\\u0435\\u043d\\u0441\", \"\\u043f\\u0435\\u043d\\u0441\\u0438\\u043e\\u043d\", \"\\u0440\\u044b\\u043d\\u043a_\\u0442\\u0440\\u0443\\u0434\", \"\\u0437\\u0430\\u0440\\u0430\\u0431\\u043e\\u0442\\u043d_\\u043f\\u043b\\u0430\\u0442\", \"\\u043f\\u0435\\u043d\\u0441\\u0438\\u043e\\u043d_\\u0444\\u043e\\u043d\\u0434\", \"\\u0438\\u043d\\u0434\\u0438\\u0432\\u0438\\u0434\\u0443\\u0430\\u043b\\u044c\\u043d_\\u043f\\u0440\\u0435\\u0434\\u043f\\u0440\\u0438\\u043d\\u0438\\u043c\\u0430\\u0442\\u0435\\u043b\", \"\\u043c\\u0435\\u043d\\u0435\\u0434\\u0436\\u0435\\u0440\", \"\\u0446\\u0435\\u043d\\u0442\\u0440_\\u0437\\u0430\\u043d\\u044f\\u0442\", \"\\u0433\\u0435\\u043d\\u0435\\u0440\\u0430\\u043b\\u044c\\u043d_\\u0434\\u0438\\u0440\\u0435\\u043a\\u0442\\u043e\\u0440\", \"\\u0432\\u0430\\u043a\\u0430\\u043d\\u0441\", \"\\u0441\\u0444\\u0435\\u0440\", \"\\u0443\\u0432\\u043e\\u043b\\u044c\\u043d\\u0435\\u043d\", \"\\u0440\\u0430\\u0431\\u043e\\u0447_\\u043c\\u0435\\u0441\\u0442\", \"\\u0437\\u0430\\u043d\\u044f\\u0442\", \"\\u0441\\u043e\\u0431\\u0435\\u0441\\u0435\\u0434\\u043e\\u0432\\u0430\\u043d\", \"\\u0437\\u0430\\u0440\\u0430\\u0431\\u043e\\u0442\\u043d\", \"\\u0441\\u043e\\u043a\\u0440\\u0430\\u0449\\u0435\\u043d\", \"\\u0431\\u0438\\u0437\\u043d\\u0435\\u0441\", \"\\u043f\\u0435\\u043d\\u0441\\u0438\\u043e\\u043d_\\u0432\\u043e\\u0437\\u0440\\u0430\\u0441\\u0442\", \"\\u043f\\u0440\\u0435\\u0434\\u043f\\u0440\\u0438\\u044f\\u0442\", \"\\u0440\\u0435\\u0437\\u044e\\u043c\", \"\\u043e\\u0431\\u0443\\u0447\\u0435\\u043d\", \"\\u0441\\u043b\\u0443\\u0436\\u0431_\\u0437\\u0430\\u043d\\u044f\\u0442\", \"\\u0434\\u043e\\u043b\\u0436\\u043d\\u043e\\u0441\\u0442\", \"\\u0434\\u043e\\u0445\\u043e\\u0434\", \"\\u0442\\u044b\\u0441\\u044f\\u0447_\\u0440\\u0443\\u0431\\u043b\", \"\\u0438\\u043d\\u0432\\u0430\\u043b\\u0438\\u0434\", \"\\u0434\\u0435\\u044f\\u0442\\u0435\\u043b\\u044c\\u043d\", \"\\u043a\\u0430\\u043d\\u0434\\u0438\\u0434\\u0430\\u0442\", \"\\u043d\\u0430\\u0441\\u0435\\u043b\\u0435\\u043d\", \"\\u0431\\u0430\\u043d\\u043a\", \"\\u0443\\u0441\\u043b\\u0443\\u0433\", \"\\u043f\\u0440\\u043e\\u0444\\u0435\\u0441\\u0441\", \"\\u0441\\u043b\\u0443\\u0436\\u0431\", \"\\u0440\\u0430\\u0431\\u043e\\u0447_\\u043d\\u0435\\u0434\\u0435\\u043b\", \"\\u043f\\u0440\\u0438\\u0447\\u0438\\u043d_\\u043e\\u0442\\u043a\\u0430\\u0437\", \"\\u0440\\u043e\\u0441\\u0441\\u0438\\u0439\\u0441\\u043a_\\u0444\\u0435\\u0434\\u0435\\u0440\\u0430\\u0446\", \"\\u0441\\u0435\\u0440_\\u0437\\u0430\\u0440\\u043f\\u043b\\u0430\\u0442\", \"\\u0442\\u0440\\u0443\\u0434\\u043e\\u0432_\\u043e\\u0442\\u043d\\u043e\\u0448\\u0435\\u043d\", \"\\u043d\\u0435\\u0441\\u0447\\u0430\\u0441\\u0442\\u043d_\\u0441\\u043b\\u0443\\u0447\\u0430\", \"\\u043f\\u0440\\u0438\\u043d\\u0443\\u0434\\u0438\\u0442\\u0435\\u043b\\u044c\\u043d_\\u0440\\u0430\\u0431\\u043e\\u0442\", \"\\u0444\\u0435\\u0434\\u0435\\u0440\\u0430\\u043b\\u044c\\u043d_\\u0437\\u0430\\u043a\\u043e\\u043d\", \"\\u0441\\u043e\\u0432\\u0435\\u0442_\\u0444\\u0435\\u0434\\u0435\\u0440\\u0430\\u0446\", \"\\u0441\\u043e\\u043a\\u0440\\u0430\\u0449\\u0435\\u043d_\\u0440\\u0430\\u0431\\u043e\\u0447\", \"\\u0448\\u0442\\u0440\\u0430\\u0444_\\u0440\\u0430\\u0437\\u043c\\u0435\\u0440\", \"\\u043e\\u0444\\u0438\\u0441\\u043d_\\u0441\\u043e\\u0442\\u0440\\u0443\\u0434\\u043d\\u0438\\u043a\", \"\\u043f\\u043e\\u044f\\u0441\\u043d\\u0438\\u0442\\u0435\\u043b\\u044c\\u043d_\\u0437\\u0430\\u043f\\u0438\\u0441\\u043a\", \"\\u0434\\u043e\\u043b\\u0436\\u043d\\u043e\\u0441\\u0442\\u043d_\\u043b\\u0438\\u0446\", \"\\u0433\\u043e\\u0441\\u0443\\u0434\\u0430\\u0440\\u0441\\u0442\\u0432\\u0435\\u043d_\\u0434\\u0443\\u043c\", \"\\u0442\\u0440\\u0443\\u0434\\u043e\\u0432_\\u043e\\u0431\\u044f\\u0437\\u0430\\u043d\", \"\\u0432\\u0442\\u043e\\u0440_\\u0447\\u0442\\u0435\\u043d\", \"\\u043c\\u043e\\u0440\\u0430\\u043b\\u044c\\u043d_\\u0432\\u0440\\u0435\\u0434\", \"\\u043c\\u0430\\u0439\\u0441\\u043a_\\u043f\\u0440\\u0430\\u0437\\u0434\\u043d\\u0438\\u043a\", \"\\u044e\\u0440\\u0438\\u0434\\u0438\\u0447\\u0435\\u0441\\u043a_\\u043b\\u0438\\u0446\", \"\\u0437\\u0430\\u043a\\u043e\\u043d\\u043e\\u043f\\u0440\\u043e\\u0435\\u043a\\u0442_\\u043f\\u0440\\u0435\\u0434\\u0443\\u0441\\u043c\\u0430\\u0442\\u0440\\u0438\\u0432\\u0430\", \"\\u0447\\u0442\\u0435\\u043d\", \"\\u043a\\u043e\\u043c\\u0438\\u0442\\u0435\\u0442_\\u0433\\u043e\\u0441\\u0434\\u0443\\u043c\", \"\\u0441\\u0442\\u0430\\u0442_\\u043d\\u0430\\u043a\\u0430\\u0437\\u044b\\u0432\\u0430\", \"\\u043a\\u043e\\u0440\\u0440\\u0443\\u043f\\u0446\", \"\\u0437\\u0430\\u043d\\u0438\\u043c\\u0430_\\u043e\\u043f\\u0440\\u0435\\u0434\\u0435\\u043b\\u0435\\u043d\", \"\\u043f\\u043e\\u0442\\u0435\\u0440_\\u0440\\u0430\\u0431\\u043e\\u0442\", \"\\u0433\\u043e\\u0434_\\u0440\\u0430\\u043d\", \"\\u0434\\u0435\\u0439\\u0441\\u0442\\u0432_\\u0437\\u0430\\u043a\\u043e\\u043d\\u043e\\u0434\\u0430\\u0442\\u0435\\u043b\\u044c\\u0441\\u0442\\u0432\", \"\\u0440\\u0430\\u0431\\u043e\\u0442\\u043e\\u0434\\u0430\\u0442\\u0435\\u043b_\\u0434\\u043e\\u043b\\u0436\", \"\\u0432\\u0440\\u0435\\u043c\\u0435\\u043d_\\u043d\\u0435\\u0442\\u0440\\u0443\\u0434\\u043e\\u0441\\u043f\\u043e\\u0441\\u043e\\u0431\\u043d\", \"\\u043f\\u0438\\u0441\\u044c\\u043c\\u0435\\u043d\", \"\\u043c\\u0438\\u043d\\u0438\\u043c\\u0430\\u043b\\u044c\\u043d_\\u0440\\u0430\\u0437\\u043c\\u0435\\u0440\", \"\\u0434\\u0435\\u043f\\u0443\\u0442\\u0430\\u0442\", \"\\u043e\\u043f\\u043b\\u0430\\u0442_\\u0442\\u0440\\u0443\\u0434\", \"\\u043f\\u0438\\u0441\\u044c\\u043c\\u0435\\u043d_\\u0444\\u043e\\u0440\\u043c\", \"\\u0437\\u0430\\u043a\\u043e\\u043d\\u043e\\u043f\\u0440\\u043e\\u0435\\u043a\\u0442\", \"\\u0442\\u0440\\u0443\\u0434\\u043e\\u0432_\\u043a\\u043e\\u0434\\u0435\\u043a\\u0441\", \"\\u043b\\u0438\\u0448\\u0435\\u043d_\\u0441\\u0432\\u043e\\u0431\\u043e\\u0434\", \"\\u0433\\u043e\\u0441\\u0434\\u0443\\u043c\", \"\\u0440\\u0430\\u0431\\u043e\\u0442_\\u043f\\u0435\\u0440\\u0441\\u043e\\u043d\\u0430\\u043b\", \"\\u0442\\u0440\\u0443\\u0434\\u043e\\u0432_\\u0434\\u043e\\u0433\\u043e\\u0432\\u043e\\u0440\", \"\\u0437\\u0430\\u043a\\u043e\\u043d\\u043e\\u0434\\u0430\\u0442\\u0435\\u043b\\u044c\\u0441\\u0442\\u0432\", \"\\u0442\\u0440\\u0443\\u0434\\u043e\\u0432\", \"\\u043a\\u043e\\u0434\\u0435\\u043a\\u0441\", \"\\u0444\\u0435\\u0434\\u0435\\u0440\\u0430\\u0446\", \"\\u0440\\u0430\\u0431\\u043e\\u0447_\\u0434\\u043d\\u0435\", \"\\u043d\\u043e\\u0432\\u043e\\u0433\\u043e\\u0434\\u043d_\\u043a\\u0430\\u043d\\u0438\\u043a\\u0443\\u043b\", \"\\u0434\\u043e\\u0433\\u043e\\u0432\\u043e\\u0440\", \"\\u043c\\u0435\\u0441\\u0442_\\u0436\\u0438\\u0442\\u0435\\u043b\\u044c\\u0441\\u0442\\u0432\", \"\\u0433\\u043e\\u0441\\u0443\\u0434\\u0430\\u0440\\u0441\\u0442\\u0432\\u0435\\u043d_\\u0438\\u043d\\u0441\\u043f\\u0435\\u043a\\u0446\", \"\\u0432\\u044b\\u043f\\u043b\\u0430\\u0442\", \"\\u0448\\u0442\\u0440\\u0430\\u0444_\\u0440\\u0443\\u0431\\u043b\", \"\\u043e\\u0442\\u043a\\u0430\\u0437\", \"\\u0440\\u0430\\u0437\\u043c\\u0435\\u0440\", \"\\u043f\\u043e\\u0438\\u0441\\u043a_\\u0440\\u0430\\u0431\\u043e\\u0442\", \"\\u0432\\u044b\\u0445\\u043e\\u0434\\u043d\", \"\\u0438\\u043c\\u0435\\u0435\\u0442_\\u043f\\u0440\\u0430\\u0432\", \"\\u0440\\u0430\\u0431\\u043e\\u0447_\\u043c\\u0435\\u0441\\u0442\", \"\\u0448\\u0442\\u0440\\u0430\\u0444\", \"\\u0441\\u043b\\u0443\\u0436\\u0431_\\u0437\\u0430\\u043d\\u044f\\u0442\", \"\\u0433\\u0440\\u0430\\u0436\\u0434\\u0430\\u043d\\u0441\\u043a\\u043e\\u043f\\u0440\\u0430\\u0432\\u043e\\u0432_\\u0434\\u043e\\u0433\\u043e\\u0432\\u043e\\u0440\", \"\\u0442\\u0430\\u043a_\\u043e\\u0431\\u0440\\u0430\\u0437\", \"\\u043a\\u0430\\u043d\\u0434\\u0438\\u0434\\u0430\\u0442\"], \"Freq\": [878.0, 1998.0, 1061.0, 857.0, 3295.0, 844.0, 594.0, 702.0, 677.0, 714.0, 825.0, 635.0, 1204.0, 763.0, 631.0, 420.0, 636.0, 380.0, 561.0, 485.0, 1110.0, 882.0, 1024.0, 1023.0, 666.0, 492.0, 456.0, 479.0, 503.0, 515.0, 1997.8989239383316, 1204.0924179062188, 1024.157882581911, 1022.9724125983021, 729.1475496519187, 708.5043592173705, 746.7078666681974, 689.4792937680152, 654.3723970628402, 605.6121547806758, 597.5948428080625, 549.5933636290579, 546.0615014797395, 468.11179887522013, 464.5271117453483, 446.2112417230301, 431.27702018772374, 422.9880301426482, 421.8457076409212, 393.57334374145444, 389.91064653082776, 380.71983162784073, 370.8376420575654, 366.91270823659517, 361.95596422799593, 375.4295443662474, 349.82002683904966, 354.37392726270434, 342.2209716382893, 337.1027078164965, 574.0051136682372, 603.8308341227633, 665.8115781510905, 508.0653757443471, 576.4709403297468, 589.9976758997258, 862.8114146327999, 677.1762188959148, 722.1512373928085, 572.7299497945019, 499.4442822692505, 626.0776568981523, 502.2064764266623, 650.2605458955774, 628.66674184762, 810.8713823237191, 566.2870016301616, 683.3437124029454, 790.2351785711387, 518.5410556233965, 538.9436776031631, 710.4055382821041, 608.8950485660529, 591.6453704326669, 590.792729490406, 566.4000051776732, 533.4587208726647, 533.0151746567126, 506.735685321259, 495.7464623589302, 499.3988105151862, 480.7760644737363, 474.14689368324866, 465.15732788240734, 450.46058089813243, 445.13610985902966, 349.68556140471406, 343.96817402318425, 313.75542095680163, 306.55017936503896, 309.1401024111797, 288.25055531571655, 286.9617442526342, 270.6234038426997, 266.6730480726009, 256.2466590520076, 245.721238711896, 244.59463488886172, 269.3030382457655, 415.12133029458226, 225.42616922912143, 1099.962347930572, 648.7057727180398, 510.53283669853874, 345.3989582043248, 400.5906457299855, 293.95512923893784, 331.8099848304395, 932.043648118276, 534.8561232093772, 310.1925887345026, 432.06486705363386, 634.847716719676, 817.3567338173226, 421.67107992783247, 419.37241236011283, 659.4372111834768, 2504.9449037355967, 560.1571545841181, 819.858010016244, 571.1370181508129, 890.7188857325561, 477.6232406330341, 520.3044914259805, 617.1121076786809, 561.568194897326, 558.2702112871948, 538.0938501390453, 496.5523063230209, 488.28069530441155, 313.5692011089441, 268.355780086485, 206.27064231568556, 190.00108096999145, 179.61970955014607, 175.02129388774077, 172.46831081482324, 157.3670312609263, 160.96523917575865, 154.28477906553712, 149.7320093563725, 145.08136772932187, 144.99601163732444, 143.60667827358355, 138.19792423698104, 138.19850708181409, 137.06587085296428, 135.64187355967908, 133.58041273728253, 133.16947645394114, 129.50419536924272, 128.52561423258015, 126.49281250414538, 122.14071013578976, 122.23924925762937, 118.60473624490702, 112.4946588249198, 116.0687400312684, 113.27896090690396, 109.34461257263419, 353.33369781538624, 435.07084489233165, 458.8085197880215, 642.2917543562113, 314.98143413941494, 171.48509759554017, 268.3386015019321, 493.43140478568125, 386.4474441600703, 574.1943727382558, 439.44613834983375, 409.35477990097627, 829.8233064305642, 651.4454244873326, 263.00440558989374, 493.0260822183634, 414.94288142791584, 373.4058615560488, 311.2877010240507, 558.7738936101345, 321.3748738454051, 288.30913550933775, 459.02816026194836, 248.59997838599114, 309.5187362797118, 486.433002819033, 309.02295005909644, 308.5878103771617, 374.7949034973732, 440.11766762563445, 321.8246766762975, 312.6773258102081, 337.0975733574827, 319.7813147197692, 179.74895072283223, 172.50494986817483, 222.33670667915533, 148.9919582516583, 168.33132383730546, 151.39140173858962, 128.28364605617338, 106.93192696468849, 95.79014840550725, 102.19996829048267, 76.7312564458953, 73.31843892711176, 70.2572081289775, 70.99195581270439, 69.40535013068128, 67.4672927213946, 67.01880206454372, 67.05317564349696, 67.38763951890498, 69.12679483170632, 64.273377634928, 65.49623298175698, 63.095915590276014, 63.218674312300436, 63.684266499647485, 60.52396476622508, 51.39266756776912, 51.63444782650803, 49.22495443725565, 169.32521619212383, 69.32389227977202, 190.5623898433681, 94.42190518225821, 193.16457918582023, 203.82772093364488, 187.14476940201894, 155.76631001248202, 321.25370687808663, 186.26826445345634, 163.5490481548014, 96.50378028174158, 321.4778243180414, 177.995187704713, 593.8129975346259, 158.99722749646588, 156.8717921628853, 144.01618731301275, 147.96963202685833, 351.61656129244943, 128.50547571348594, 146.67483231035584, 256.4056979247253, 185.83225002741196, 161.72979202986303, 259.1450973863889, 202.45917219904922, 191.67297332276857, 169.5038479660061, 230.34121763946695, 215.1352074262545, 175.8482528982278, 158.84610595361025, 163.4372310019353, 162.8930513493543], \"Total\": [878.0, 1998.0, 1061.0, 857.0, 3295.0, 844.0, 594.0, 702.0, 677.0, 714.0, 825.0, 635.0, 1204.0, 763.0, 631.0, 420.0, 636.0, 380.0, 561.0, 485.0, 1110.0, 882.0, 1024.0, 1023.0, 666.0, 492.0, 456.0, 479.0, 503.0, 515.0, 1998.63142416337, 1204.8269523457568, 1024.8974626541074, 1023.716784044723, 729.8796803566918, 709.237055465828, 747.4856273393692, 690.2278133071338, 655.1128488436906, 606.3470718228874, 598.3295462453667, 550.3259455286964, 546.7936072331372, 468.84526216230864, 465.260999783522, 446.962855616913, 432.009621742124, 423.7248768788687, 422.59153907991566, 394.3044877795963, 390.6419321188472, 381.45231284385477, 371.57215140308676, 367.6470842281924, 362.690386696389, 376.199348412372, 350.5524410020179, 355.1200300014126, 342.954472103266, 337.83499141112566, 575.8152562656799, 606.7328936065414, 669.9301944002736, 510.30745098464695, 580.9215011361529, 594.8550460581063, 886.6186620063127, 691.6336469926836, 744.4667564685092, 585.7012433403924, 510.70661824608027, 659.7633629538079, 515.5713304416671, 698.0051279956031, 692.06030940644, 991.4487836937691, 639.5758542803931, 1079.8298229493387, 3295.4547793617153, 617.3014784573071, 964.3506872416648, 711.0551220089062, 609.5384675960352, 592.2890196412676, 591.4401040735844, 567.0638144075859, 534.1026494392335, 533.6622426946152, 507.38293922978227, 496.3950276003395, 500.05776905785723, 481.43050224306506, 474.7952736395773, 465.8010551153875, 451.1060159299731, 445.7811765894875, 350.3316848161859, 344.6185639048669, 314.3990298942277, 307.2000628389571, 309.7956572528509, 288.89549595907243, 287.6091663635093, 271.26872727906, 267.32477181023296, 256.89263175653065, 246.36477878958732, 245.23966277807918, 270.03422240925977, 416.28243382803237, 226.07295068823717, 1110.916679140788, 651.9458661019196, 512.6271004709188, 347.24373544284697, 403.82098105526563, 295.06808693399813, 334.1952482477989, 972.7912440323265, 549.6581161690558, 311.9222244110211, 442.80327409173896, 671.5730258873696, 881.4125331622553, 433.68179298849856, 431.28697045149664, 711.5350277804822, 3295.4547793617153, 617.6625316598848, 1044.9145860613771, 649.3168914622948, 1214.125490898937, 516.414222280574, 597.8023652871925, 844.1318911864066, 765.599091734456, 855.409249238379, 760.9365180193316, 808.7842778069498, 804.0759303352376, 314.5534325897977, 269.3591449358655, 207.23201963559046, 190.97388685100748, 180.59151093222636, 175.98302726100925, 173.42684959256462, 158.3253235486234, 161.96365696906548, 155.24582295418466, 150.6944949044794, 146.04531676884554, 145.97147873801384, 144.5855786145162, 139.15754551347692, 139.15854070530435, 138.0334389386474, 136.5998867058215, 134.54087608356414, 134.13310145678986, 130.48328728500306, 129.51005036089074, 127.46359904617215, 123.1007900264871, 123.20069092506358, 119.57313660005728, 113.45304712080895, 117.06766328898601, 114.2692818775346, 110.30583091965956, 360.5078679807812, 457.84088297944294, 492.6261046045081, 702.9025984943152, 332.3787119553464, 176.23161290474934, 288.7530006506771, 561.1523790741065, 431.84086203440125, 677.8372779625689, 503.669020036932, 465.53278853150084, 1061.0065775032062, 857.645584471367, 296.77479846757154, 631.5532441756508, 515.4872759710903, 456.6194883039103, 370.4972597031236, 763.256153101974, 395.6473190660321, 346.3392239588718, 635.7055663994739, 290.9471985758896, 414.4239581243089, 825.5533576794325, 421.85399380540355, 446.3522668634231, 636.0243566040614, 882.7730326391338, 497.28961781150525, 500.71442639592004, 666.496711751221, 615.0867175279839, 180.7455931306845, 173.49051909585208, 223.627003657942, 149.9655252661726, 169.44994184055702, 152.49136878266953, 129.26619811047627, 107.92580280564614, 96.78001122192234, 103.2606758687291, 77.73998388862096, 74.3046256427626, 71.24280450738169, 71.99575578888356, 70.41195912696035, 68.44589465584093, 67.99680647257418, 68.04668722542908, 68.39651810562006, 70.16742056116408, 65.24810307274355, 66.51325339913649, 64.07613871409355, 64.2167630533056, 64.6957428570004, 61.50256690377455, 52.368335170341204, 52.66101938616775, 50.23123659295236, 172.794908809396, 70.77976878264172, 200.4150404386422, 99.1280980012087, 211.8111460188749, 225.26440462433465, 206.1071817796885, 171.03151645394638, 380.0621958573523, 209.6503099444985, 186.96556629869121, 102.98909280188046, 420.4504530021035, 212.32198338417038, 878.7207634507072, 191.65449163266015, 193.75904952881905, 179.00219015821247, 185.93087950055062, 594.8067674647191, 159.21937858519664, 192.55216655141837, 485.389332963514, 307.2156750695102, 262.53657073683974, 714.1273428490949, 456.4228221620756, 479.18761357218693, 325.71173436671137, 1061.0065775032062, 844.1318911864066, 635.7055663994739, 272.0576324497335, 710.7047866518277, 636.0243566040614], \"Category\": [\"Default\", \"Default\", \"Default\", \"Default\", \"Default\", \"Default\", \"Default\", \"Default\", \"Default\", \"Default\", \"Default\", \"Default\", \"Default\", \"Default\", \"Default\", \"Default\", \"Default\", \"Default\", \"Default\", \"Default\", \"Default\", \"Default\", \"Default\", \"Default\", \"Default\", \"Default\", \"Default\", \"Default\", \"Default\", \"Default\", \"Topic1\", \"Topic1\", \"Topic1\", \"Topic1\", \"Topic1\", \"Topic1\", \"Topic1\", \"Topic1\", \"Topic1\", \"Topic1\", \"Topic1\", \"Topic1\", \"Topic1\", \"Topic1\", \"Topic1\", \"Topic1\", \"Topic1\", \"Topic1\", \"Topic1\", \"Topic1\", \"Topic1\", \"Topic1\", \"Topic1\", \"Topic1\", \"Topic1\", \"Topic1\", \"Topic1\", \"Topic1\", \"Topic1\", \"Topic1\", \"Topic1\", \"Topic1\", \"Topic1\", \"Topic1\", \"Topic1\", \"Topic1\", \"Topic1\", \"Topic1\", \"Topic1\", \"Topic1\", \"Topic1\", \"Topic1\", \"Topic1\", \"Topic1\", \"Topic1\", \"Topic1\", \"Topic1\", \"Topic1\", \"Topic1\", \"Topic1\", \"Topic1\", \"Topic2\", \"Topic2\", \"Topic2\", \"Topic2\", \"Topic2\", \"Topic2\", \"Topic2\", \"Topic2\", \"Topic2\", \"Topic2\", \"Topic2\", \"Topic2\", \"Topic2\", \"Topic2\", \"Topic2\", \"Topic2\", \"Topic2\", \"Topic2\", \"Topic2\", \"Topic2\", \"Topic2\", \"Topic2\", \"Topic2\", \"Topic2\", \"Topic2\", \"Topic2\", \"Topic2\", \"Topic2\", \"Topic2\", \"Topic2\", \"Topic2\", \"Topic2\", \"Topic2\", \"Topic2\", \"Topic2\", \"Topic2\", \"Topic2\", \"Topic2\", \"Topic2\", \"Topic2\", \"Topic2\", \"Topic2\", \"Topic2\", \"Topic2\", \"Topic2\", \"Topic2\", \"Topic2\", \"Topic2\", \"Topic2\", \"Topic2\", \"Topic2\", \"Topic2\", \"Topic2\", \"Topic2\", \"Topic2\", \"Topic2\", \"Topic2\", \"Topic2\", \"Topic2\", \"Topic3\", \"Topic3\", \"Topic3\", \"Topic3\", \"Topic3\", \"Topic3\", \"Topic3\", \"Topic3\", \"Topic3\", \"Topic3\", \"Topic3\", \"Topic3\", \"Topic3\", \"Topic3\", \"Topic3\", \"Topic3\", \"Topic3\", \"Topic3\", \"Topic3\", \"Topic3\", \"Topic3\", \"Topic3\", \"Topic3\", \"Topic3\", \"Topic3\", \"Topic3\", \"Topic3\", \"Topic3\", \"Topic3\", \"Topic3\", \"Topic3\", \"Topic3\", \"Topic3\", \"Topic3\", \"Topic3\", \"Topic3\", \"Topic3\", \"Topic3\", \"Topic3\", \"Topic3\", \"Topic3\", \"Topic3\", \"Topic3\", \"Topic3\", \"Topic3\", \"Topic3\", \"Topic3\", \"Topic3\", \"Topic3\", \"Topic3\", \"Topic3\", \"Topic3\", \"Topic3\", \"Topic3\", \"Topic3\", \"Topic3\", \"Topic3\", \"Topic3\", \"Topic3\", \"Topic3\", \"Topic3\", \"Topic3\", \"Topic3\", \"Topic3\", \"Topic4\", \"Topic4\", \"Topic4\", \"Topic4\", \"Topic4\", \"Topic4\", \"Topic4\", \"Topic4\", \"Topic4\", \"Topic4\", \"Topic4\", \"Topic4\", \"Topic4\", \"Topic4\", \"Topic4\", \"Topic4\", \"Topic4\", \"Topic4\", \"Topic4\", \"Topic4\", \"Topic4\", \"Topic4\", \"Topic4\", \"Topic4\", \"Topic4\", \"Topic4\", \"Topic4\", \"Topic4\", \"Topic4\", \"Topic4\", \"Topic4\", \"Topic4\", \"Topic4\", \"Topic4\", \"Topic4\", \"Topic4\", \"Topic4\", \"Topic4\", \"Topic4\", \"Topic4\", \"Topic4\", \"Topic4\", \"Topic4\", \"Topic4\", \"Topic4\", \"Topic4\", \"Topic4\", \"Topic4\", \"Topic4\", \"Topic4\", \"Topic4\", \"Topic4\", \"Topic4\", \"Topic4\", \"Topic4\", \"Topic4\", \"Topic4\", \"Topic4\", \"Topic4\", \"Topic4\", \"Topic4\", \"Topic4\", \"Topic4\", \"Topic4\"], \"logprob\": [30.0, 29.0, 28.0, 27.0, 26.0, 25.0, 24.0, 23.0, 22.0, 21.0, 20.0, 19.0, 18.0, 17.0, 16.0, 15.0, 14.0, 13.0, 12.0, 11.0, 10.0, 9.0, 8.0, 7.0, 6.0, 5.0, 4.0, 3.0, 2.0, 1.0, -5.313, -5.8194, -5.9813, -5.9824, -6.321, -6.3497, -6.2972, -6.377, -6.4292, -6.5067, -6.52, -6.6037, -6.6102, -6.7642, -6.7719, -6.8121, -6.8461, -6.8656, -6.8683, -6.9376, -6.947, -6.9708, -6.9971, -7.0078, -7.0214, -6.9848, -7.0555, -7.0425, -7.0774, -7.0925, -6.5603, -6.5096, -6.4119, -6.6823, -6.556, -6.5328, -6.1527, -6.395, -6.3307, -6.5625, -6.6994, -6.4734, -6.6939, -6.4355, -6.4693, -6.2148, -6.5738, -6.3859, -6.2406, -6.6619, -6.6233, -6.2895, -6.4437, -6.4725, -6.4739, -6.5161, -6.576, -6.5768, -6.6274, -6.6493, -6.642, -6.68, -6.6939, -6.713, -6.7451, -6.757, -6.9983, -7.0148, -7.1068, -7.13, -7.1216, -7.1915, -7.196, -7.2546, -7.2694, -7.3092, -7.3512, -7.3558, -7.2595, -6.8268, -7.4374, -5.8523, -6.3804, -6.6199, -7.0107, -6.8624, -7.1719, -7.0508, -6.018, -6.5734, -7.1182, -6.7868, -6.402, -6.1493, -6.8111, -6.8166, -6.364, -5.0294, -6.5272, -6.1462, -6.5077, -6.0633, -6.6866, -6.601, -6.4303, -6.5246, -6.5305, -6.5673, -6.6477, -6.6645, -6.0407, -6.1964, -6.4595, -6.5417, -6.5978, -6.6238, -6.6385, -6.7301, -6.7075, -6.7499, -6.7798, -6.8114, -6.812, -6.8216, -6.86, -6.86, -6.8682, -6.8787, -6.894, -6.8971, -6.925, -6.9326, -6.9485, -6.9835, -6.9827, -7.0129, -7.0658, -7.0345, -7.0588, -7.0942, -5.9213, -5.7132, -5.66, -5.3236, -6.0362, -6.6442, -6.1964, -5.5873, -5.8317, -5.4357, -5.7032, -5.7741, -5.0675, -5.3095, -6.2165, -5.5881, -5.7605, -5.866, -6.048, -5.4629, -6.0161, -6.1246, -5.6596, -6.2728, -6.0537, -5.6016, -6.0553, -6.0567, -5.8623, -5.7016, -6.0147, -6.0435, -5.9683, -6.021, -5.8276, -5.8687, -5.6149, -6.0152, -5.8932, -5.9993, -6.1649, -6.3469, -6.457, -6.3922, -6.6788, -6.7243, -6.767, -6.7566, -6.7792, -6.8075, -6.8142, -6.8136, -6.8087, -6.7832, -6.856, -6.8371, -6.8745, -6.8725, -6.8652, -6.9161, -7.0796, -7.0749, -7.1227, -5.8873, -6.7803, -5.7692, -6.4714, -5.7556, -5.7019, -5.7873, -5.9708, -5.2469, -5.7919, -5.922, -6.4496, -5.2462, -5.8374, -4.6326, -5.9502, -5.9637, -6.0492, -6.0221, -5.1566, -6.1632, -6.0309, -5.4724, -5.7943, -5.9332, -5.4617, -5.7086, -5.7633, -5.8863, -5.5796, -5.6479, -5.8495, -5.9512, -5.9227, -5.926], \"loglift\": [30.0, 29.0, 28.0, 27.0, 26.0, 25.0, 24.0, 23.0, 22.0, 21.0, 20.0, 19.0, 18.0, 17.0, 16.0, 15.0, 14.0, 13.0, 12.0, 11.0, 10.0, 9.0, 8.0, 7.0, 6.0, 5.0, 4.0, 3.0, 2.0, 1.0, 0.8832, 0.883, 0.8828, 0.8828, 0.8826, 0.8825, 0.8825, 0.8825, 0.8824, 0.8824, 0.8823, 0.8822, 0.8822, 0.882, 0.882, 0.8819, 0.8819, 0.8818, 0.8818, 0.8817, 0.8817, 0.8816, 0.8816, 0.8816, 0.8815, 0.8815, 0.8815, 0.8815, 0.8814, 0.8814, 0.8804, 0.8788, 0.8774, 0.8792, 0.8759, 0.8754, 0.8563, 0.8624, 0.8531, 0.8612, 0.8613, 0.8312, 0.8573, 0.8127, 0.7875, 0.6825, 0.7619, 0.426, -0.5444, 0.7092, 0.3017, 0.9402, 0.94, 0.94, 0.94, 0.9399, 0.9399, 0.9399, 0.9398, 0.9398, 0.9398, 0.9397, 0.9397, 0.9397, 0.9397, 0.9396, 0.9392, 0.9392, 0.939, 0.939, 0.939, 0.9389, 0.9388, 0.9387, 0.9386, 0.9386, 0.9385, 0.9385, 0.9384, 0.9383, 0.9382, 0.9312, 0.9361, 0.937, 0.9358, 0.9331, 0.9373, 0.9339, 0.8983, 0.9138, 0.9355, 0.9165, 0.8848, 0.8656, 0.913, 0.9131, 0.865, 0.6668, 0.8434, 0.6985, 0.8128, 0.6313, 0.863, 0.8022, 0.6278, 0.6312, 0.5144, 0.5946, 0.4532, 0.4423, 2.0046, 2.004, 2.0031, 2.0027, 2.0024, 2.0023, 2.0022, 2.0017, 2.0016, 2.0016, 2.0014, 2.0012, 2.0011, 2.001, 2.0009, 2.0009, 2.0007, 2.0007, 2.0006, 2.0006, 2.0002, 2.0002, 2.0001, 2.0, 1.9999, 1.9996, 1.9993, 1.9992, 1.9991, 1.999, 1.9877, 1.9568, 1.9367, 1.9176, 1.954, 1.9805, 1.9345, 1.8792, 1.8967, 1.8418, 1.8714, 1.8792, 1.762, 1.7328, 1.887, 1.7602, 1.7908, 1.8066, 1.8337, 1.6959, 1.7999, 1.8244, 1.6822, 1.8505, 1.7159, 1.4788, 1.6965, 1.6387, 1.4789, 1.3118, 1.5726, 1.5369, 1.3261, 1.3537, 2.7718, 2.7716, 2.7715, 2.7708, 2.7707, 2.7701, 2.7697, 2.7681, 2.767, 2.767, 2.7643, 2.764, 2.7634, 2.7633, 2.7629, 2.7629, 2.7628, 2.7626, 2.7625, 2.7624, 2.7623, 2.7619, 2.7619, 2.7617, 2.7616, 2.7613, 2.7585, 2.7576, 2.7571, 2.757, 2.7565, 2.7269, 2.7287, 2.6852, 2.6773, 2.6808, 2.6838, 2.6092, 2.6591, 2.6435, 2.7123, 2.5089, 2.601, 2.3854, 2.5905, 2.5661, 2.5599, 2.549, 2.2516, 2.563, 2.5052, 2.1391, 2.2746, 2.2929, 1.7637, 1.9644, 1.861, 2.1242, 1.2499, 1.4103, 1.4922, 2.2393, 1.3075, 1.4152]}, \"token.table\": {\"Topic\": [2, 2, 2, 2, 2, 2, 1, 1, 2, 3, 2, 3, 4, 1, 2, 3, 4, 1, 2, 4, 1, 2, 2, 1, 3, 4, 1, 1, 1, 2, 4, 3, 1, 1, 2, 3, 4, 4, 2, 3, 4, 3, 1, 2, 3, 4, 1, 2, 3, 2, 1, 4, 1, 3, 4, 4, 3, 4, 3, 4, 1, 2, 4, 1, 1, 2, 4, 1, 3, 4, 1, 2, 2, 3, 4, 1, 3, 3, 4, 4, 2, 4, 2, 3, 4, 2, 1, 2, 3, 1, 1, 2, 2, 3, 4, 2, 3, 4, 4, 3, 4, 1, 2, 3, 4, 3, 4, 3, 4, 1, 3, 1, 2, 2, 3, 4, 1, 2, 2, 3, 4, 2, 3, 4, 2, 4, 3, 1, 2, 1, 2, 3, 4, 2, 3, 4, 3, 2, 3, 4, 2, 1, 4, 2, 4, 1, 2, 1, 2, 2, 3, 3, 1, 2, 2, 1, 2, 3, 2, 4, 1, 2, 3, 4, 4, 1, 2, 3, 1, 2, 1, 2, 3, 4, 3, 3, 1, 4, 1, 2, 3, 1, 2, 3, 1, 2, 3, 1, 3, 4, 3, 3, 2, 4, 4, 1, 2, 2, 1, 2, 3, 4, 1, 3, 4, 1, 1, 1, 3, 4, 1, 3, 4, 3, 4, 1, 2, 3, 4, 1, 2, 4, 4, 1, 2, 2, 2, 3, 3, 4, 3, 4, 3, 4, 1, 2, 3, 4, 2, 2, 2, 3, 4, 3, 4, 3, 2, 3, 4, 2, 3, 2, 1, 2, 4, 1, 1, 4, 4, 1, 2, 3, 4, 1, 1, 1, 1, 1, 2, 3, 4, 4, 4, 2, 3, 3, 1, 3, 4, 1, 2, 4, 2, 3, 4, 3, 4, 3, 4, 3, 4, 4, 1, 2, 3, 4, 3, 3, 4, 1, 2, 1, 4, 3, 2, 3, 4, 1, 2, 1, 4, 1, 2, 1, 2, 1, 2, 3, 1, 2, 3, 4, 3, 4, 1, 1, 2, 3, 4, 4, 1, 2, 3, 4, 4, 3, 2, 1, 2, 3, 3, 4, 2, 1, 2, 3, 3, 2, 4, 1, 2, 4, 1, 3, 4, 3, 1, 2, 3, 4, 1, 2, 3, 2, 3, 1, 1, 2, 3, 4, 2, 4, 2, 3, 4, 3, 3, 4, 3, 4, 4, 4, 2, 3, 3, 4, 3, 3, 3, 1, 2, 3, 4, 3, 4, 1, 3, 4, 1, 2, 1, 2, 1, 2, 1, 3, 4, 3, 4, 1, 2, 3, 4, 4, 2, 4, 3, 1, 2, 2, 4], \"Freq\": [0.997884706281336, 0.9978819647120031, 0.9969002771881245, 0.9993487539126515, 0.9983250177840207, 0.9992042071769954, 0.9987947597660728, 0.24626778882520683, 0.7338615379373221, 0.01976731415319386, 0.34587490637135243, 0.6475099991370667, 0.006032701855314286, 0.024090079993867402, 0.05256017453207433, 0.8168727125193219, 0.10731035633631843, 0.9488250411440748, 0.03486098393979828, 0.016672644492947003, 0.9788419099384297, 0.020241930190750393, 0.996170032079518, 0.9968460523012229, 0.8468109067788642, 0.15195387351606796, 0.9996840717324185, 0.997216913086415, 0.048785328529114894, 0.9269212420531829, 0.023825393002590994, 0.9959499514396423, 0.999124339080923, 0.9088803265418804, 0.0910325287315397, 0.014128330979307232, 0.974854837572199, 0.9853403928171799, 0.11331110155264634, 0.3584751212756448, 0.5274116726814084, 0.9940501654068632, 0.4778921522884949, 0.05843222822741422, 0.0646928241089229, 0.40067813641655464, 0.1042050531948392, 0.0023156678487742046, 0.893847789626843, 0.9987590602414154, 0.9986002107822518, 0.9874476530482549, 0.042788627651465044, 0.08022867684649695, 0.8771668668550334, 0.9799471688550173, 0.23370290143156286, 0.763429478009772, 0.4116774780089788, 0.5844349911020325, 0.9988142348895918, 0.9992558771876423, 0.9754886266701006, 0.9980964847106165, 0.08026017666929151, 0.004721186862899501, 0.9111890645396036, 0.13890374173672795, 0.6922783257524022, 0.1680287198428161, 0.9982892746722635, 0.9990227405495331, 0.0605238574427204, 0.3480121802956423, 0.5917888283288216, 0.9736771041360249, 0.025214745724638096, 0.8558253910633608, 0.14091904029557345, 0.9861692432008985, 0.9730636766925367, 0.025364219060705934, 0.06756366144160332, 0.7480262516748939, 0.18580006896440915, 0.9985161178419962, 0.6325070723963915, 0.13613256170171237, 0.23151796207774214, 0.9994492228447773, 0.9994276020467222, 0.9981239952531669, 0.08948672999922881, 0.0706474184204438, 0.8383493652559331, 0.017540626793236726, 0.0701625071729469, 0.9121125932483098, 0.9808714274597061, 0.9888921864504677, 0.9918285214898289, 0.07578888200079116, 0.005829914000060859, 0.7590548028079238, 0.15857366080165536, 0.7806151018090319, 0.21850889259563164, 0.9133555650174372, 0.08536033317919973, 0.9996657598979056, 0.9925131261917864, 0.053605488327099084, 0.945541252436331, 0.1320185779723468, 0.3438623426256475, 0.5219339129139293, 0.9918382703647234, 0.008405409070887486, 0.22519639826812313, 0.7324809164721057, 0.040298302847979924, 0.011348701671821906, 0.970313992940773, 0.01702305250773286, 0.9963802017863184, 0.003389048305395641, 0.9952068113595256, 0.0039014714558842554, 0.9968259569784272, 0.14622081534197356, 0.007861334158170622, 0.5896000618627966, 0.25627949355636226, 0.6145025486247518, 0.3684542444470343, 0.01730993094717611, 0.9881617235573825, 0.07826584116144882, 0.09391900939373858, 0.8296179163113574, 0.9991057852772949, 0.9976629646857109, 0.9832053126844105, 0.9982050766567594, 0.9892459252143031, 0.9993503188267341, 0.0013378183652298984, 0.9783144675125596, 0.022195616191384424, 0.9995120293780853, 0.9949541533620879, 0.9933447359277806, 0.09228340247031042, 0.9066439540942777, 0.9990093687475315, 0.9733609690181048, 0.0011278806129989627, 0.02594125409897614, 0.10970649175805595, 0.8871916289999308, 0.16718933105055997, 0.7340656566438649, 0.049634332655634994, 0.049634332655634994, 0.9795820292567596, 0.8407561266450042, 0.10043714807705252, 0.059938298045982955, 0.005759643143595836, 0.9935384422702818, 0.9982211477378014, 0.031168507269948246, 0.92812888314957, 0.038094842218825635, 0.9910578150940359, 0.9940548780166457, 0.1884192757601256, 0.81020288576854, 0.08316432347599835, 0.8793857167554641, 0.03696192154488816, 0.17513393194154414, 0.784753137661564, 0.04019467290461669, 0.0010279697788550092, 0.9580678338928686, 0.04111879115420037, 0.9983012868001981, 0.040351828398354085, 0.948267967361321, 0.9928425177063361, 0.9960616928225304, 0.9901732692057238, 0.009001575174597489, 0.9846181016577404, 0.007429034499793436, 0.993014278139056, 0.9979355102611995, 0.3851499620276547, 0.03058543816101964, 0.49842936262402376, 0.08609234445324047, 0.9978457815793574, 0.9944140791512168, 0.9902199790416005, 0.999439025012534, 0.9994077227662177, 0.19362033943314613, 0.010756685524063673, 0.7959947287807119, 0.1299304175993182, 0.8315546726356364, 0.037535453973136367, 0.0932237831139853, 0.9056024645358572, 0.96982167937883, 0.0013432433232393767, 0.014775676555633143, 0.013432433232393766, 0.1523597260668687, 0.22853958910030306, 0.6170568905708183, 0.9824422015254487, 0.022583392185867676, 0.9756025424294835, 0.9982476232050354, 0.019417051947318863, 0.9791741910576514, 0.9501117444322497, 0.04805162845404481, 0.8394124163001955, 0.1565463670270461, 0.9477141244903761, 0.05114647655979808, 0.5589253029327986, 0.20013466320228224, 0.16072991086193653, 0.08088343901439386, 0.9974316707344884, 0.9990532263264743, 0.9952539625595598, 0.04490680929086948, 0.9530222860617856, 0.0873332013206629, 0.9072949248313312, 0.9953913717623221, 0.998519354952524, 0.5543105815820922, 0.44257208489953614, 0.9934312403922299, 0.005984525544531505, 0.999116597844663, 0.056156470423938, 0.9256135469876678, 0.01936430014618552, 0.9975284045988312, 0.9983567250055176, 0.9738709438463081, 0.9825553679985616, 0.06157827854906349, 0.08647162519655724, 0.732388461892053, 0.11922602868010165, 0.9992998219274173, 0.9982399310209387, 0.9984601876084462, 0.9993136339254806, 0.30842858322671485, 0.6069078573170841, 0.05720852753398743, 0.02736060012495051, 0.9902047238258364, 0.9971726460995769, 0.9975482128570309, 0.9871925245052106, 0.9916291120149432, 0.2940749692297952, 0.5056289011757192, 0.19955087197736102, 0.2466655582551459, 0.6523193436320921, 0.10053667303290308, 0.9982802634159146, 0.05825859648596154, 0.9418473098563782, 0.017361622635011745, 0.9780380751056617, 0.18994181004125613, 0.8044594307629671, 0.7822760175089413, 0.216775281960309, 0.9958749028522902, 0.011202483814837644, 0.3304732725377105, 0.2968658210931976, 0.3626804135053688, 0.9916746704914232, 0.8113286367205897, 0.18450775850655157, 0.9915281133052788, 0.006885611897953324, 0.0044717318733545775, 0.9927244758847162, 0.9959798382520699, 0.9992452658531176, 0.9317411231556559, 0.06698792388700794, 0.027289690734570212, 0.9733323028663377, 0.9981971404415813, 0.9935616851642477, 0.0032059273810586073, 0.9938374881281682, 0.9968475023092436, 0.0034733362449799426, 0.056216487506979794, 0.9261666316774921, 0.016864946252093938, 0.1316887484183315, 0.14632083157592388, 0.520251845603285, 0.2015975901712729, 0.7220323751445129, 0.2768577299029069, 0.9992277851532685, 0.9770776061483513, 0.021538784905073875, 0.8861938458320203, 0.11119542552264894, 0.9919403685526165, 0.029098681382081746, 0.003879824184277566, 0.8050635182375949, 0.16295261573965777, 0.9877913265807815, 0.9916817625001526, 0.9965252730277736, 0.9941334269851921, 0.005970771333244397, 0.9919751595857602, 0.9982405768544913, 0.9810522518505709, 0.9987308170309497, 0.07025733325732597, 0.869852697471655, 0.05854777771443831, 0.9915524099235499, 0.9969193179346065, 0.0024022152239388107, 0.9312252502593283, 0.04871024385971871, 0.020057159236354764, 0.08140266398952557, 0.8716041339366275, 0.04367947823828201, 0.9967245917088077, 0.23497801497404694, 0.30533071406807294, 0.22934979904652486, 0.22934979904652486, 0.8849614884802436, 0.09693924432115743, 0.018762434384740147, 0.9715109166441224, 0.025505059864165503, 0.9968119338392438, 0.2352364432001836, 0.7070234996742949, 0.0013141700737440425, 0.05650931317099383, 0.9954814252914381, 0.004601609053735461, 0.9987851039466574, 0.32319709720382783, 0.6759826610530765, 0.9908799470409652, 0.23308334977465162, 0.7634668905883997, 0.15260660131998233, 0.8445986038571435, 0.9788753633346285, 0.991443243799273, 0.41063366388927686, 0.5886960491156004, 0.8785632507007066, 0.11814420241696544, 0.990254186757817, 0.9949004187584699, 0.9917726142410085, 0.05592009841126509, 0.14579168514365543, 0.6251068143830705, 0.17175458797745707, 0.9885175135715258, 0.9914218585215128, 0.10838203454789622, 0.08257678822696854, 0.8102847344771289, 0.9954783121818138, 0.003919205953471708, 0.8179948509074931, 0.18155249465271117, 0.23972412091572146, 0.7601378770808636, 0.9984240845665237, 0.8785492468435098, 0.11939715930733297, 0.9962961748200944, 0.9772488440753955, 0.9985486164749566, 0.7309284324429701, 0.014215787989166355, 0.2546995348058972, 0.9904812960897813, 0.39386011137817983, 0.6054378571598467, 0.9956084392140574, 0.9954957220296784, 0.004944515175644098, 0.014251628348348823, 0.9833623560360687], \"Term\": [\"\\u0430\\u0432\\u0430\\u0440\", \"\\u0430\\u0432\\u0442\", \"\\u0430\\u0432\\u0442\\u043e\\u0432\\u0430\\u0437\", \"\\u0430\\u0432\\u0442\\u043e\\u043c\\u0430\\u0442\", \"\\u0430\\u0432\\u0442\\u043e\\u043c\\u043e\\u0431\", \"\\u0430\\u0432\\u0442\\u043e\\u043c\\u043e\\u0431\\u0438\\u043b\\u0438\\u0441\\u0442\", \"\\u0430\\u043d\\u0442\\u0438\\u0442\\u0435\\u043b\", \"\\u0430\\u0440\\u0442\", \"\\u0430\\u0440\\u0442\", \"\\u0430\\u0440\\u0442\", \"\\u0431\\u0430\\u043d\\u043a\", \"\\u0431\\u0430\\u043d\\u043a\", \"\\u0431\\u0430\\u043d\\u043a\", \"\\u0431\\u0438\\u0437\\u043d\\u0435\\u0441\", \"\\u0431\\u0438\\u0437\\u043d\\u0435\\u0441\", \"\\u0431\\u0438\\u0437\\u043d\\u0435\\u0441\", \"\\u0431\\u0438\\u0437\\u043d\\u0435\\u0441\", \"\\u0431\\u043e\\u043b\", \"\\u0431\\u043e\\u043b\", \"\\u0431\\u043e\\u043b\", \"\\u0431\\u043e\\u043b\\u044c\\u043d\", \"\\u0431\\u043e\\u043b\\u044c\\u043d\", \"\\u0431\\u0440\\u0435\\u043d\\u0434\", \"\\u0431\\u0443\\u0440\\u0443\\u0445\\u0438\\u043d_\\u0444\\u043e\\u0442\", \"\\u0432\\u0430\\u043a\\u0430\\u043d\\u0441\", \"\\u0432\\u0430\\u043a\\u0430\\u043d\\u0441\", \"\\u0432\\u0430\\u043a\\u0446\\u0438\\u043d\", \"\\u0432\\u0430\\u043a\\u0446\\u0438\\u043d\\u0438\\u0440\\u043e\\u0432\\u0430\", \"\\u0432\\u0435\\u0440\\u0441\", \"\\u0432\\u0435\\u0440\\u0441\", \"\\u0432\\u0435\\u0440\\u0441\", \"\\u0432\\u0437\\u043d\\u043e\\u0441\", \"\\u0432\\u0438\\u0440\\u0443\\u0441\", \"\\u0432\\u043e\\u043b\\u043d\", \"\\u0432\\u043e\\u043b\\u043d\", \"\\u0432\\u0440\\u0435\\u043c\\u0435\\u043d_\\u043d\\u0435\\u0442\\u0440\\u0443\\u0434\\u043e\\u0441\\u043f\\u043e\\u0441\\u043e\\u0431\\u043d\", \"\\u0432\\u0440\\u0435\\u043c\\u0435\\u043d_\\u043d\\u0435\\u0442\\u0440\\u0443\\u0434\\u043e\\u0441\\u043f\\u043e\\u0441\\u043e\\u0431\\u043d\", \"\\u0432\\u0442\\u043e\\u0440_\\u0447\\u0442\\u0435\\u043d\", \"\\u0432\\u044b\\u043f\\u043b\\u0430\\u0442\", \"\\u0432\\u044b\\u043f\\u043b\\u0430\\u0442\", \"\\u0432\\u044b\\u043f\\u043b\\u0430\\u0442\", \"\\u0432\\u044b\\u0441\\u0448_\\u043e\\u0431\\u0440\\u0430\\u0437\\u043e\\u0432\\u0430\\u043d\", \"\\u0432\\u044b\\u0445\\u043e\\u0434\\u043d\", \"\\u0432\\u044b\\u0445\\u043e\\u0434\\u043d\", \"\\u0432\\u044b\\u0445\\u043e\\u0434\\u043d\", \"\\u0432\\u044b\\u0445\\u043e\\u0434\\u043d\", \"\\u0433\\u0435\\u043d\\u0435\\u0440\\u0430\\u043b\\u044c\\u043d_\\u0434\\u0438\\u0440\\u0435\\u043a\\u0442\\u043e\\u0440\", \"\\u0433\\u0435\\u043d\\u0435\\u0440\\u0430\\u043b\\u044c\\u043d_\\u0434\\u0438\\u0440\\u0435\\u043a\\u0442\\u043e\\u0440\", \"\\u0433\\u0435\\u043d\\u0435\\u0440\\u0430\\u043b\\u044c\\u043d_\\u0434\\u0438\\u0440\\u0435\\u043a\\u0442\\u043e\\u0440\", \"\\u0433\\u0438\\u0431\\u0434\\u0434\", \"\\u0433\\u043b\\u0435\\u0431_\\u043d\\u0438\\u043a\\u0438\\u0442\\u0438\\u043d\", \"\\u0433\\u043e\\u0434_\\u0440\\u0430\\u043d\", \"\\u0433\\u043e\\u0441\\u0434\\u0443\\u043c\", \"\\u0433\\u043e\\u0441\\u0434\\u0443\\u043c\", \"\\u0433\\u043e\\u0441\\u0434\\u0443\\u043c\", \"\\u0433\\u043e\\u0441\\u0443\\u0434\\u0430\\u0440\\u0441\\u0442\\u0432\\u0435\\u043d_\\u0434\\u0443\\u043c\", \"\\u0433\\u043e\\u0441\\u0443\\u0434\\u0430\\u0440\\u0441\\u0442\\u0432\\u0435\\u043d_\\u0438\\u043d\\u0441\\u043f\\u0435\\u043a\\u0446\", \"\\u0433\\u043e\\u0441\\u0443\\u0434\\u0430\\u0440\\u0441\\u0442\\u0432\\u0435\\u043d_\\u0438\\u043d\\u0441\\u043f\\u0435\\u043a\\u0446\", \"\\u0433\\u0440\\u0430\\u0436\\u0434\\u0430\\u043d\\u0441\\u043a\\u043e\\u043f\\u0440\\u0430\\u0432\\u043e\\u0432_\\u0434\\u043e\\u0433\\u043e\\u0432\\u043e\\u0440\", \"\\u0433\\u0440\\u0430\\u0436\\u0434\\u0430\\u043d\\u0441\\u043a\\u043e\\u043f\\u0440\\u0430\\u0432\\u043e\\u0432_\\u0434\\u043e\\u0433\\u043e\\u0432\\u043e\\u0440\", \"\\u0433\\u0440\\u0438\\u043f\\u043f\", \"\\u0434\\u0432\\u0438\\u0433\\u0430\\u0442\\u0435\\u043b\", \"\\u0434\\u0435\\u0439\\u0441\\u0442\\u0432_\\u0437\\u0430\\u043a\\u043e\\u043d\\u043e\\u0434\\u0430\\u0442\\u0435\\u043b\\u044c\\u0441\\u0442\\u0432\", \"\\u0434\\u0435\\u043b\\u0430_\\u043f\\u0440\\u0438\\u0432\\u0438\\u0432\\u043a\", \"\\u0434\\u0435\\u043f\\u0443\\u0442\\u0430\\u0442\", \"\\u0434\\u0435\\u043f\\u0443\\u0442\\u0430\\u0442\", \"\\u0434\\u0435\\u043f\\u0443\\u0442\\u0430\\u0442\", \"\\u0434\\u0435\\u044f\\u0442\\u0435\\u043b\\u044c\\u043d\", \"\\u0434\\u0435\\u044f\\u0442\\u0435\\u043b\\u044c\\u043d\", \"\\u0434\\u0435\\u044f\\u0442\\u0435\\u043b\\u044c\\u043d\", \"\\u0434\\u0438\\u0430\\u0433\\u043d\\u043e\\u0437\", \"\\u0434\\u0438\\u043b\\u0435\\u0440\", \"\\u0434\\u043e\\u0433\\u043e\\u0432\\u043e\\u0440\", \"\\u0434\\u043e\\u0433\\u043e\\u0432\\u043e\\u0440\", \"\\u0434\\u043e\\u0433\\u043e\\u0432\\u043e\\u0440\", \"\\u0434\\u043e\\u043a\\u0442\\u043e\\u0440\", \"\\u0434\\u043e\\u043a\\u0442\\u043e\\u0440\", \"\\u0434\\u043e\\u043b\\u0436\\u043d\\u043e\\u0441\\u0442\", \"\\u0434\\u043e\\u043b\\u0436\\u043d\\u043e\\u0441\\u0442\", \"\\u0434\\u043e\\u043b\\u0436\\u043d\\u043e\\u0441\\u0442\\u043d_\\u043b\\u0438\\u0446\", \"\\u0434\\u043e\\u0440\\u043e\\u0436\\u043d\", \"\\u0434\\u043e\\u0440\\u043e\\u0436\\u043d\", \"\\u0434\\u043e\\u0445\\u043e\\u0434\", \"\\u0434\\u043e\\u0445\\u043e\\u0434\", \"\\u0434\\u043e\\u0445\\u043e\\u0434\", \"\\u0434\\u0442\\u043f\", \"\\u0436\\u0435\\u043d\\u0449\\u0438\\u043d\", \"\\u0436\\u0435\\u043d\\u0449\\u0438\\u043d\", \"\\u0436\\u0435\\u043d\\u0449\\u0438\\u043d\", \"\\u0437\\u0430\\u0431\\u043e\\u043b\\u0435\\u0432\\u0430\\u0435\\u043c\", \"\\u0437\\u0430\\u0431\\u043e\\u043b\\u0435\\u0432\\u0448\", \"\\u0437\\u0430\\u0434\\u043d\", \"\\u0437\\u0430\\u043a\\u043e\\u043d\\u043e\\u0434\\u0430\\u0442\\u0435\\u043b\\u044c\\u0441\\u0442\\u0432\", \"\\u0437\\u0430\\u043a\\u043e\\u043d\\u043e\\u0434\\u0430\\u0442\\u0435\\u043b\\u044c\\u0441\\u0442\\u0432\", \"\\u0437\\u0430\\u043a\\u043e\\u043d\\u043e\\u0434\\u0430\\u0442\\u0435\\u043b\\u044c\\u0441\\u0442\\u0432\", \"\\u0437\\u0430\\u043a\\u043e\\u043d\\u043e\\u043f\\u0440\\u043e\\u0435\\u043a\\u0442\", \"\\u0437\\u0430\\u043a\\u043e\\u043d\\u043e\\u043f\\u0440\\u043e\\u0435\\u043a\\u0442\", \"\\u0437\\u0430\\u043a\\u043e\\u043d\\u043e\\u043f\\u0440\\u043e\\u0435\\u043a\\u0442\", \"\\u0437\\u0430\\u043a\\u043e\\u043d\\u043e\\u043f\\u0440\\u043e\\u0435\\u043a\\u0442_\\u043f\\u0440\\u0435\\u0434\\u0443\\u0441\\u043c\\u0430\\u0442\\u0440\\u0438\\u0432\\u0430\", \"\\u0437\\u0430\\u043c\\u0435\\u0441\\u0442\\u0438\\u0442\\u0435\\u043b_\\u043c\\u0438\\u043d\\u0438\\u0441\\u0442\\u0440\", \"\\u0437\\u0430\\u043d\\u0438\\u043c\\u0430_\\u043e\\u043f\\u0440\\u0435\\u0434\\u0435\\u043b\\u0435\\u043d\", \"\\u0437\\u0430\\u043d\\u044f\\u0442\", \"\\u0437\\u0430\\u043d\\u044f\\u0442\", \"\\u0437\\u0430\\u043d\\u044f\\u0442\", \"\\u0437\\u0430\\u043d\\u044f\\u0442\", \"\\u0437\\u0430\\u0440\\u0430\\u0431\\u043e\\u0442\\u043d\", \"\\u0437\\u0430\\u0440\\u0430\\u0431\\u043e\\u0442\\u043d\", \"\\u0437\\u0430\\u0440\\u0430\\u0431\\u043e\\u0442\\u043d_\\u043f\\u043b\\u0430\\u0442\", \"\\u0437\\u0430\\u0440\\u0430\\u0431\\u043e\\u0442\\u043d_\\u043f\\u043b\\u0430\\u0442\", \"\\u0437\\u0430\\u0440\\u0430\\u0436\\u0435\\u043d\", \"\\u0437\\u0430\\u0440\\u043f\\u043b\\u0430\\u0442_\\u0440\\u0443\\u0431\\u043b\", \"\\u0437\\u043d\\u0430\\u043a\", \"\\u0437\\u043d\\u0430\\u043a\", \"\\u0438\\u043c\\u0435\\u0435\\u0442_\\u043f\\u0440\\u0430\\u0432\", \"\\u0438\\u043c\\u0435\\u0435\\u0442_\\u043f\\u0440\\u0430\\u0432\", \"\\u0438\\u043c\\u0435\\u0435\\u0442_\\u043f\\u0440\\u0430\\u0432\", \"\\u0438\\u043c\\u043c\\u0443\\u043d\\u0438\\u0442\\u0435\\u0442\", \"\\u0438\\u043c\\u043c\\u0443\\u043d\\u0438\\u0442\\u0435\\u0442\", \"\\u0438\\u043d\\u0432\\u0430\\u043b\\u0438\\u0434\", \"\\u0438\\u043d\\u0432\\u0430\\u043b\\u0438\\u0434\", \"\\u0438\\u043d\\u0432\\u0430\\u043b\\u0438\\u0434\", \"\\u0438\\u043d\\u0434\\u0438\\u0432\\u0438\\u0434\\u0443\\u0430\\u043b\\u044c\\u043d_\\u043f\\u0440\\u0435\\u0434\\u043f\\u0440\\u0438\\u043d\\u0438\\u043c\\u0430\\u0442\\u0435\\u043b\", \"\\u0438\\u043d\\u0434\\u0438\\u0432\\u0438\\u0434\\u0443\\u0430\\u043b\\u044c\\u043d_\\u043f\\u0440\\u0435\\u0434\\u043f\\u0440\\u0438\\u043d\\u0438\\u043c\\u0430\\u0442\\u0435\\u043b\", \"\\u0438\\u043d\\u0434\\u0438\\u0432\\u0438\\u0434\\u0443\\u0430\\u043b\\u044c\\u043d_\\u043f\\u0440\\u0435\\u0434\\u043f\\u0440\\u0438\\u043d\\u0438\\u043c\\u0430\\u0442\\u0435\\u043b\", \"\\u0438\\u043d\\u0441\\u043f\\u0435\\u043a\\u0442\\u043e\\u0440\", \"\\u0438\\u043d\\u0441\\u043f\\u0435\\u043a\\u0442\\u043e\\u0440\", \"\\u0438\\u0441\\u043f\\u044b\\u0442\\u0430\\u0442\\u0435\\u043b\\u044c\\u043d_\\u0441\\u0440\\u043e\\u043a\", \"\\u043a\\u0430\\u043c\\u0435\\u0440\", \"\\u043a\\u0430\\u043c\\u0435\\u0440\", \"\\u043a\\u0430\\u043d\\u0434\\u0438\\u0434\\u0430\\u0442\", \"\\u043a\\u0430\\u043d\\u0434\\u0438\\u0434\\u0430\\u0442\", \"\\u043a\\u0430\\u043d\\u0434\\u0438\\u0434\\u0430\\u0442\", \"\\u043a\\u0430\\u043d\\u0434\\u0438\\u0434\\u0430\\u0442\", \"\\u043a\\u043b\\u0438\\u0435\\u043d\\u0442\", \"\\u043a\\u043b\\u0438\\u0435\\u043d\\u0442\", \"\\u043a\\u043b\\u0438\\u0435\\u043d\\u0442\", \"\\u043a\\u043b\\u0438\\u0435\\u043d\\u0442\\u0441\\u043a_\\u0431\\u0430\\u0437\", \"\\u043a\\u043e\\u0434\\u0435\\u043a\\u0441\", \"\\u043a\\u043e\\u0434\\u0435\\u043a\\u0441\", \"\\u043a\\u043e\\u0434\\u0435\\u043a\\u0441\", \"\\u043a\\u043e\\u043b\\u0435\\u0441\", \"\\u043a\\u043e\\u043b\\u043b\\u0435\\u043a\\u0442\\u0438\\u0432\\u043d_\\u0438\\u043c\\u043c\\u0443\\u043d\\u0438\\u0442\\u0435\\u0442\", \"\\u043a\\u043e\\u043c\\u0438\\u0442\\u0435\\u0442_\\u0433\\u043e\\u0441\\u0434\\u0443\\u043c\", \"\\u043a\\u043e\\u043c\\u043f\\u043b\\u0435\\u043a\\u0442\\u0430\\u0446\", \"\\u043a\\u043e\\u0440\\u0440\\u0443\\u043f\\u0446\", \"\\u043a\\u0440\\u0430\\u0441\\u043d_\\u0437\\u043e\\u043d\", \"\\u043a\\u0440\\u0430\\u0441\\u043d_\\u0437\\u043e\\u043d\", \"\\u043a\\u0440\\u043e\\u0432\", \"\\u043a\\u0440\\u043e\\u0432\", \"\\u043a\\u0440\\u043e\\u0441\\u0441\\u043e\\u0432\\u0435\\u0440\", \"\\u043a\\u0440\\u0443\\u0433\\u043b_\\u0441\\u0442\\u043e\\u043b\", \"\\u043a\\u0440\\u0443\\u043f\\u043d_\\u043a\\u043e\\u043c\\u043f\\u0430\\u043d\", \"\\u043a\\u0443\\u043f\", \"\\u043a\\u0443\\u043f\", \"\\u043b\\u0435\\u0432_\\u0432\\u043e\\u0440\\u043e\\u043f\\u0430\", \"\\u043b\\u0435\\u0447\\u0435\\u043d\", \"\\u043b\\u0435\\u0447\\u0435\\u043d\", \"\\u043b\\u0435\\u0447\\u0435\\u043d\", \"\\u043b\\u0438\\u0448\\u0435\\u043d_\\u0441\\u0432\\u043e\\u0431\\u043e\\u0434\", \"\\u043b\\u0438\\u0448\\u0435\\u043d_\\u0441\\u0432\\u043e\\u0431\\u043e\\u0434\", \"\\u043b\\u044e\\u0431_\\u0441\\u043b\\u0443\\u0447\\u0430\", \"\\u043b\\u044e\\u0431_\\u0441\\u043b\\u0443\\u0447\\u0430\", \"\\u043b\\u044e\\u0431_\\u0441\\u043b\\u0443\\u0447\\u0430\", \"\\u043b\\u044e\\u0431_\\u0441\\u043b\\u0443\\u0447\\u0430\", \"\\u043c\\u0430\\u0439\\u0441\\u043a_\\u043f\\u0440\\u0430\\u0437\\u0434\\u043d\\u0438\\u043a\", \"\\u043c\\u0430\\u043c\", \"\\u043c\\u0430\\u043c\", \"\\u043c\\u0430\\u043c\", \"\\u043c\\u0430\\u0440\\u043a\", \"\\u043c\\u0430\\u0440\\u043a\", \"\\u043c\\u0435\\u0434\\u0438\\u043a\", \"\\u043c\\u0435\\u043d\\u0435\\u0434\\u0436\\u0435\\u0440\", \"\\u043c\\u0435\\u043d\\u0435\\u0434\\u0436\\u0435\\u0440\", \"\\u043c\\u0435\\u043d\\u0435\\u0434\\u0436\\u0435\\u0440\", \"\\u043c\\u0435\\u043d\\u0435\\u0434\\u0436\\u0435\\u0440_\\u043f\\u0435\\u0440\\u0441\\u043e\\u043d\\u0430\\u043b\", \"\\u043c\\u0435\\u043d\\u0435\\u0434\\u0436\\u0435\\u0440_\\u043f\\u0440\\u043e\\u0434\\u0430\\u0436\", \"\\u043c\\u0435\\u0441\\u0442_\\u0436\\u0438\\u0442\\u0435\\u043b\\u044c\\u0441\\u0442\\u0432\", \"\\u043c\\u0435\\u0441\\u0442_\\u0436\\u0438\\u0442\\u0435\\u043b\\u044c\\u0441\\u0442\\u0432\", \"\\u043c\\u0435\\u0442\\u0440\", \"\\u043c\\u0435\\u0442\\u0440\", \"\\u043c\\u0435\\u0442\\u0440\", \"\\u043c\\u0438\\u043b\\u043b\\u0438\\u043e\\u043d\", \"\\u043c\\u0438\\u043b\\u043b\\u0438\\u043e\\u043d\", \"\\u043c\\u0438\\u043b\\u043b\\u0438\\u043e\\u043d\", \"\\u043c\\u0438\\u043b\\u043b\\u0438\\u043e\\u043d_\\u0440\\u0443\\u0431\\u043b\", \"\\u043c\\u0438\\u043b\\u043b\\u0438\\u043e\\u043d_\\u0440\\u0443\\u0431\\u043b\", \"\\u043c\\u0438\\u043b\\u043b\\u0438\\u043e\\u043d_\\u0440\\u0443\\u0431\\u043b\", \"\\u043c\\u0438\\u043d\\u0437\\u0434\\u0440\\u0430\\u0432\", \"\\u043c\\u0438\\u043d\\u0438\\u043c\\u0430\\u043b\\u044c\\u043d_\\u0440\\u0430\\u0437\\u043c\\u0435\\u0440\", \"\\u043c\\u0438\\u043d\\u0438\\u043c\\u0430\\u043b\\u044c\\u043d_\\u0440\\u0430\\u0437\\u043c\\u0435\\u0440\", \"\\u043c\\u0438\\u043d\\u0438\\u0441\\u0442\\u0440_\\u0442\\u0440\\u0443\\u0434\", \"\\u043c\\u0438\\u043d\\u0442\\u0440\\u0443\\u0434\", \"\\u043c\\u043e\\u0434\\u0435\\u043b\", \"\\u043c\\u043e\\u0434\\u0435\\u043b\", \"\\u043c\\u043e\\u0440\\u0430\\u043b\\u044c\\u043d_\\u0432\\u0440\\u0435\\u0434\", \"\\u043c\\u043e\\u0441\\u0442\", \"\\u043c\\u043e\\u0441\\u0442\", \"\\u043c\\u043e\\u0442\\u043e\\u0440\", \"\\u043d\\u0430\\u0441\\u0435\\u043b\\u0435\\u043d\", \"\\u043d\\u0430\\u0441\\u0435\\u043b\\u0435\\u043d\", \"\\u043d\\u0430\\u0441\\u0435\\u043b\\u0435\\u043d\", \"\\u043d\\u0430\\u0441\\u0435\\u043b\\u0435\\u043d\", \"\\u043d\\u0430\\u0442\\u0430\\u043b_\\u0431\\u0443\\u0440\\u0443\\u0445\\u0438\\u043d\", \"\\u043d\\u0435\\u043f\\u043e\\u043b\\u043d_\\u0440\\u0430\\u0431\\u043e\\u0447\", \"\\u043d\\u0435\\u0441\\u0447\\u0430\\u0441\\u0442\\u043d_\\u0441\\u043b\\u0443\\u0447\\u0430\", \"\\u043d\\u043e\\u0432_\\u0438\\u043d\\u0444\\u0435\\u043a\\u0446\", \"\\u043d\\u043e\\u0432_\\u0448\\u0442\\u0430\\u043c\\u043c\", \"\\u043d\\u043e\\u0432\\u043e\\u0433\\u043e\\u0434\\u043d_\\u043a\\u0430\\u043d\\u0438\\u043a\\u0443\\u043b\", \"\\u043d\\u043e\\u0432\\u043e\\u0433\\u043e\\u0434\\u043d_\\u043a\\u0430\\u043d\\u0438\\u043a\\u0443\\u043b\", \"\\u043d\\u043e\\u0432\\u043e\\u0433\\u043e\\u0434\\u043d_\\u043a\\u0430\\u043d\\u0438\\u043a\\u0443\\u043b\", \"\\u043e\\u0431\\u0443\\u0447\\u0435\\u043d\", \"\\u043e\\u0431\\u0443\\u0447\\u0435\\u043d\", \"\\u043e\\u0431\\u0443\\u0447\\u0435\\u043d\", \"\\u043e\\u043f\\u043b\\u0430\\u0442_\\u0442\\u0440\\u0443\\u0434\", \"\\u043e\\u043f\\u043b\\u0430\\u0442_\\u0442\\u0440\\u0443\\u0434\", \"\\u043e\\u0440\\u0433\\u0430\\u043d\\u0438\\u0437\\u043c\", \"\\u043e\\u0440\\u0433\\u0430\\u043d\\u0438\\u0437\\u043c\", \"\\u043e\\u0440\\u0433\\u0430\\u043d\\u0438\\u0437\\u043c\", \"\\u043e\\u0440\\u0433\\u0430\\u043d\\u0438\\u0437\\u043c\", \"\\u043e\\u0442\\u043a\\u0430\\u0437\", \"\\u043e\\u0442\\u043a\\u0430\\u0437\", \"\\u043e\\u0442\\u043a\\u0430\\u0437\", \"\\u043e\\u0444\\u0438\\u0441\\u043d_\\u0441\\u043e\\u0442\\u0440\\u0443\\u0434\\u043d\\u0438\\u043a\", \"\\u043f\\u0430\\u0440\\u043a\\u043e\\u0432\\u043a\", \"\\u043f\\u0430\\u0440\\u043a\\u043e\\u0432\\u043a\", \"\\u043f\\u0434\\u0434\", \"\\u043f\\u0435\\u043d\\u0441\", \"\\u043f\\u0435\\u043d\\u0441\", \"\\u043f\\u0435\\u043d\\u0441\\u0438\\u043e\\u043d\", \"\\u043f\\u0435\\u043d\\u0441\\u0438\\u043e\\u043d\", \"\\u043f\\u0435\\u043d\\u0441\\u0438\\u043e\\u043d_\\u0432\\u043e\\u0437\\u0440\\u0430\\u0441\\u0442\", \"\\u043f\\u0435\\u043d\\u0441\\u0438\\u043e\\u043d_\\u0432\\u043e\\u0437\\u0440\\u0430\\u0441\\u0442\", \"\\u043f\\u0435\\u043d\\u0441\\u0438\\u043e\\u043d_\\u0444\\u043e\\u043d\\u0434\", \"\\u043f\\u0435\\u043d\\u0441\\u0438\\u043e\\u043d_\\u0444\\u043e\\u043d\\u0434\", \"\\u043f\\u0435\\u0440\\u0432_\\u043e\\u0447\\u0435\\u0440\\u0435\\u0434\", \"\\u043f\\u0435\\u0440\\u0432_\\u043e\\u0447\\u0435\\u0440\\u0435\\u0434\", \"\\u043f\\u0435\\u0440\\u0432_\\u043e\\u0447\\u0435\\u0440\\u0435\\u0434\", \"\\u043f\\u0435\\u0440\\u0432_\\u043e\\u0447\\u0435\\u0440\\u0435\\u0434\", \"\\u043f\\u0435\\u0440\\u0435\\u0434\\u043d\", \"\\u043f\\u0435\\u0448\\u0435\\u0445\\u043e\\u0434\", \"\\u043f\\u0435\\u0448\\u0435\\u0445\\u043e\\u0434\\u043d_\\u043f\\u0435\\u0440\\u0435\\u0445\\u043e\\u0434\", \"\\u043f\\u0438\\u0441\\u044c\\u043c\\u0435\\u043d\", \"\\u043f\\u0438\\u0441\\u044c\\u043c\\u0435\\u043d\", \"\\u043f\\u0438\\u0441\\u044c\\u043c\\u0435\\u043d_\\u0444\\u043e\\u0440\\u043c\", \"\\u043f\\u0438\\u0441\\u044c\\u043c\\u0435\\u043d_\\u0444\\u043e\\u0440\\u043c\", \"\\u043f\\u043e\\u0432\\u044b\\u0448\\u0435\\u043d_\\u043f\\u0435\\u043d\\u0441\\u0438\\u043e\\u043d\", \"\\u043f\\u043e\\u0434\\u0432\\u0435\\u0441\\u043a\", \"\\u043f\\u043e\\u0438\\u0441\\u043a_\\u0440\\u0430\\u0431\\u043e\\u0442\", \"\\u043f\\u043e\\u0438\\u0441\\u043a_\\u0440\\u0430\\u0431\\u043e\\u0442\", \"\\u043f\\u043e\\u043a\\u0443\\u043f\\u0430\\u0442\\u0435\\u043b\", \"\\u043f\\u043e\\u043a\\u0443\\u043f\\u0430\\u0442\\u0435\\u043b\", \"\\u043f\\u043e\\u043b\\u043d_\\u043f\\u0440\\u0438\\u0432\\u043e\\u0434\", \"\\u043f\\u043e\\u043b\\u043e\\u0441\", \"\\u043f\\u043e\\u043b\\u043e\\u0441\", \"\\u043f\\u043e\\u043b\\u043e\\u0441\", \"\\u043f\\u043e\\u0440\\u0430\\u0436\\u0435\\u043d_\\u043b\\u0435\\u0433\\u043a\", \"\\u043f\\u043e\\u0441\\u043b\\u0435\\u0434\\u043d_\\u0441\\u0443\\u0442\\u043a\", \"\\u043f\\u043e\\u0442\\u0435\\u0440_\\u0440\\u0430\\u0431\\u043e\\u0442\", \"\\u043f\\u043e\\u044f\\u0441\\u043d\\u0438\\u0442\\u0435\\u043b\\u044c\\u043d_\\u0437\\u0430\\u043f\\u0438\\u0441\\u043a\", \"\\u043f\\u0440\\u0435\\u0434\\u043f\\u0440\\u0438\\u044f\\u0442\", \"\\u043f\\u0440\\u0435\\u0434\\u043f\\u0440\\u0438\\u044f\\u0442\", \"\\u043f\\u0440\\u0435\\u0434\\u043f\\u0440\\u0438\\u044f\\u0442\", \"\\u043f\\u0440\\u0435\\u0434\\u043f\\u0440\\u0438\\u044f\\u0442\", \"\\u043f\\u0440\\u0435\\u043f\\u0430\\u0440\\u0430\\u0442\", \"\\u043f\\u0440\\u0438\\u0432\", \"\\u043f\\u0440\\u0438\\u0432\\u0438\\u0432\\u0430\", \"\\u043f\\u0440\\u0438\\u0432\\u0438\\u0432\\u043a\", \"\\u043f\\u0440\\u0438\\u0432\\u043e\\u0434\", \"\\u043f\\u0440\\u0438\\u0432\\u043e\\u0434\", \"\\u043f\\u0440\\u0438\\u0432\\u043e\\u0434\", \"\\u043f\\u0440\\u0438\\u0432\\u043e\\u0434\", \"\\u043f\\u0440\\u0438\\u043d\\u0443\\u0434\\u0438\\u0442\\u0435\\u043b\\u044c\\u043d_\\u0440\\u0430\\u0431\\u043e\\u0442\", \"\\u043f\\u0440\\u0438\\u0447\\u0438\\u043d_\\u043e\\u0442\\u043a\\u0430\\u0437\", \"\\u043f\\u0440\\u043e\\u0435\\u0437\\u0436_\\u0447\\u0430\\u0441\\u0442\", \"\\u043f\\u0440\\u043e\\u0436\\u0438\\u0442\\u043e\\u0447\\u043d\", \"\\u043f\\u0440\\u043e\\u0436\\u0438\\u0442\\u043e\\u0447\\u043d_\\u043c\\u0438\\u043d\\u0438\\u043c\\u0443\\u043c\", \"\\u043f\\u0440\\u043e\\u0444\\u0435\\u0441\\u0441\", \"\\u043f\\u0440\\u043e\\u0444\\u0435\\u0441\\u0441\", \"\\u043f\\u0440\\u043e\\u0444\\u0435\\u0441\\u0441\", \"\\u043f\\u0443\\u043d\\u043a\\u0442\", \"\\u043f\\u0443\\u043d\\u043a\\u0442\", \"\\u043f\\u0443\\u043d\\u043a\\u0442\", \"\\u043f\\u0443\\u043d\\u043a\\u0442_\\u043f\\u0434\\u0434\", \"\\u0440\\u0430\\u0431\\u043e\\u0442_\\u043f\\u0435\\u0440\\u0441\\u043e\\u043d\\u0430\\u043b\", \"\\u0440\\u0430\\u0431\\u043e\\u0442_\\u043f\\u0435\\u0440\\u0441\\u043e\\u043d\\u0430\\u043b\", \"\\u0440\\u0430\\u0431\\u043e\\u0442\\u043e\\u0434\\u0430\\u0442\\u0435\\u043b_\\u0434\\u043e\\u043b\\u0436\", \"\\u0440\\u0430\\u0431\\u043e\\u0442\\u043e\\u0434\\u0430\\u0442\\u0435\\u043b_\\u0434\\u043e\\u043b\\u0436\", \"\\u0440\\u0430\\u0431\\u043e\\u0447_\\u0434\\u043d\\u0435\", \"\\u0440\\u0430\\u0431\\u043e\\u0447_\\u0434\\u043d\\u0435\", \"\\u0440\\u0430\\u0431\\u043e\\u0447_\\u043c\\u0435\\u0441\\u0442\", \"\\u0440\\u0430\\u0431\\u043e\\u0447_\\u043c\\u0435\\u0441\\u0442\", \"\\u0440\\u0430\\u0431\\u043e\\u0447_\\u043d\\u0435\\u0434\\u0435\\u043b\", \"\\u0440\\u0430\\u0437\\u043c\\u0435\\u0440\", \"\\u0440\\u0430\\u0437\\u043c\\u0435\\u0440\", \"\\u0440\\u0430\\u0437\\u043c\\u0435\\u0440\", \"\\u0440\\u0430\\u0437\\u043c\\u0435\\u0440\", \"\\u0440\\u0435\\u0430\\u043b\\u044c\\u043d_\\u0437\\u0430\\u0440\\u043f\\u043b\\u0430\\u0442\", \"\\u0440\\u0435\\u0437\\u044e\\u043c\", \"\\u0440\\u0435\\u0437\\u044e\\u043c\", \"\\u0440\\u043e\\u0441\\u043f\\u043e\\u0442\\u0440\\u0435\\u0431\\u043d\\u0430\\u0434\\u0437\\u043e\\u0440\", \"\\u0440\\u043e\\u0441\\u043f\\u043e\\u0442\\u0440\\u0435\\u0431\\u043d\\u0430\\u0434\\u0437\\u043e\\u0440\", \"\\u0440\\u043e\\u0441\\u0441\\u0438\\u0439\\u0441\\u043a_\\u0444\\u0435\\u0434\\u0435\\u0440\\u0430\\u0446\", \"\\u0440\\u043e\\u0441\\u0441\\u0438\\u0439\\u0441\\u043a_\\u0444\\u0435\\u0434\\u0435\\u0440\\u0430\\u0446\", \"\\u0440\\u043e\\u0441\\u0442_\\u0431\\u0435\\u0437\\u0440\\u0430\\u0431\\u043e\\u0442\\u0438\\u0446\", \"\\u0440\\u0443\\u043b\", \"\\u0440\\u044b\\u043d\\u043a_\\u0442\\u0440\\u0443\\u0434\", \"\\u0440\\u044b\\u043d\\u043a_\\u0442\\u0440\\u0443\\u0434\", \"\\u0441\\u0430\\u043b\\u043e\\u043d\", \"\\u0441\\u0430\\u043b\\u043e\\u043d\", \"\\u0441\\u0434\\u0435\\u043b\\u0430_\\u043f\\u0440\\u0438\\u0432\\u0438\\u0432\\u043a\", \"\\u0441\\u0435\\u0440_\\u0437\\u0430\\u0440\\u043f\\u043b\\u0430\\u0442\", \"\\u0441\\u0438\\u0434\\u0435\\u043d\", \"\\u0441\\u0438\\u0434\\u0435\\u043d\", \"\\u0441\\u0438\\u043c\\u043f\\u0442\\u043e\\u043c\", \"\\u0441\\u0438\\u043c\\u043f\\u0442\\u043e\\u043c\", \"\\u0441\\u043a\\u043e\\u0440\\u043e\\u0441\\u0442\", \"\\u0441\\u043a\\u043e\\u0440\\u043e\\u0441\\u0442\", \"\\u0441\\u043a\\u043e\\u0440\\u043e\\u0441\\u0442\", \"\\u0441\\u043b\\u0443\\u0436\\u0431\", \"\\u0441\\u043b\\u0443\\u0436\\u0431\", \"\\u0441\\u043b\\u0443\\u0436\\u0431\", \"\\u0441\\u043b\\u0443\\u0436\\u0431\", \"\\u0441\\u043b\\u0443\\u0436\\u0431_\\u0437\\u0430\\u043d\\u044f\\u0442\", \"\\u0441\\u043b\\u0443\\u0436\\u0431_\\u0437\\u0430\\u043d\\u044f\\u0442\", \"\\u0441\\u043b\\u0443\\u0447\\u0430_\\u0437\\u0430\\u0440\\u0430\\u0436\\u0435\\u043d\", \"\\u0441\\u043c\\u0435\\u0440\\u0442\", \"\\u0441\\u043c\\u0435\\u0440\\u0442\", \"\\u0441\\u043e\\u0431\\u0435\\u0441\\u0435\\u0434\\u043e\\u0432\\u0430\\u043d\", \"\\u0441\\u043e\\u0431\\u0435\\u0441\\u0435\\u0434\\u043e\\u0432\\u0430\\u043d\", \"\\u0441\\u043e\\u0432\\u0435\\u0442_\\u0444\\u0435\\u0434\\u0435\\u0440\\u0430\\u0446\", \"\\u0441\\u043e\\u043a\\u0440\\u0430\\u0449\\u0435\\u043d\", \"\\u0441\\u043e\\u043a\\u0440\\u0430\\u0449\\u0435\\u043d\", \"\\u0441\\u043e\\u043a\\u0440\\u0430\\u0449\\u0435\\u043d\", \"\\u0441\\u043e\\u043a\\u0440\\u0430\\u0449\\u0435\\u043d\", \"\\u0441\\u043e\\u043a\\u0440\\u0430\\u0449\\u0435\\u043d_\\u0440\\u0430\\u0431\\u043e\\u0447\", \"\\u0441\\u043e\\u043a\\u0440\\u0430\\u0449\\u0435\\u043d_\\u0448\\u0442\\u0430\\u0442\", \"\\u0441\\u043e\\u0442\\u0440\\u0443\\u0434\\u043d\\u0438\\u043a_\\u0433\\u0438\\u0431\\u0434\\u0434\", \"\\u0441\\u043f\\u0443\\u0442\\u043d\\u0438\\u043a\", \"\\u0441\\u043f\\u0443\\u0442\\u043d\\u0438\\u043a\", \"\\u0441\\u0440\\u0435\\u0434\\u043d_\\u0437\\u0430\\u0440\\u0430\\u0431\\u043e\\u0442\\u043d\", \"\\u0441\\u0440\\u0435\\u0434\\u043d_\\u0437\\u0430\\u0440\\u043f\\u043b\\u0430\\u0442\", \"\\u0441\\u0442\\u0430\\u0442_\\u043d\\u0430\\u043a\\u0430\\u0437\\u044b\\u0432\\u0430\", \"\\u0441\\u0442\\u043e_\\u043c\\u0438\\u043b\\u043b\\u0438\\u043e\\u043d\", \"\\u0441\\u0442\\u043e_\\u0440\\u0443\\u0431\\u043b\", \"\\u0441\\u0442\\u043e_\\u0440\\u0443\\u0431\\u043b\", \"\\u0441\\u0442\\u043e_\\u0440\\u0443\\u0431\\u043b\", \"\\u0441\\u0442\\u0440\\u0430\\u0445\\u043e\\u0432_\\u0432\\u0437\\u043d\\u043e\\u0441\", \"\\u0441\\u0442\\u0440\\u0430\\u0445\\u043e\\u0432_\\u043a\\u043e\\u043c\\u043f\\u0430\\u043d\", \"\\u0441\\u0442\\u0440\\u0430\\u0445\\u043e\\u0432_\\u043a\\u043e\\u043c\\u043f\\u0430\\u043d\", \"\\u0441\\u0443\\u0442\\u043a\", \"\\u0441\\u0443\\u0442\\u043a\", \"\\u0441\\u0443\\u0442\\u043a\", \"\\u0441\\u0444\\u0435\\u0440\", \"\\u0441\\u0444\\u0435\\u0440\", \"\\u0441\\u0444\\u0435\\u0440\", \"\\u0441\\u0444\\u0435\\u0440_\\u0434\\u0435\\u044f\\u0442\\u0435\\u043b\\u044c\\u043d\", \"\\u0442\\u0430\\u043a_\\u043e\\u0431\\u0440\\u0430\\u0437\", \"\\u0442\\u0430\\u043a_\\u043e\\u0431\\u0440\\u0430\\u0437\", \"\\u0442\\u0430\\u043a_\\u043e\\u0431\\u0440\\u0430\\u0437\", \"\\u0442\\u0430\\u043a_\\u043e\\u0431\\u0440\\u0430\\u0437\", \"\\u0442\\u0435\\u043c\\u043f\\u0435\\u0440\\u0430\\u0442\\u0443\\u0440\", \"\\u0442\\u0435\\u043c\\u043f\\u0435\\u0440\\u0430\\u0442\\u0443\\u0440\", \"\\u0442\\u0435\\u043c\\u043f\\u0435\\u0440\\u0430\\u0442\\u0443\\u0440\", \"\\u0442\\u043e\\u043f\\u043b\\u0438\\u0432\", \"\\u0442\\u043e\\u043f\\u043b\\u0438\\u0432\", \"\\u0442\\u043e\\u0440\\u0433\\u043e\\u0432_\\u0446\\u0435\\u043d\\u0442\\u0440\", \"\\u0442\\u043e\\u0447\\u043a_\\u0437\\u0440\\u0435\\u043d\", \"\\u0442\\u043e\\u0447\\u043a_\\u0437\\u0440\\u0435\\u043d\", \"\\u0442\\u043e\\u0447\\u043a_\\u0437\\u0440\\u0435\\u043d\", \"\\u0442\\u043e\\u0447\\u043a_\\u0437\\u0440\\u0435\\u043d\", \"\\u0442\\u0440\\u0430\\u043d\\u0441\\u043f\\u043e\\u0440\\u0442\\u043d_\\u0441\\u0440\\u0435\\u0434\\u0441\\u0442\\u0432\", \"\\u0442\\u0440\\u0430\\u043d\\u0441\\u043f\\u043e\\u0440\\u0442\\u043d_\\u0441\\u0440\\u0435\\u0434\\u0441\\u0442\\u0432\", \"\\u0442\\u0440\\u0430\\u0441\\u0441\", \"\\u0442\\u0440\\u0443\\u0434\\u043e\\u0432\", \"\\u0442\\u0440\\u0443\\u0434\\u043e\\u0432\", \"\\u0442\\u0440\\u0443\\u0434\\u043e\\u0432_\\u0434\\u0435\\u044f\\u0442\\u0435\\u043b\\u044c\\u043d\", \"\\u0442\\u0440\\u0443\\u0434\\u043e\\u0432_\\u0434\\u043e\\u0433\\u043e\\u0432\\u043e\\u0440\", \"\\u0442\\u0440\\u0443\\u0434\\u043e\\u0432_\\u0434\\u043e\\u0433\\u043e\\u0432\\u043e\\u0440\", \"\\u0442\\u0440\\u0443\\u0434\\u043e\\u0432_\\u043a\\u043e\\u0434\\u0435\\u043a\\u0441\", \"\\u0442\\u0440\\u0443\\u0434\\u043e\\u0432_\\u043a\\u043e\\u0434\\u0435\\u043a\\u0441\", \"\\u0442\\u0440\\u0443\\u0434\\u043e\\u0432_\\u043e\\u0431\\u044f\\u0437\\u0430\\u043d\", \"\\u0442\\u0440\\u0443\\u0434\\u043e\\u0432_\\u043e\\u0442\\u043d\\u043e\\u0448\\u0435\\u043d\", \"\\u0442\\u044b\\u0441\\u044f\\u0447_\\u0440\\u0443\\u0431\\u043b\", \"\\u0442\\u044b\\u0441\\u044f\\u0447_\\u0440\\u0443\\u0431\\u043b\", \"\\u0443\\u0432\\u043e\\u043b\\u044c\\u043d\\u0435\\u043d\", \"\\u0443\\u0432\\u043e\\u043b\\u044c\\u043d\\u0435\\u043d\", \"\\u0443\\u0432\\u043e\\u043b\\u044c\\u043d\\u0435\\u043d_\\u0440\\u0430\\u0431\\u043e\\u0442\\u043d\\u0438\\u043a\", \"\\u0443\\u0434\\u0430\\u043b\\u0435\\u043d_\\u0440\\u0430\\u0431\\u043e\\u0442\", \"\\u0443\\u0440\\u043e\\u0432\\u0435\\u043d_\\u0431\\u0435\\u0437\\u0440\\u0430\\u0431\\u043e\\u0442\\u0438\\u0446\", \"\\u0443\\u0441\\u043b\\u0443\\u0433\", \"\\u0443\\u0441\\u043b\\u0443\\u0433\", \"\\u0443\\u0441\\u043b\\u0443\\u0433\", \"\\u0443\\u0441\\u043b\\u0443\\u0433\", \"\\u0443\\u0441\\u0442\\u0440\\u043e_\\u0440\\u0430\\u0431\\u043e\\u0442\", \"\\u0444\\u0435\\u0434\\u0435\\u0440\\u0430\\u043b\\u044c\\u043d_\\u0437\\u0430\\u043a\\u043e\\u043d\", \"\\u0444\\u0435\\u0434\\u0435\\u0440\\u0430\\u0446\", \"\\u0444\\u0435\\u0434\\u0435\\u0440\\u0430\\u0446\", \"\\u0444\\u0435\\u0434\\u0435\\u0440\\u0430\\u0446\", \"\\u0444\\u043e\\u0442_\\u0430\\u043b\\u0435\\u043a\\u0441\", \"\\u0444\\u043e\\u0442_\\u0430\\u043b\\u0435\\u043a\\u0441\", \"\\u0444\\u043e\\u0442_\\u0430\\u043b\\u0435\\u043a\\u0441\\u0430\\u043d\\u0434\\u0440\", \"\\u0444\\u043e\\u0442_\\u0430\\u043b\\u0435\\u043a\\u0441\\u0430\\u043d\\u0434\\u0440\", \"\\u0444\\u043e\\u0442_\\u0430\\u0440\\u0442\", \"\\u0444\\u043e\\u0442_\\u0430\\u0440\\u0442\", \"\\u0445\\u0440\\u043e\\u043d\\u0438\\u0447\\u0435\\u0441\\u043a_\\u0437\\u0430\\u0431\\u043e\\u043b\\u0435\\u0432\\u0430\\u043d\", \"\\u0446\\u0435\\u043d\\u0442\\u0440_\\u0437\\u0430\\u043d\\u044f\\u0442\", \"\\u0446\\u0435\\u043d\\u0442\\u0440_\\u0437\\u0430\\u043d\\u044f\\u0442\", \"\\u0447\\u0438\\u0441\\u043b\\u0435\\u043d_\\u0440\\u0430\\u0431\\u043e\\u0442\\u043d\\u0438\\u043a\", \"\\u0447\\u0442\\u0435\\u043d\", \"\\u0448\\u0442\\u0430\\u043c\\u043c\", \"\\u0448\\u0442\\u0440\\u0430\\u0444\", \"\\u0448\\u0442\\u0440\\u0430\\u0444\", \"\\u0448\\u0442\\u0440\\u0430\\u0444\", \"\\u0448\\u0442\\u0440\\u0430\\u0444_\\u0440\\u0430\\u0437\\u043c\\u0435\\u0440\", \"\\u0448\\u0442\\u0440\\u0430\\u0444_\\u0440\\u0443\\u0431\\u043b\", \"\\u0448\\u0442\\u0440\\u0430\\u0444_\\u0440\\u0443\\u0431\\u043b\", \"\\u044d\\u043a\\u043e\\u043d\\u043e\\u043c\\u0438\\u0447\\u0435\\u0441\\u043a_\\u0430\\u043a\\u0442\\u0438\\u0432\\u043d\", \"\\u044d\\u043a\\u0441\\u043a\\u0443\\u0440\\u0441\", \"\\u044d\\u043a\\u0441\\u043a\\u0443\\u0440\\u0441\", \"\\u044e\\u0440\\u0438\\u0434\\u0438\\u0447\\u0435\\u0441\\u043a_\\u043b\\u0438\\u0446\", \"\\u044e\\u0440\\u0438\\u0434\\u0438\\u0447\\u0435\\u0441\\u043a_\\u043b\\u0438\\u0446\"]}, \"R\": 30, \"lambda.step\": 0.01, \"plot.opts\": {\"xlab\": \"PC1\", \"ylab\": \"PC2\"}, \"topic.order\": [3, 1, 4, 2]};\n",
       "\n",
       "function LDAvis_load_lib(url, callback){\n",
       "  var s = document.createElement('script');\n",
       "  s.src = url;\n",
       "  s.async = true;\n",
       "  s.onreadystatechange = s.onload = callback;\n",
       "  s.onerror = function(){console.warn(\"failed to load library \" + url);};\n",
       "  document.getElementsByTagName(\"head\")[0].appendChild(s);\n",
       "}\n",
       "\n",
       "if(typeof(LDAvis) !== \"undefined\"){\n",
       "   // already loaded: just create the visualization\n",
       "   !function(LDAvis){\n",
       "       new LDAvis(\"#\" + \"ldavis_el740817073344828486004127804\", ldavis_el740817073344828486004127804_data);\n",
       "   }(LDAvis);\n",
       "}else if(typeof define === \"function\" && define.amd){\n",
       "   // require.js is available: use it to load d3/LDAvis\n",
       "   require.config({paths: {d3: \"https://d3js.org/d3.v5\"}});\n",
       "   require([\"d3\"], function(d3){\n",
       "      window.d3 = d3;\n",
       "      LDAvis_load_lib(\"https://cdn.jsdelivr.net/gh/bmabey/pyLDAvis@3.3.1/pyLDAvis/js/ldavis.v3.0.0.js\", function(){\n",
       "        new LDAvis(\"#\" + \"ldavis_el740817073344828486004127804\", ldavis_el740817073344828486004127804_data);\n",
       "      });\n",
       "    });\n",
       "}else{\n",
       "    // require.js not available: dynamically load d3 & LDAvis\n",
       "    LDAvis_load_lib(\"https://d3js.org/d3.v5.js\", function(){\n",
       "         LDAvis_load_lib(\"https://cdn.jsdelivr.net/gh/bmabey/pyLDAvis@3.3.1/pyLDAvis/js/ldavis.v3.0.0.js\", function(){\n",
       "                 new LDAvis(\"#\" + \"ldavis_el740817073344828486004127804\", ldavis_el740817073344828486004127804_data);\n",
       "            })\n",
       "         });\n",
       "}\n",
       "</script>"
      ],
      "text/plain": [
       "PreparedData(topic_coordinates=              x         y  topics  cluster       Freq\n",
       "topic                                                \n",
       "2      0.174165 -0.011391       1        1  41.330596\n",
       "0      0.165204  0.063594       2        1  39.020329\n",
       "3     -0.117082 -0.191303       3        1  13.428632\n",
       "1     -0.222287  0.139100       4        1   6.220443, topic_info=                           Term         Freq        Total Category  logprob  \\\n",
       "436                      трудов   878.000000   878.000000  Default  30.0000   \n",
       "10635                    вакцин  1998.000000  1998.000000  Default  29.0000   \n",
       "7125                 рабоч_мест  1061.000000  1061.000000  Default  28.0000   \n",
       "2156                      занят   857.000000   857.000000  Default  27.0000   \n",
       "453                     фот_арт  3295.000000  3295.000000  Default  26.0000   \n",
       "...                         ...          ...          ...      ...      ...   \n",
       "249                       штраф   215.135207   844.131891   Topic4  -5.6479   \n",
       "11268               служб_занят   175.848253   635.705566   Topic4  -5.8495   \n",
       "1692   гражданскоправов_договор   158.846106   272.057632   Topic4  -5.9512   \n",
       "759                   так_образ   163.437231   710.704787   Topic4  -5.9227   \n",
       "3846                   кандидат   162.893051   636.024357   Topic4  -5.9260   \n",
       "\n",
       "       loglift  \n",
       "436    30.0000  \n",
       "10635  29.0000  \n",
       "7125   28.0000  \n",
       "2156   27.0000  \n",
       "453    26.0000  \n",
       "...        ...  \n",
       "249     1.4103  \n",
       "11268   1.4922  \n",
       "1692    2.2393  \n",
       "759     1.3075  \n",
       "3846    1.4152  \n",
       "\n",
       "[268 rows x 6 columns], token_table=       Topic      Freq                Term\n",
       "term                                      \n",
       "0          2  0.997885                авар\n",
       "471        2  0.997882                 авт\n",
       "472        2  0.996900             автоваз\n",
       "803        2  0.999349             автомат\n",
       "4          2  0.998325             автомоб\n",
       "...      ...       ...                 ...\n",
       "11470      3  0.995608  экономическ_активн\n",
       "7846       1  0.995496             экскурс\n",
       "7846       2  0.004945             экскурс\n",
       "466        2  0.014252       юридическ_лиц\n",
       "466        4  0.983362       юридическ_лиц\n",
       "\n",
       "[421 rows x 3 columns], R=30, lambda_step=0.01, plot_opts={'xlab': 'PC1', 'ylab': 'PC2'}, topic_order=[3, 1, 4, 2])"
      ]
     },
     "execution_count": 157,
     "metadata": {},
     "output_type": "execute_result"
    }
   ],
   "source": [
    "data"
   ]
  },
  {
   "cell_type": "code",
   "execution_count": 155,
   "metadata": {},
   "outputs": [],
   "source": [
    "coherencemodel = CoherenceModel(model=ldamodel, texts=clean_text, dictionary=dictionary, coherence='c_v')"
   ]
  },
  {
   "cell_type": "code",
   "execution_count": 156,
   "metadata": {},
   "outputs": [
    {
     "data": {
      "text/plain": [
       "0.4284196396847615"
      ]
     },
     "execution_count": 156,
     "metadata": {},
     "output_type": "execute_result"
    }
   ],
   "source": [
    "coherencemodel.get_coherence()"
   ]
  }
 ],
 "metadata": {
  "kernelspec": {
   "display_name": "Python 3 (ipykernel)",
   "language": "python",
   "name": "python3"
  },
  "language_info": {
   "codemirror_mode": {
    "name": "ipython",
    "version": 3
   },
   "file_extension": ".py",
   "mimetype": "text/x-python",
   "name": "python",
   "nbconvert_exporter": "python",
   "pygments_lexer": "ipython3",
   "version": "3.9.10"
  },
  "widgets": {
   "state": {},
   "version": "1.1.1"
  }
 },
 "nbformat": 4,
 "nbformat_minor": 1
}
