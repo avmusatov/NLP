{
 "cells": [
  {
   "cell_type": "markdown",
   "metadata": {},
   "source": [
    "!pip install pymystem3 selenium html2text requests beautifulsoup4 atlas json2xml  \n",
    "\n",
    "Don't forget to install **[Chrome Driver](https://sites.google.com/a/chromium.org/chromedriver/downloads)**"
   ]
  },
  {
   "cell_type": "code",
   "execution_count": 14,
   "metadata": {},
   "outputs": [
    {
     "name": "stdout",
     "output_type": "stream",
     "text": [
      "Collecting webdriver-manager\n",
      "  Downloading webdriver_manager-3.5.2-py2.py3-none-any.whl (17 kB)\n",
      "Collecting crayons\n",
      "  Downloading crayons-0.4.0-py2.py3-none-any.whl (4.6 kB)\n",
      "Requirement already satisfied: requests in c:\\users\\antid\\appdata\\local\\packages\\pythonsoftwarefoundation.python.3.9_qbz5n2kfra8p0\\localcache\\local-packages\\python39\\site-packages (from webdriver-manager) (2.26.0)\n",
      "Collecting configparser\n",
      "  Downloading configparser-5.2.0-py3-none-any.whl (19 kB)\n",
      "Requirement already satisfied: colorama in c:\\users\\antid\\appdata\\local\\packages\\pythonsoftwarefoundation.python.3.9_qbz5n2kfra8p0\\localcache\\local-packages\\python39\\site-packages (from crayons->webdriver-manager) (0.4.4)\n",
      "Requirement already satisfied: idna<4,>=2.5 in c:\\users\\antid\\appdata\\local\\packages\\pythonsoftwarefoundation.python.3.9_qbz5n2kfra8p0\\localcache\\local-packages\\python39\\site-packages (from requests->webdriver-manager) (3.2)\n",
      "Requirement already satisfied: charset-normalizer~=2.0.0 in c:\\users\\antid\\appdata\\local\\packages\\pythonsoftwarefoundation.python.3.9_qbz5n2kfra8p0\\localcache\\local-packages\\python39\\site-packages (from requests->webdriver-manager) (2.0.6)\n",
      "Requirement already satisfied: urllib3<1.27,>=1.21.1 in c:\\users\\antid\\appdata\\local\\packages\\pythonsoftwarefoundation.python.3.9_qbz5n2kfra8p0\\localcache\\local-packages\\python39\\site-packages (from requests->webdriver-manager) (1.26.7)\n",
      "Requirement already satisfied: certifi>=2017.4.17 in c:\\users\\antid\\appdata\\local\\packages\\pythonsoftwarefoundation.python.3.9_qbz5n2kfra8p0\\localcache\\local-packages\\python39\\site-packages (from requests->webdriver-manager) (2021.5.30)\n",
      "Installing collected packages: crayons, configparser, webdriver-manager\n",
      "Successfully installed configparser-5.2.0 crayons-0.4.0 webdriver-manager-3.5.2\n"
     ]
    }
   ],
   "source": [
    "!pip install webdriver-manager\n",
    "from selenium import webdriver\n",
    "from webdriver_manager.chrome import ChromeDriverManager"
   ]
  },
  {
   "cell_type": "code",
   "execution_count": 19,
   "metadata": {},
   "outputs": [
    {
     "name": "stdout",
     "output_type": "stream",
     "text": [
      "Requirement already satisfied: pymystem3 in c:\\users\\antid\\appdata\\local\\packages\\pythonsoftwarefoundation.python.3.9_qbz5n2kfra8p0\\localcache\\local-packages\\python39\\site-packages (0.2.0)\n",
      "Requirement already satisfied: selenium in c:\\users\\antid\\appdata\\local\\packages\\pythonsoftwarefoundation.python.3.9_qbz5n2kfra8p0\\localcache\\local-packages\\python39\\site-packages (4.1.0)\n",
      "Requirement already satisfied: html2text in c:\\users\\antid\\appdata\\local\\packages\\pythonsoftwarefoundation.python.3.9_qbz5n2kfra8p0\\localcache\\local-packages\\python39\\site-packages (2020.1.16)\n",
      "Requirement already satisfied: requests in c:\\users\\antid\\appdata\\local\\packages\\pythonsoftwarefoundation.python.3.9_qbz5n2kfra8p0\\localcache\\local-packages\\python39\\site-packages (2.26.0)\n",
      "Requirement already satisfied: beautifulsoup4 in c:\\users\\antid\\appdata\\local\\packages\\pythonsoftwarefoundation.python.3.9_qbz5n2kfra8p0\\localcache\\local-packages\\python39\\site-packages (4.10.0)\n",
      "Requirement already satisfied: atlas in c:\\users\\antid\\appdata\\local\\packages\\pythonsoftwarefoundation.python.3.9_qbz5n2kfra8p0\\localcache\\local-packages\\python39\\site-packages (0.27.0)\n",
      "Requirement already satisfied: json2xml in c:\\users\\antid\\appdata\\local\\packages\\pythonsoftwarefoundation.python.3.9_qbz5n2kfra8p0\\localcache\\local-packages\\python39\\site-packages (3.9.0)\n",
      "Collecting lxml\n",
      "  Downloading lxml-4.7.1-cp39-cp39-win_amd64.whl (3.7 MB)\n",
      "Requirement already satisfied: trio-websocket~=0.9 in c:\\users\\antid\\appdata\\local\\packages\\pythonsoftwarefoundation.python.3.9_qbz5n2kfra8p0\\localcache\\local-packages\\python39\\site-packages (from selenium) (0.9.2)\n",
      "Requirement already satisfied: urllib3[secure]~=1.26 in c:\\users\\antid\\appdata\\local\\packages\\pythonsoftwarefoundation.python.3.9_qbz5n2kfra8p0\\localcache\\local-packages\\python39\\site-packages (from selenium) (1.26.7)\n",
      "Requirement already satisfied: trio~=0.17 in c:\\users\\antid\\appdata\\local\\packages\\pythonsoftwarefoundation.python.3.9_qbz5n2kfra8p0\\localcache\\local-packages\\python39\\site-packages (from selenium) (0.19.0)\n",
      "Requirement already satisfied: certifi>=2017.4.17 in c:\\users\\antid\\appdata\\local\\packages\\pythonsoftwarefoundation.python.3.9_qbz5n2kfra8p0\\localcache\\local-packages\\python39\\site-packages (from requests) (2021.5.30)\n",
      "Requirement already satisfied: charset-normalizer~=2.0.0 in c:\\users\\antid\\appdata\\local\\packages\\pythonsoftwarefoundation.python.3.9_qbz5n2kfra8p0\\localcache\\local-packages\\python39\\site-packages (from requests) (2.0.6)\n",
      "Requirement already satisfied: idna<4,>=2.5 in c:\\users\\antid\\appdata\\local\\packages\\pythonsoftwarefoundation.python.3.9_qbz5n2kfra8p0\\localcache\\local-packages\\python39\\site-packages (from requests) (3.2)\n",
      "Requirement already satisfied: soupsieve>1.2 in c:\\users\\antid\\appdata\\local\\packages\\pythonsoftwarefoundation.python.3.9_qbz5n2kfra8p0\\localcache\\local-packages\\python39\\site-packages (from beautifulsoup4) (2.3.1)\n",
      "Requirement already satisfied: threadpool>=1.2.4 in c:\\users\\antid\\appdata\\local\\packages\\pythonsoftwarefoundation.python.3.9_qbz5n2kfra8p0\\localcache\\local-packages\\python39\\site-packages (from atlas) (1.3.2)\n",
      "Requirement already satisfied: packaging==21.0 in c:\\users\\antid\\appdata\\local\\packages\\pythonsoftwarefoundation.python.3.9_qbz5n2kfra8p0\\localcache\\local-packages\\python39\\site-packages (from json2xml) (21.0)\n",
      "Requirement already satisfied: xmltodict==0.12.0 in c:\\users\\antid\\appdata\\local\\packages\\pythonsoftwarefoundation.python.3.9_qbz5n2kfra8p0\\localcache\\local-packages\\python39\\site-packages (from json2xml) (0.12.0)\n",
      "Requirement already satisfied: zipp==3.6.0 in c:\\users\\antid\\appdata\\local\\packages\\pythonsoftwarefoundation.python.3.9_qbz5n2kfra8p0\\localcache\\local-packages\\python39\\site-packages (from json2xml) (3.6.0)\n",
      "Requirement already satisfied: attrs==21.2.0 in c:\\users\\antid\\appdata\\local\\packages\\pythonsoftwarefoundation.python.3.9_qbz5n2kfra8p0\\localcache\\local-packages\\python39\\site-packages (from json2xml) (21.2.0)\n",
      "Requirement already satisfied: pluggy==1.0.0 in c:\\users\\antid\\appdata\\local\\packages\\pythonsoftwarefoundation.python.3.9_qbz5n2kfra8p0\\localcache\\local-packages\\python39\\site-packages (from json2xml) (1.0.0)\n",
      "Requirement already satisfied: importlib-metadata==4.8.1 in c:\\users\\antid\\appdata\\local\\packages\\pythonsoftwarefoundation.python.3.9_qbz5n2kfra8p0\\localcache\\local-packages\\python39\\site-packages (from json2xml) (4.8.1)\n",
      "Requirement already satisfied: py==1.10.0 in c:\\users\\antid\\appdata\\local\\packages\\pythonsoftwarefoundation.python.3.9_qbz5n2kfra8p0\\localcache\\local-packages\\python39\\site-packages (from json2xml) (1.10.0)\n",
      "Requirement already satisfied: typing-extensions==3.10.0.2 in c:\\users\\antid\\appdata\\local\\packages\\pythonsoftwarefoundation.python.3.9_qbz5n2kfra8p0\\localcache\\local-packages\\python39\\site-packages (from json2xml) (3.10.0.2)\n",
      "Requirement already satisfied: iniconfig==1.1.1 in c:\\users\\antid\\appdata\\local\\packages\\pythonsoftwarefoundation.python.3.9_qbz5n2kfra8p0\\localcache\\local-packages\\python39\\site-packages (from json2xml) (1.1.1)\n",
      "Requirement already satisfied: toml==0.10.2 in c:\\users\\antid\\appdata\\local\\packages\\pythonsoftwarefoundation.python.3.9_qbz5n2kfra8p0\\localcache\\local-packages\\python39\\site-packages (from json2xml) (0.10.2)\n",
      "Requirement already satisfied: pyparsing==2.4.7 in c:\\users\\antid\\appdata\\local\\packages\\pythonsoftwarefoundation.python.3.9_qbz5n2kfra8p0\\localcache\\local-packages\\python39\\site-packages (from json2xml) (2.4.7)\n",
      "Requirement already satisfied: defusedxml==0.7.1 in c:\\users\\antid\\appdata\\local\\packages\\pythonsoftwarefoundation.python.3.9_qbz5n2kfra8p0\\localcache\\local-packages\\python39\\site-packages (from json2xml) (0.7.1)\n",
      "Requirement already satisfied: pytest==6.2.5 in c:\\users\\antid\\appdata\\local\\packages\\pythonsoftwarefoundation.python.3.9_qbz5n2kfra8p0\\localcache\\local-packages\\python39\\site-packages (from json2xml) (6.2.5)\n",
      "Requirement already satisfied: atomicwrites>=1.0 in c:\\users\\antid\\appdata\\local\\packages\\pythonsoftwarefoundation.python.3.9_qbz5n2kfra8p0\\localcache\\local-packages\\python39\\site-packages (from pytest==6.2.5->json2xml) (1.4.0)\n",
      "Requirement already satisfied: colorama in c:\\users\\antid\\appdata\\local\\packages\\pythonsoftwarefoundation.python.3.9_qbz5n2kfra8p0\\localcache\\local-packages\\python39\\site-packages (from pytest==6.2.5->json2xml) (0.4.4)\n",
      "Requirement already satisfied: async-generator>=1.9 in c:\\users\\antid\\appdata\\local\\packages\\pythonsoftwarefoundation.python.3.9_qbz5n2kfra8p0\\localcache\\local-packages\\python39\\site-packages (from trio~=0.17->selenium) (1.10)\n",
      "Requirement already satisfied: cffi>=1.14 in c:\\users\\antid\\appdata\\local\\packages\\pythonsoftwarefoundation.python.3.9_qbz5n2kfra8p0\\localcache\\local-packages\\python39\\site-packages (from trio~=0.17->selenium) (1.15.0)\n",
      "Requirement already satisfied: sortedcontainers in c:\\users\\antid\\appdata\\local\\packages\\pythonsoftwarefoundation.python.3.9_qbz5n2kfra8p0\\localcache\\local-packages\\python39\\site-packages (from trio~=0.17->selenium) (2.4.0)\n",
      "Requirement already satisfied: outcome in c:\\users\\antid\\appdata\\local\\packages\\pythonsoftwarefoundation.python.3.9_qbz5n2kfra8p0\\localcache\\local-packages\\python39\\site-packages (from trio~=0.17->selenium) (1.1.0)\n",
      "Requirement already satisfied: sniffio in c:\\users\\antid\\appdata\\local\\packages\\pythonsoftwarefoundation.python.3.9_qbz5n2kfra8p0\\localcache\\local-packages\\python39\\site-packages (from trio~=0.17->selenium) (1.2.0)\n",
      "Requirement already satisfied: wsproto>=0.14 in c:\\users\\antid\\appdata\\local\\packages\\pythonsoftwarefoundation.python.3.9_qbz5n2kfra8p0\\localcache\\local-packages\\python39\\site-packages (from trio-websocket~=0.9->selenium) (1.0.0)\n",
      "Requirement already satisfied: cryptography>=1.3.4 in c:\\users\\antid\\appdata\\local\\packages\\pythonsoftwarefoundation.python.3.9_qbz5n2kfra8p0\\localcache\\local-packages\\python39\\site-packages (from urllib3[secure]~=1.26->selenium) (36.0.1)\n",
      "Requirement already satisfied: pyOpenSSL>=0.14 in c:\\users\\antid\\appdata\\local\\packages\\pythonsoftwarefoundation.python.3.9_qbz5n2kfra8p0\\localcache\\local-packages\\python39\\site-packages (from urllib3[secure]~=1.26->selenium) (21.0.0)\n",
      "Requirement already satisfied: pycparser in c:\\users\\antid\\appdata\\local\\packages\\pythonsoftwarefoundation.python.3.9_qbz5n2kfra8p0\\localcache\\local-packages\\python39\\site-packages (from cffi>=1.14->trio~=0.17->selenium) (2.21)\n",
      "Requirement already satisfied: six>=1.5.2 in c:\\users\\antid\\appdata\\local\\packages\\pythonsoftwarefoundation.python.3.9_qbz5n2kfra8p0\\localcache\\local-packages\\python39\\site-packages (from pyOpenSSL>=0.14->urllib3[secure]~=1.26->selenium) (1.16.0)\n",
      "Requirement already satisfied: h11<1,>=0.9.0 in c:\\users\\antid\\appdata\\local\\packages\\pythonsoftwarefoundation.python.3.9_qbz5n2kfra8p0\\localcache\\local-packages\\python39\\site-packages (from wsproto>=0.14->trio-websocket~=0.9->selenium) (0.12.0)\n",
      "Installing collected packages: lxml\n",
      "Successfully installed lxml-4.7.1\n"
     ]
    }
   ],
   "source": [
    "!pip install pymystem3 selenium html2text requests beautifulsoup4 atlas json2xml lxml"
   ]
  },
  {
   "cell_type": "code",
   "execution_count": 6,
   "metadata": {},
   "outputs": [
    {
     "name": "stdout",
     "output_type": "stream",
     "text": [
      "Requirement already satisfied: tqdm in c:\\users\\antid\\appdata\\local\\packages\\pythonsoftwarefoundation.python.3.9_qbz5n2kfra8p0\\localcache\\local-packages\\python39\\site-packages (4.62.3)\n",
      "Collecting pandas\n",
      "  Downloading pandas-1.3.5-cp39-cp39-win_amd64.whl (10.2 MB)\n",
      "Collecting sklearn\n",
      "  Downloading sklearn-0.0.tar.gz (1.1 kB)\n",
      "  Preparing metadata (setup.py): started\n",
      "  Preparing metadata (setup.py): finished with status 'done'\n",
      "Requirement already satisfied: colorama in c:\\users\\antid\\appdata\\local\\packages\\pythonsoftwarefoundation.python.3.9_qbz5n2kfra8p0\\localcache\\local-packages\\python39\\site-packages (from tqdm) (0.4.4)\n",
      "Requirement already satisfied: python-dateutil>=2.7.3 in c:\\users\\antid\\appdata\\local\\packages\\pythonsoftwarefoundation.python.3.9_qbz5n2kfra8p0\\localcache\\local-packages\\python39\\site-packages (from pandas) (2.8.2)\n",
      "Collecting pytz>=2017.3\n",
      "  Downloading pytz-2021.3-py2.py3-none-any.whl (503 kB)\n",
      "Collecting numpy>=1.17.3\n",
      "  Downloading numpy-1.22.1-cp39-cp39-win_amd64.whl (14.7 MB)\n",
      "Collecting scikit-learn\n",
      "  Downloading scikit_learn-1.0.2-cp39-cp39-win_amd64.whl (7.2 MB)\n",
      "Requirement already satisfied: six>=1.5 in c:\\users\\antid\\appdata\\local\\packages\\pythonsoftwarefoundation.python.3.9_qbz5n2kfra8p0\\localcache\\local-packages\\python39\\site-packages (from python-dateutil>=2.7.3->pandas) (1.16.0)\n",
      "Collecting scipy>=1.1.0\n",
      "  Downloading scipy-1.7.3-cp39-cp39-win_amd64.whl (34.3 MB)\n",
      "Collecting joblib>=0.11\n",
      "  Downloading joblib-1.1.0-py2.py3-none-any.whl (306 kB)\n",
      "Collecting threadpoolctl>=2.0.0\n",
      "  Downloading threadpoolctl-3.0.0-py3-none-any.whl (14 kB)\n",
      "Using legacy 'setup.py install' for sklearn, since package 'wheel' is not installed.\n",
      "Installing collected packages: numpy, threadpoolctl, scipy, joblib, scikit-learn, pytz, sklearn, pandas\n",
      "    Running setup.py install for sklearn: started\n",
      "    Running setup.py install for sklearn: finished with status 'done'\n",
      "Successfully installed joblib-1.1.0 numpy-1.22.1 pandas-1.3.5 pytz-2021.3 scikit-learn-1.0.2 scipy-1.7.3 sklearn-0.0 threadpoolctl-3.0.0\n"
     ]
    },
    {
     "name": "stderr",
     "output_type": "stream",
     "text": [
      "  WARNING: The script f2py.exe is installed in 'C:\\Users\\antid\\AppData\\Local\\Packages\\PythonSoftwareFoundation.Python.3.9_qbz5n2kfra8p0\\LocalCache\\local-packages\\Python39\\Scripts' which is not on PATH.\n",
      "  Consider adding this directory to PATH or, if you prefer to suppress this warning, use --no-warn-script-location.\n"
     ]
    }
   ],
   "source": [
    "!pip install tqdm pandas sklearn"
   ]
  },
  {
   "cell_type": "code",
   "execution_count": 31,
   "metadata": {},
   "outputs": [],
   "source": [
    "from selenium.webdriver import Chrome\n",
    "from selenium.webdriver.chrome.options import Options\n",
    "\n",
    "from time import sleep\n",
    "import tqdm\n",
    "import json\n",
    "import time\n",
    "\n",
    "import requests\n",
    "from bs4 import BeautifulSoup\n",
    "from html2text import html2text\n",
    "\n",
    "import pandas as pd\n",
    "from sklearn.feature_extraction.text import CountVectorizer"
   ]
  },
  {
   "cell_type": "code",
   "execution_count": 32,
   "metadata": {},
   "outputs": [],
   "source": [
    "import warnings\n",
    "warnings.filterwarnings('ignore')"
   ]
  },
  {
   "cell_type": "markdown",
   "metadata": {},
   "source": [
    "## 1. Парсинг URL адресов с новостями (Selenium)"
   ]
  },
  {
   "cell_type": "code",
   "execution_count": 200,
   "metadata": {},
   "outputs": [],
   "source": [
    "links_filename = \"links.txt\""
   ]
  },
  {
   "cell_type": "code",
   "execution_count": 201,
   "metadata": {},
   "outputs": [],
   "source": [
    "categories = [\"auto\", \"gorod\", \"health\", \"job\"]"
   ]
  },
  {
   "cell_type": "code",
   "execution_count": 202,
   "metadata": {},
   "outputs": [],
   "source": [
    "def page_link(category, page_num):\n",
    "    return f'https://www.nn.ru/text/?rubric={category}&page={page_num}'"
   ]
  },
  {
   "cell_type": "code",
   "execution_count": 203,
   "metadata": {},
   "outputs": [],
   "source": [
    "def parse_category_rambler(category, pages, output):\n",
    "    prefs = {\"profile.managed_default_content_settings.images\": 2,\n",
    "             \"profile.default_content_settings.cookies\": 2}\n",
    "    chrome_options = Options()\n",
    "    chrome_options.add_extension('adblock.crx')\n",
    "    chrome_options.add_experimental_option(\"prefs\",prefs)\n",
    "    chrome_options.add_argument('--disable-application-cache')\n",
    "    driver = webdriver.Chrome(ChromeDriverManager().install(), chrome_options=chrome_options)\n",
    "    driver.implicitly_wait(10)\n",
    "    driver.close()\n",
    "    print(\"Current session is {}\".format(driver.session_id))\n",
    "    driver.switch_to.window(driver.window_handles[0])\n",
    "    driver.get('chrome-extension://gighmmpiobklfepjocnamgkkbiglidom/options.html')\n",
    "    driver.find_element_by_id('acceptable_ads').click()#adblock customization\n",
    "    driver.get('https://www.nn.ru/text/?rubric=job&page=1')\n",
    "\n",
    "    for page in tqdm.tqdm(range(1, pages + 1),position=1):\n",
    "        driver.get(page_link(category, page))\n",
    "        for element in tqdm.tqdm(driver.find_elements_by_xpath(\"//article\"),position=0):\n",
    "            with open(output,'a') as file:\n",
    "                file.write(json.dumps({\n",
    "                    'link' : element.find_element_by_tag_name('a').get_attribute('href'),\n",
    "                    'category': category\n",
    "                },ensure_ascii=False) + '\\n')\n",
    "    driver.quit()"
   ]
  },
  {
   "cell_type": "code",
   "execution_count": 204,
   "metadata": {},
   "outputs": [
    {
     "name": "stderr",
     "output_type": "stream",
     "text": [
      "\n",
      "\n",
      "====== WebDriver manager ======\n",
      "Current google-chrome version is 97.0.4692\n",
      "Get LATEST chromedriver version for 97.0.4692 google-chrome\n",
      "Driver [C:\\Users\\antid\\.wdm\\drivers\\chromedriver\\win32\\97.0.4692.71\\chromedriver.exe] found in cache\n"
     ]
    },
    {
     "name": "stdout",
     "output_type": "stream",
     "text": [
      "Current session is 74558c45a604a53fb3382f8af4d13730\n"
     ]
    },
    {
     "name": "stderr",
     "output_type": "stream",
     "text": [
      "\n",
      "100%|████████████████████████████████████████████████████████████████████████████| 40/40 [00:00<00:00, 72.04it/s]\u001b[A\n",
      "\n",
      "100%|████████████████████████████████████████████████████████████████████████████| 40/40 [00:00<00:00, 65.86it/s]\u001b[A\n",
      "\n",
      "100%|████████████████████████████████████████████████████████████████████████████| 40/40 [00:00<00:00, 65.68it/s]\u001b[A\n",
      "\n",
      "100%|████████████████████████████████████████████████████████████████████████████| 40/40 [00:00<00:00, 64.78it/s]\u001b[A\n",
      "\n",
      "100%|████████████████████████████████████████████████████████████████████████████| 40/40 [00:00<00:00, 63.05it/s]\u001b[A\n",
      "\n",
      "100%|████████████████████████████████████████████████████████████████████████████| 40/40 [00:00<00:00, 60.91it/s]\u001b[A\n",
      "\n",
      "100%|████████████████████████████████████████████████████████████████████████████| 40/40 [00:00<00:00, 63.03it/s]\u001b[A\n",
      "\n",
      "100%|████████████████████████████████████████████████████████████████████████████| 40/40 [00:00<00:00, 57.97it/s]\u001b[A\n",
      "\n",
      "100%|████████████████████████████████████████████████████████████████████████████| 40/40 [00:00<00:00, 58.31it/s]\u001b[A\n",
      "\n",
      "100%|████████████████████████████████████████████████████████████████████████████| 40/40 [00:00<00:00, 58.19it/s]\u001b[A\n",
      "\n",
      "100%|████████████████████████████████████████████████████████████████████████████| 40/40 [00:00<00:00, 55.34it/s]\u001b[A\n",
      "\n",
      "100%|████████████████████████████████████████████████████████████████████████████| 40/40 [00:00<00:00, 53.71it/s]\u001b[A\n",
      "\n",
      "100%|████████████████████████████████████████████████████████████████████████████| 40/40 [00:00<00:00, 52.48it/s]\u001b[A\n",
      "\n",
      "100%|████████████████████████████████████████████████████████████████████████████| 40/40 [00:00<00:00, 48.03it/s]\u001b[A\n",
      "\n",
      "100%|████████████████████████████████████████████████████████████████████████████| 40/40 [00:00<00:00, 50.73it/s]\u001b[A\n",
      "\n",
      "100%|████████████████████████████████████████████████████████████████████████████| 40/40 [00:00<00:00, 50.17it/s]\u001b[A\n",
      "\n",
      "100%|████████████████████████████████████████████████████████████████████████████| 40/40 [00:00<00:00, 46.71it/s]\u001b[A\n",
      "\n",
      "100%|████████████████████████████████████████████████████████████████████████████| 40/40 [00:00<00:00, 41.53it/s]\u001b[A\n",
      "\n",
      "100%|████████████████████████████████████████████████████████████████████████████| 40/40 [00:00<00:00, 49.88it/s]\u001b[A\n",
      "\n",
      "100%|████████████████████████████████████████████████████████████████████████████| 40/40 [00:00<00:00, 55.34it/s]\u001b[A\n",
      "\n",
      "100%|████████████████████████████████████████████████████████████████████████████| 40/40 [00:00<00:00, 53.88it/s]\u001b[A\n",
      "\n",
      "100%|████████████████████████████████████████████████████████████████████████████| 40/40 [00:00<00:00, 48.15it/s]\u001b[A\n",
      "\n",
      "100%|████████████████████████████████████████████████████████████████████████████| 40/40 [00:00<00:00, 51.80it/s]\u001b[A\n",
      "\n",
      "100%|████████████████████████████████████████████████████████████████████████████| 40/40 [00:00<00:00, 50.28it/s]\u001b[A\n",
      "\n",
      "100%|████████████████████████████████████████████████████████████████████████████| 40/40 [00:00<00:00, 47.50it/s]\u001b[A\n",
      "\n",
      "100%|████████████████████████████████████████████████████████████████████████████| 40/40 [00:00<00:00, 45.12it/s]\u001b[A\n",
      "\n",
      "100%|████████████████████████████████████████████████████████████████████████████| 26/26 [00:37<00:00,  1.46s/it]\u001b[A\n",
      "\n",
      "\n",
      "====== WebDriver manager ======\n",
      "Current google-chrome version is 97.0.4692\n",
      "Get LATEST chromedriver version for 97.0.4692 google-chrome\n",
      "Driver [C:\\Users\\antid\\.wdm\\drivers\\chromedriver\\win32\\97.0.4692.71\\chromedriver.exe] found in cache\n"
     ]
    },
    {
     "name": "stdout",
     "output_type": "stream",
     "text": [
      "Current session is 006a28e129ec8db178ed04b486e9c056\n"
     ]
    },
    {
     "name": "stderr",
     "output_type": "stream",
     "text": [
      "\n",
      "100%|████████████████████████████████████████████████████████████████████████████| 40/40 [00:00<00:00, 71.00it/s]\u001b[A\n",
      "\n",
      "100%|████████████████████████████████████████████████████████████████████████████| 40/40 [00:00<00:00, 65.57it/s]\u001b[A\n",
      "\n",
      "100%|████████████████████████████████████████████████████████████████████████████| 40/40 [00:00<00:00, 61.15it/s]\u001b[A\n",
      "\n",
      "100%|████████████████████████████████████████████████████████████████████████████| 40/40 [00:00<00:00, 62.27it/s]\u001b[A\n",
      "\n",
      "100%|████████████████████████████████████████████████████████████████████████████| 40/40 [00:00<00:00, 63.54it/s]\u001b[A\n",
      "\n",
      "100%|████████████████████████████████████████████████████████████████████████████| 40/40 [00:00<00:00, 62.36it/s]\u001b[A\n",
      "\n",
      "100%|████████████████████████████████████████████████████████████████████████████| 40/40 [00:00<00:00, 60.12it/s]\u001b[A\n",
      "\n",
      "100%|████████████████████████████████████████████████████████████████████████████| 40/40 [00:00<00:00, 58.50it/s]\u001b[A\n",
      "\n",
      "100%|████████████████████████████████████████████████████████████████████████████| 40/40 [00:00<00:00, 58.46it/s]\u001b[A\n",
      "\n",
      "100%|████████████████████████████████████████████████████████████████████████████| 40/40 [00:00<00:00, 55.57it/s]\u001b[A\n",
      "\n",
      "100%|████████████████████████████████████████████████████████████████████████████| 40/40 [00:00<00:00, 61.09it/s]\u001b[A\n",
      "\n",
      "100%|████████████████████████████████████████████████████████████████████████████| 40/40 [00:00<00:00, 59.03it/s]\u001b[A\n",
      "\n",
      "100%|████████████████████████████████████████████████████████████████████████████| 40/40 [00:00<00:00, 56.29it/s]\u001b[A\n",
      "\n",
      "100%|████████████████████████████████████████████████████████████████████████████| 40/40 [00:00<00:00, 57.39it/s]\u001b[A\n",
      "\n",
      "100%|████████████████████████████████████████████████████████████████████████████| 40/40 [00:00<00:00, 54.91it/s]\u001b[A\n",
      "\n",
      "100%|████████████████████████████████████████████████████████████████████████████| 40/40 [00:00<00:00, 60.27it/s]\u001b[A\n",
      "\n",
      "100%|████████████████████████████████████████████████████████████████████████████| 40/40 [00:00<00:00, 61.01it/s]\u001b[A\n",
      "\n",
      "100%|████████████████████████████████████████████████████████████████████████████| 40/40 [00:00<00:00, 65.00it/s]\u001b[A\n",
      "\n",
      "100%|████████████████████████████████████████████████████████████████████████████| 40/40 [00:00<00:00, 66.33it/s]\u001b[A\n",
      "\n",
      "100%|████████████████████████████████████████████████████████████████████████████| 40/40 [00:00<00:00, 64.08it/s]\u001b[A\n",
      "\n",
      "100%|████████████████████████████████████████████████████████████████████████████| 40/40 [00:00<00:00, 63.15it/s]\u001b[A\n",
      "\n",
      "100%|████████████████████████████████████████████████████████████████████████████| 40/40 [00:00<00:00, 61.36it/s]\u001b[A\n",
      "\n",
      "100%|████████████████████████████████████████████████████████████████████████████| 40/40 [00:00<00:00, 60.34it/s]\u001b[A\n",
      "\n",
      "100%|████████████████████████████████████████████████████████████████████████████| 40/40 [00:00<00:00, 57.43it/s]\u001b[A\n",
      "\n",
      "100%|████████████████████████████████████████████████████████████████████████████| 40/40 [00:00<00:00, 61.83it/s]\u001b[A\n",
      "\n",
      "100%|████████████████████████████████████████████████████████████████████████████| 40/40 [00:00<00:00, 60.45it/s]\u001b[A\n",
      "\n",
      "100%|████████████████████████████████████████████████████████████████████████████| 26/26 [00:35<00:00,  1.38s/it]\u001b[A\n",
      "\n",
      "\n",
      "====== WebDriver manager ======\n",
      "Current google-chrome version is 97.0.4692\n",
      "Get LATEST chromedriver version for 97.0.4692 google-chrome\n",
      "Driver [C:\\Users\\antid\\.wdm\\drivers\\chromedriver\\win32\\97.0.4692.71\\chromedriver.exe] found in cache\n"
     ]
    },
    {
     "name": "stdout",
     "output_type": "stream",
     "text": [
      "Current session is 5bfc914c7e74565b115a6587fd2b01e4\n"
     ]
    },
    {
     "name": "stderr",
     "output_type": "stream",
     "text": [
      "\n",
      "100%|████████████████████████████████████████████████████████████████████████████| 40/40 [00:00<00:00, 67.00it/s]\u001b[A\n",
      "\n",
      "100%|████████████████████████████████████████████████████████████████████████████| 40/40 [00:00<00:00, 64.05it/s]\u001b[A\n",
      "\n",
      "100%|████████████████████████████████████████████████████████████████████████████| 40/40 [00:00<00:00, 56.89it/s]\u001b[A\n",
      "\n",
      "100%|████████████████████████████████████████████████████████████████████████████| 40/40 [00:00<00:00, 65.44it/s]\u001b[A\n",
      "\n",
      "100%|████████████████████████████████████████████████████████████████████████████| 40/40 [00:00<00:00, 59.72it/s]\u001b[A\n",
      "\n",
      "100%|████████████████████████████████████████████████████████████████████████████| 40/40 [00:00<00:00, 63.14it/s]\u001b[A\n",
      "\n",
      "100%|████████████████████████████████████████████████████████████████████████████| 40/40 [00:00<00:00, 61.09it/s]\u001b[A\n",
      "\n",
      "100%|████████████████████████████████████████████████████████████████████████████| 40/40 [00:00<00:00, 61.70it/s]\u001b[A\n",
      "\n",
      "100%|████████████████████████████████████████████████████████████████████████████| 40/40 [00:00<00:00, 60.37it/s]\u001b[A\n",
      "\n",
      "100%|████████████████████████████████████████████████████████████████████████████| 40/40 [00:00<00:00, 55.58it/s]\u001b[A\n",
      "\n",
      "100%|████████████████████████████████████████████████████████████████████████████| 40/40 [00:00<00:00, 47.28it/s]\u001b[A\n",
      "\n",
      "100%|████████████████████████████████████████████████████████████████████████████| 40/40 [00:00<00:00, 55.11it/s]\u001b[A\n",
      "\n",
      "100%|████████████████████████████████████████████████████████████████████████████| 40/40 [00:00<00:00, 54.89it/s]\u001b[A\n",
      "\n",
      "100%|████████████████████████████████████████████████████████████████████████████| 40/40 [00:00<00:00, 54.15it/s]\u001b[A\n",
      "\n",
      "100%|████████████████████████████████████████████████████████████████████████████| 40/40 [00:00<00:00, 54.85it/s]\u001b[A\n",
      "\n",
      "100%|████████████████████████████████████████████████████████████████████████████| 40/40 [00:00<00:00, 55.46it/s]\u001b[A\n",
      "\n",
      "100%|████████████████████████████████████████████████████████████████████████████| 40/40 [00:00<00:00, 55.11it/s]\u001b[A\n",
      "\n",
      "100%|████████████████████████████████████████████████████████████████████████████| 40/40 [00:00<00:00, 52.41it/s]\u001b[A\n",
      "\n",
      "100%|████████████████████████████████████████████████████████████████████████████| 40/40 [00:00<00:00, 59.01it/s]\u001b[A\n",
      "\n",
      "100%|████████████████████████████████████████████████████████████████████████████| 40/40 [00:00<00:00, 55.87it/s]\u001b[A\n",
      "\n",
      "100%|████████████████████████████████████████████████████████████████████████████| 40/40 [00:00<00:00, 58.93it/s]\u001b[A\n",
      "\n",
      "100%|████████████████████████████████████████████████████████████████████████████| 40/40 [00:00<00:00, 56.55it/s]\u001b[A\n",
      "\n",
      "100%|████████████████████████████████████████████████████████████████████████████| 40/40 [00:00<00:00, 62.64it/s]\u001b[A\n",
      "\n",
      "100%|████████████████████████████████████████████████████████████████████████████| 40/40 [00:00<00:00, 58.53it/s]\u001b[A\n",
      "\n",
      "100%|████████████████████████████████████████████████████████████████████████████| 40/40 [00:00<00:00, 64.69it/s]\u001b[A\n",
      "\n",
      "100%|████████████████████████████████████████████████████████████████████████████| 40/40 [00:00<00:00, 62.78it/s]\u001b[A\n",
      "\n",
      "100%|████████████████████████████████████████████████████████████████████████████| 26/26 [00:37<00:00,  1.43s/it]\u001b[A\n",
      "\n",
      "\n",
      "====== WebDriver manager ======\n",
      "Current google-chrome version is 97.0.4692\n",
      "Get LATEST chromedriver version for 97.0.4692 google-chrome\n",
      "Driver [C:\\Users\\antid\\.wdm\\drivers\\chromedriver\\win32\\97.0.4692.71\\chromedriver.exe] found in cache\n"
     ]
    },
    {
     "name": "stdout",
     "output_type": "stream",
     "text": [
      "Current session is 278446fc1a7d3d5fc80f394e915b5b98\n"
     ]
    },
    {
     "name": "stderr",
     "output_type": "stream",
     "text": [
      "\n",
      "100%|████████████████████████████████████████████████████████████████████████████| 40/40 [00:00<00:00, 74.77it/s]\u001b[A\n",
      "\n",
      "100%|████████████████████████████████████████████████████████████████████████████| 40/40 [00:00<00:00, 70.35it/s]\u001b[A\n",
      "\n",
      "100%|████████████████████████████████████████████████████████████████████████████| 40/40 [00:00<00:00, 63.58it/s]\u001b[A\n",
      "\n",
      "100%|████████████████████████████████████████████████████████████████████████████| 40/40 [00:00<00:00, 68.74it/s]\u001b[A\n",
      "\n",
      "100%|████████████████████████████████████████████████████████████████████████████| 40/40 [00:00<00:00, 66.57it/s]\u001b[A\n",
      "\n",
      "100%|████████████████████████████████████████████████████████████████████████████| 40/40 [00:00<00:00, 62.19it/s]\u001b[A\n",
      "\n",
      "100%|████████████████████████████████████████████████████████████████████████████| 40/40 [00:00<00:00, 61.25it/s]\u001b[A\n",
      "\n",
      "100%|████████████████████████████████████████████████████████████████████████████| 40/40 [00:00<00:00, 59.45it/s]\u001b[A\n",
      "\n",
      "100%|████████████████████████████████████████████████████████████████████████████| 40/40 [00:00<00:00, 51.06it/s]\u001b[A\n",
      "\n",
      "100%|████████████████████████████████████████████████████████████████████████████| 40/40 [00:00<00:00, 57.13it/s]\u001b[A\n",
      "\n",
      "100%|████████████████████████████████████████████████████████████████████████████| 40/40 [00:00<00:00, 57.50it/s]\u001b[A\n",
      "\n",
      "100%|████████████████████████████████████████████████████████████████████████████| 40/40 [00:00<00:00, 55.63it/s]\u001b[A\n",
      "\n",
      "100%|████████████████████████████████████████████████████████████████████████████| 40/40 [00:00<00:00, 56.30it/s]\u001b[A\n",
      "\n",
      "100%|████████████████████████████████████████████████████████████████████████████| 40/40 [00:00<00:00, 56.26it/s]\u001b[A\n",
      "\n",
      "100%|████████████████████████████████████████████████████████████████████████████| 40/40 [00:00<00:00, 55.85it/s]\u001b[A\n",
      "\n",
      "100%|████████████████████████████████████████████████████████████████████████████| 40/40 [00:00<00:00, 57.42it/s]\u001b[A\n",
      "\n",
      "100%|████████████████████████████████████████████████████████████████████████████| 40/40 [00:00<00:00, 56.66it/s]\u001b[A\n",
      "\n",
      "100%|████████████████████████████████████████████████████████████████████████████| 40/40 [00:00<00:00, 65.77it/s]\u001b[A\n",
      "\n",
      "100%|████████████████████████████████████████████████████████████████████████████| 40/40 [00:00<00:00, 63.42it/s]\u001b[A\n",
      "\n",
      "100%|████████████████████████████████████████████████████████████████████████████| 40/40 [00:00<00:00, 62.61it/s]\u001b[A\n",
      "\n",
      "100%|████████████████████████████████████████████████████████████████████████████| 40/40 [00:00<00:00, 60.05it/s]\u001b[A\n",
      "\n",
      "100%|████████████████████████████████████████████████████████████████████████████| 40/40 [00:00<00:00, 58.42it/s]\u001b[A\n",
      "\n",
      "100%|████████████████████████████████████████████████████████████████████████████| 40/40 [00:00<00:00, 56.48it/s]\u001b[A\n",
      "\n",
      "100%|████████████████████████████████████████████████████████████████████████████| 40/40 [00:00<00:00, 62.17it/s]\u001b[A\n",
      "\n",
      "100%|████████████████████████████████████████████████████████████████████████████| 40/40 [00:00<00:00, 61.23it/s]\u001b[A\n",
      "\n",
      "100%|████████████████████████████████████████████████████████████████████████████| 24/24 [00:00<00:00, 61.28it/s]\u001b[A\n",
      "\n",
      "100%|████████████████████████████████████████████████████████████████████████████| 26/26 [00:35<00:00,  1.35s/it]\u001b[A\n"
     ]
    }
   ],
   "source": [
    "for cat in categories:\n",
    "    parse_category_rambler(cat, 26, links_filename)"
   ]
  },
  {
   "cell_type": "markdown",
   "metadata": {},
   "source": [
    "## 2. Парсинг новостей (BeautifulSoup + html2text)"
   ]
  },
  {
   "cell_type": "code",
   "execution_count": 205,
   "metadata": {},
   "outputs": [],
   "source": [
    "posts = []\n",
    "with open(links_filename) as file:\n",
    "    for line in file:\n",
    "        posts.append(json.loads(line))"
   ]
  },
  {
   "cell_type": "code",
   "execution_count": 206,
   "metadata": {},
   "outputs": [],
   "source": [
    "selected_posts = posts"
   ]
  },
  {
   "cell_type": "code",
   "execution_count": 208,
   "metadata": {},
   "outputs": [
    {
     "name": "stderr",
     "output_type": "stream",
     "text": [
      "100%|████████████████████████████████████████████████████████████████████████| 4144/4144 [51:00<00:00,  1.35it/s]\n"
     ]
    }
   ],
   "source": [
    "for element in tqdm.tqdm(selected_posts):\n",
    "    soup = BeautifulSoup(requests.get(element['link']).text, \"html.parser\")\n",
    "    text = ''\n",
    "    tags = []\n",
    "    \n",
    "    title_link = soup.find('h1', attrs={'itemprop':'headline'})\n",
    "    if title_link is None:\n",
    "        title = \"\"\n",
    "    else:\n",
    "        title = title_link.text\n",
    "    \n",
    "    body = soup.find('div', attrs={'itemprop':'articleBody'})\n",
    "    if (body is None):\n",
    "        continue\n",
    "        \n",
    "    for paragraph in body.find_all('p'):\n",
    "        text += html2text(paragraph.text).replace('\\n', ' ') + ' '\n",
    "    \n",
    "    for tag_link in soup.select('a[href^=\"/text/tags\"]'):\n",
    "        tags.append(tag_link.text)\n",
    "\n",
    "    with open('nn_news.json','a', encoding=\"utf-8\") as file:\n",
    "        file.write(json.dumps({\n",
    "            'article_id' : element['link'],\n",
    "            'category': element['category'],\n",
    "            'title': title,\n",
    "            'text': text,\n",
    "            'tags': tags\n",
    "        },ensure_ascii=False) + '\\n')"
   ]
  },
  {
   "cell_type": "markdown",
   "metadata": {},
   "source": [
    "## 3. Обзор полученных данных"
   ]
  },
  {
   "cell_type": "code",
   "execution_count": 209,
   "metadata": {},
   "outputs": [],
   "source": [
    "news = []\n",
    "with open('nn_news.json', 'r', encoding=\"utf-8\") as file:\n",
    "    for line in file:\n",
    "        news.append(json.loads(line))"
   ]
  },
  {
   "cell_type": "code",
   "execution_count": 210,
   "metadata": {},
   "outputs": [],
   "source": [
    "data = pd.DataFrame(news)"
   ]
  },
  {
   "cell_type": "code",
   "execution_count": 185,
   "metadata": {},
   "outputs": [
    {
     "data": {
      "text/html": [
       "<div>\n",
       "<style scoped>\n",
       "    .dataframe tbody tr th:only-of-type {\n",
       "        vertical-align: middle;\n",
       "    }\n",
       "\n",
       "    .dataframe tbody tr th {\n",
       "        vertical-align: top;\n",
       "    }\n",
       "\n",
       "    .dataframe thead th {\n",
       "        text-align: right;\n",
       "    }\n",
       "</style>\n",
       "<table border=\"1\" class=\"dataframe\">\n",
       "  <thead>\n",
       "    <tr style=\"text-align: right;\">\n",
       "      <th></th>\n",
       "      <th>link</th>\n",
       "      <th>category</th>\n",
       "      <th>text</th>\n",
       "      <th>tags</th>\n",
       "    </tr>\n",
       "  </thead>\n",
       "  <tbody>\n",
       "    <tr>\n",
       "      <th>0</th>\n",
       "      <td>https://www.nn.ru/text/auto/2022/01/12/70369148/</td>\n",
       "      <td>auto</td>\n",
       "      <td>ОСАГО сильно прибавило для неблагополучных вод...</td>\n",
       "      <td>[ОСАГО, автозакон, страховка]</td>\n",
       "    </tr>\n",
       "    <tr>\n",
       "      <th>1</th>\n",
       "      <td>https://www.nn.ru/text/auto/2022/01/11/70366607/</td>\n",
       "      <td>auto</td>\n",
       "      <td>Обязательный техосмотр для частных машин отмен...</td>\n",
       "      <td>[автозакон, техосмотр, автоликбез]</td>\n",
       "    </tr>\n",
       "    <tr>\n",
       "      <th>2</th>\n",
       "      <td>https://www.nn.ru/text/auto/2022/01/08/70343681/</td>\n",
       "      <td>auto</td>\n",
       "      <td>Автомобили снова стали для большинства из нас ...</td>\n",
       "      <td>[автопром, авторынок, цены на авто]</td>\n",
       "    </tr>\n",
       "    <tr>\n",
       "      <th>3</th>\n",
       "      <td>https://www.nn.ru/text/auto/2022/01/07/70350704/</td>\n",
       "      <td>auto</td>\n",
       "      <td>Главная премьера начала года — новый KIA Sport...</td>\n",
       "      <td>[автопром, авторынок, цены на авто]</td>\n",
       "    </tr>\n",
       "    <tr>\n",
       "      <th>4</th>\n",
       "      <td>https://www.nn.ru/text/auto/2022/01/04/70343603/</td>\n",
       "      <td>auto</td>\n",
       "      <td>Топливо дорожало весь прошлый год и установило...</td>\n",
       "      <td>[АЗС, бензин, топливо, цены на топливо]</td>\n",
       "    </tr>\n",
       "    <tr>\n",
       "      <th>...</th>\n",
       "      <td>...</td>\n",
       "      <td>...</td>\n",
       "      <td>...</td>\n",
       "      <td>...</td>\n",
       "    </tr>\n",
       "    <tr>\n",
       "      <th>3956</th>\n",
       "      <td>https://www.nn.ru/text/job/2015/03/30/26144492/</td>\n",
       "      <td>job</td>\n",
       "      <td>Поделиться   Исследование вакансий показало, ч...</td>\n",
       "      <td>[]</td>\n",
       "    </tr>\n",
       "    <tr>\n",
       "      <th>3957</th>\n",
       "      <td>https://www.nn.ru/text/job/2015/03/27/26144102/</td>\n",
       "      <td>job</td>\n",
       "      <td>Поделиться   На текущей неделе поправки в 64 с...</td>\n",
       "      <td>[]</td>\n",
       "    </tr>\n",
       "    <tr>\n",
       "      <th>3958</th>\n",
       "      <td>https://www.nn.ru/text/job/2015/03/25/26143602/</td>\n",
       "      <td>job</td>\n",
       "      <td>Поделиться   Год назад 35-летний нижегородец, ...</td>\n",
       "      <td>[]</td>\n",
       "    </tr>\n",
       "    <tr>\n",
       "      <th>3959</th>\n",
       "      <td>https://www.nn.ru/text/job/2015/03/23/26142992/</td>\n",
       "      <td>job</td>\n",
       "      <td>Поделиться   Всего в России насчитывается 36 т...</td>\n",
       "      <td>[]</td>\n",
       "    </tr>\n",
       "    <tr>\n",
       "      <th>3960</th>\n",
       "      <td>https://www.nn.ru/text/job/2015/03/17/26141612/</td>\n",
       "      <td>job</td>\n",
       "      <td>Поделиться   Законодательно не установлено, ко...</td>\n",
       "      <td>[]</td>\n",
       "    </tr>\n",
       "  </tbody>\n",
       "</table>\n",
       "<p>3961 rows × 4 columns</p>\n",
       "</div>"
      ],
      "text/plain": [
       "                                                  link category  \\\n",
       "0     https://www.nn.ru/text/auto/2022/01/12/70369148/     auto   \n",
       "1     https://www.nn.ru/text/auto/2022/01/11/70366607/     auto   \n",
       "2     https://www.nn.ru/text/auto/2022/01/08/70343681/     auto   \n",
       "3     https://www.nn.ru/text/auto/2022/01/07/70350704/     auto   \n",
       "4     https://www.nn.ru/text/auto/2022/01/04/70343603/     auto   \n",
       "...                                                ...      ...   \n",
       "3956   https://www.nn.ru/text/job/2015/03/30/26144492/      job   \n",
       "3957   https://www.nn.ru/text/job/2015/03/27/26144102/      job   \n",
       "3958   https://www.nn.ru/text/job/2015/03/25/26143602/      job   \n",
       "3959   https://www.nn.ru/text/job/2015/03/23/26142992/      job   \n",
       "3960   https://www.nn.ru/text/job/2015/03/17/26141612/      job   \n",
       "\n",
       "                                                   text  \\\n",
       "0     ОСАГО сильно прибавило для неблагополучных вод...   \n",
       "1     Обязательный техосмотр для частных машин отмен...   \n",
       "2     Автомобили снова стали для большинства из нас ...   \n",
       "3     Главная премьера начала года — новый KIA Sport...   \n",
       "4     Топливо дорожало весь прошлый год и установило...   \n",
       "...                                                 ...   \n",
       "3956  Поделиться   Исследование вакансий показало, ч...   \n",
       "3957  Поделиться   На текущей неделе поправки в 64 с...   \n",
       "3958  Поделиться   Год назад 35-летний нижегородец, ...   \n",
       "3959  Поделиться   Всего в России насчитывается 36 т...   \n",
       "3960  Поделиться   Законодательно не установлено, ко...   \n",
       "\n",
       "                                         tags  \n",
       "0               [ОСАГО, автозакон, страховка]  \n",
       "1          [автозакон, техосмотр, автоликбез]  \n",
       "2         [автопром, авторынок, цены на авто]  \n",
       "3         [автопром, авторынок, цены на авто]  \n",
       "4     [АЗС, бензин, топливо, цены на топливо]  \n",
       "...                                       ...  \n",
       "3956                                       []  \n",
       "3957                                       []  \n",
       "3958                                       []  \n",
       "3959                                       []  \n",
       "3960                                       []  \n",
       "\n",
       "[3961 rows x 4 columns]"
      ]
     },
     "execution_count": 185,
     "metadata": {},
     "output_type": "execute_result"
    }
   ],
   "source": [
    "data"
   ]
  },
  {
   "cell_type": "code",
   "execution_count": 211,
   "metadata": {},
   "outputs": [],
   "source": [
    "data_json_obj = {\"catalog\":[]}"
   ]
  },
  {
   "cell_type": "code",
   "execution_count": 212,
   "metadata": {},
   "outputs": [],
   "source": [
    "for i in range(len(data)):\n",
    "    data_json_obj[\"catalog\"].append(data.iloc[i].to_dict())"
   ]
  },
  {
   "cell_type": "markdown",
   "metadata": {},
   "source": [
    "## 4. Конвертирование в JSON формат"
   ]
  },
  {
   "cell_type": "code",
   "execution_count": 213,
   "metadata": {
    "scrolled": true
   },
   "outputs": [],
   "source": [
    "with open('result.json', 'a', encoding=\"utf-8\") as file:\n",
    "    file.write(json.dumps(data_json_obj, ensure_ascii=False))"
   ]
  },
  {
   "cell_type": "code",
   "execution_count": null,
   "metadata": {},
   "outputs": [],
   "source": []
  }
 ],
 "metadata": {
  "kernelspec": {
   "display_name": "Python 3 (ipykernel)",
   "language": "python",
   "name": "python3"
  },
  "language_info": {
   "codemirror_mode": {
    "name": "ipython",
    "version": 3
   },
   "file_extension": ".py",
   "mimetype": "text/x-python",
   "name": "python",
   "nbconvert_exporter": "python",
   "pygments_lexer": "ipython3",
   "version": "3.7.9"
  }
 },
 "nbformat": 4,
 "nbformat_minor": 2
}
